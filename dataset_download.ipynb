{
  "nbformat": 4,
  "nbformat_minor": 0,
  "metadata": {
    "colab": {
      "provenance": [],
      "gpuType": "T4"
    },
    "kernelspec": {
      "name": "python3",
      "display_name": "Python 3"
    },
    "language_info": {
      "name": "python"
    },
    "accelerator": "GPU"
  },
  "cells": [
    {
      "cell_type": "markdown",
      "source": [
        "# It is not recommended to run this on your machine !!!\n",
        "ไม่แนะนำให้รันในเครื่องของคุณเอง"
      ],
      "metadata": {
        "id": "c4I2eKxlklPq"
      }
    },
    {
      "cell_type": "code",
      "execution_count": 1,
      "metadata": {
        "colab": {
          "base_uri": "https://localhost:8080/"
        },
        "collapsed": true,
        "id": "kJRXG9VngQgS",
        "outputId": "132279cd-dbd9-42c7-ab3d-e50a64912ae4"
      },
      "outputs": [
        {
          "output_type": "stream",
          "name": "stdout",
          "text": [
            "Collecting yt-dlp\n",
            "  Downloading yt_dlp-2024.5.27-py3-none-any.whl (3.1 MB)\n",
            "\u001b[2K     \u001b[90m━━━━━━━━━━━━━━━━━━━━━━━━━━━━━━━━━━━━━━━━\u001b[0m \u001b[32m3.1/3.1 MB\u001b[0m \u001b[31m10.1 MB/s\u001b[0m eta \u001b[36m0:00:00\u001b[0m\n",
            "\u001b[?25hCollecting basic-pitch\n",
            "  Downloading basic_pitch-0.3.3-py2.py3-none-any.whl (725 kB)\n",
            "\u001b[2K     \u001b[90m━━━━━━━━━━━━━━━━━━━━━━━━━━━━━━━━━━━━━━━━\u001b[0m \u001b[32m725.2/725.2 kB\u001b[0m \u001b[31m22.4 MB/s\u001b[0m eta \u001b[36m0:00:00\u001b[0m\n",
            "\u001b[?25hRequirement already satisfied: joblib in /usr/local/lib/python3.10/dist-packages (1.4.2)\n",
            "Collecting brotli (from yt-dlp)\n",
            "  Downloading Brotli-1.1.0-cp310-cp310-manylinux_2_5_x86_64.manylinux1_x86_64.manylinux_2_12_x86_64.manylinux2010_x86_64.whl (3.0 MB)\n",
            "\u001b[2K     \u001b[90m━━━━━━━━━━━━━━━━━━━━━━━━━━━━━━━━━━━━━━━━\u001b[0m \u001b[32m3.0/3.0 MB\u001b[0m \u001b[31m32.0 MB/s\u001b[0m eta \u001b[36m0:00:00\u001b[0m\n",
            "\u001b[?25hRequirement already satisfied: certifi in /usr/local/lib/python3.10/dist-packages (from yt-dlp) (2024.2.2)\n",
            "Collecting mutagen (from yt-dlp)\n",
            "  Downloading mutagen-1.47.0-py3-none-any.whl (194 kB)\n",
            "\u001b[2K     \u001b[90m━━━━━━━━━━━━━━━━━━━━━━━━━━━━━━━━━━━━━━━━\u001b[0m \u001b[32m194.4/194.4 kB\u001b[0m \u001b[31m23.0 MB/s\u001b[0m eta \u001b[36m0:00:00\u001b[0m\n",
            "\u001b[?25hCollecting pycryptodomex (from yt-dlp)\n",
            "  Downloading pycryptodomex-3.20.0-cp35-abi3-manylinux_2_17_x86_64.manylinux2014_x86_64.whl (2.1 MB)\n",
            "\u001b[2K     \u001b[90m━━━━━━━━━━━━━━━━━━━━━━━━━━━━━━━━━━━━━━━━\u001b[0m \u001b[32m2.1/2.1 MB\u001b[0m \u001b[31m35.3 MB/s\u001b[0m eta \u001b[36m0:00:00\u001b[0m\n",
            "\u001b[?25hRequirement already satisfied: requests<3,>=2.31.0 in /usr/local/lib/python3.10/dist-packages (from yt-dlp) (2.31.0)\n",
            "Requirement already satisfied: urllib3<3,>=1.26.17 in /usr/local/lib/python3.10/dist-packages (from yt-dlp) (2.0.7)\n",
            "Collecting websockets>=12.0 (from yt-dlp)\n",
            "  Downloading websockets-12.0-cp310-cp310-manylinux_2_5_x86_64.manylinux1_x86_64.manylinux_2_17_x86_64.manylinux2014_x86_64.whl (130 kB)\n",
            "\u001b[2K     \u001b[90m━━━━━━━━━━━━━━━━━━━━━━━━━━━━━━━━━━━━━━━━\u001b[0m \u001b[32m130.2/130.2 kB\u001b[0m \u001b[31m9.5 MB/s\u001b[0m eta \u001b[36m0:00:00\u001b[0m\n",
            "\u001b[?25hRequirement already satisfied: librosa>=0.8.0 in /usr/local/lib/python3.10/dist-packages (from basic-pitch) (0.10.2.post1)\n",
            "Collecting mir-eval>=0.6 (from basic-pitch)\n",
            "  Downloading mir_eval-0.7.tar.gz (90 kB)\n",
            "\u001b[2K     \u001b[90m━━━━━━━━━━━━━━━━━━━━━━━━━━━━━━━━━━━━━━━━\u001b[0m \u001b[32m90.7/90.7 kB\u001b[0m \u001b[31m11.3 MB/s\u001b[0m eta \u001b[36m0:00:00\u001b[0m\n",
            "\u001b[?25h  Preparing metadata (setup.py) ... \u001b[?25l\u001b[?25hdone\n",
            "Requirement already satisfied: numpy>=1.18 in /usr/local/lib/python3.10/dist-packages (from basic-pitch) (1.25.2)\n",
            "Collecting pretty-midi>=0.2.9 (from basic-pitch)\n",
            "  Downloading pretty_midi-0.2.10.tar.gz (5.6 MB)\n",
            "\u001b[2K     \u001b[90m━━━━━━━━━━━━━━━━━━━━━━━━━━━━━━━━━━━━━━━━\u001b[0m \u001b[32m5.6/5.6 MB\u001b[0m \u001b[31m56.8 MB/s\u001b[0m eta \u001b[36m0:00:00\u001b[0m\n",
            "\u001b[?25h  Preparing metadata (setup.py) ... \u001b[?25l\u001b[?25hdone\n",
            "Collecting resampy<0.4.3,>=0.2.2 (from basic-pitch)\n",
            "  Downloading resampy-0.4.2-py3-none-any.whl (3.1 MB)\n",
            "\u001b[2K     \u001b[90m━━━━━━━━━━━━━━━━━━━━━━━━━━━━━━━━━━━━━━━━\u001b[0m \u001b[32m3.1/3.1 MB\u001b[0m \u001b[31m73.9 MB/s\u001b[0m eta \u001b[36m0:00:00\u001b[0m\n",
            "\u001b[?25hRequirement already satisfied: scikit-learn in /usr/local/lib/python3.10/dist-packages (from basic-pitch) (1.2.2)\n",
            "Requirement already satisfied: scipy>=1.4.1 in /usr/local/lib/python3.10/dist-packages (from basic-pitch) (1.11.4)\n",
            "Requirement already satisfied: typing-extensions in /usr/local/lib/python3.10/dist-packages (from basic-pitch) (4.11.0)\n",
            "Collecting tflite-runtime (from basic-pitch)\n",
            "  Downloading tflite_runtime-2.14.0-cp310-cp310-manylinux2014_x86_64.whl (2.4 MB)\n",
            "\u001b[2K     \u001b[90m━━━━━━━━━━━━━━━━━━━━━━━━━━━━━━━━━━━━━━━━\u001b[0m \u001b[32m2.4/2.4 MB\u001b[0m \u001b[31m61.5 MB/s\u001b[0m eta \u001b[36m0:00:00\u001b[0m\n",
            "\u001b[?25hRequirement already satisfied: audioread>=2.1.9 in /usr/local/lib/python3.10/dist-packages (from librosa>=0.8.0->basic-pitch) (3.0.1)\n",
            "Requirement already satisfied: decorator>=4.3.0 in /usr/local/lib/python3.10/dist-packages (from librosa>=0.8.0->basic-pitch) (4.4.2)\n",
            "Requirement already satisfied: numba>=0.51.0 in /usr/local/lib/python3.10/dist-packages (from librosa>=0.8.0->basic-pitch) (0.58.1)\n",
            "Requirement already satisfied: soundfile>=0.12.1 in /usr/local/lib/python3.10/dist-packages (from librosa>=0.8.0->basic-pitch) (0.12.1)\n",
            "Requirement already satisfied: pooch>=1.1 in /usr/local/lib/python3.10/dist-packages (from librosa>=0.8.0->basic-pitch) (1.8.1)\n",
            "Requirement already satisfied: soxr>=0.3.2 in /usr/local/lib/python3.10/dist-packages (from librosa>=0.8.0->basic-pitch) (0.3.7)\n",
            "Requirement already satisfied: lazy-loader>=0.1 in /usr/local/lib/python3.10/dist-packages (from librosa>=0.8.0->basic-pitch) (0.4)\n",
            "Requirement already satisfied: msgpack>=1.0 in /usr/local/lib/python3.10/dist-packages (from librosa>=0.8.0->basic-pitch) (1.0.8)\n",
            "Requirement already satisfied: future in /usr/local/lib/python3.10/dist-packages (from mir-eval>=0.6->basic-pitch) (0.18.3)\n",
            "Requirement already satisfied: six in /usr/local/lib/python3.10/dist-packages (from mir-eval>=0.6->basic-pitch) (1.16.0)\n",
            "Collecting mido>=1.1.16 (from pretty-midi>=0.2.9->basic-pitch)\n",
            "  Downloading mido-1.3.2-py3-none-any.whl (54 kB)\n",
            "\u001b[2K     \u001b[90m━━━━━━━━━━━━━━━━━━━━━━━━━━━━━━━━━━━━━━━━\u001b[0m \u001b[32m54.6/54.6 kB\u001b[0m \u001b[31m6.5 MB/s\u001b[0m eta \u001b[36m0:00:00\u001b[0m\n",
            "\u001b[?25hRequirement already satisfied: charset-normalizer<4,>=2 in /usr/local/lib/python3.10/dist-packages (from requests<3,>=2.31.0->yt-dlp) (3.3.2)\n",
            "Requirement already satisfied: idna<4,>=2.5 in /usr/local/lib/python3.10/dist-packages (from requests<3,>=2.31.0->yt-dlp) (3.7)\n",
            "Requirement already satisfied: threadpoolctl>=2.0.0 in /usr/local/lib/python3.10/dist-packages (from scikit-learn->basic-pitch) (3.5.0)\n",
            "Requirement already satisfied: packaging in /usr/local/lib/python3.10/dist-packages (from lazy-loader>=0.1->librosa>=0.8.0->basic-pitch) (24.0)\n",
            "Collecting packaging (from lazy-loader>=0.1->librosa>=0.8.0->basic-pitch)\n",
            "  Downloading packaging-23.2-py3-none-any.whl (53 kB)\n",
            "\u001b[2K     \u001b[90m━━━━━━━━━━━━━━━━━━━━━━━━━━━━━━━━━━━━━━━━\u001b[0m \u001b[32m53.0/53.0 kB\u001b[0m \u001b[31m4.8 MB/s\u001b[0m eta \u001b[36m0:00:00\u001b[0m\n",
            "\u001b[?25hRequirement already satisfied: llvmlite<0.42,>=0.41.0dev0 in /usr/local/lib/python3.10/dist-packages (from numba>=0.51.0->librosa>=0.8.0->basic-pitch) (0.41.1)\n",
            "Requirement already satisfied: platformdirs>=2.5.0 in /usr/local/lib/python3.10/dist-packages (from pooch>=1.1->librosa>=0.8.0->basic-pitch) (4.2.2)\n",
            "Requirement already satisfied: cffi>=1.0 in /usr/local/lib/python3.10/dist-packages (from soundfile>=0.12.1->librosa>=0.8.0->basic-pitch) (1.16.0)\n",
            "Requirement already satisfied: pycparser in /usr/local/lib/python3.10/dist-packages (from cffi>=1.0->soundfile>=0.12.1->librosa>=0.8.0->basic-pitch) (2.22)\n",
            "Building wheels for collected packages: mir-eval, pretty-midi\n",
            "  Building wheel for mir-eval (setup.py) ... \u001b[?25l\u001b[?25hdone\n",
            "  Created wheel for mir-eval: filename=mir_eval-0.7-py3-none-any.whl size=100704 sha256=fd15c5136cbf50dd1690d52f9481ce2f7c2cfbba0bc484e140d7734e0e28e8be\n",
            "  Stored in directory: /root/.cache/pip/wheels/3e/2f/0d/dda9c4c77a170e21356b6afa2f7d9bb078338634ba05d94e3f\n",
            "  Building wheel for pretty-midi (setup.py) ... \u001b[?25l\u001b[?25hdone\n",
            "  Created wheel for pretty-midi: filename=pretty_midi-0.2.10-py3-none-any.whl size=5592289 sha256=47b0251095c1ecd7d559f7843a09b252ddcba0fc3c12c3981d432fffee3edba1\n",
            "  Stored in directory: /root/.cache/pip/wheels/cd/a5/30/7b8b7f58709f5150f67f98fde4b891ebf0be9ef07a8af49f25\n",
            "Successfully built mir-eval pretty-midi\n",
            "Installing collected packages: brotli, websockets, tflite-runtime, pycryptodomex, packaging, mutagen, yt-dlp, resampy, mir-eval, mido, pretty-midi, basic-pitch\n",
            "  Attempting uninstall: packaging\n",
            "    Found existing installation: packaging 24.0\n",
            "    Uninstalling packaging-24.0:\n",
            "      Successfully uninstalled packaging-24.0\n",
            "Successfully installed basic-pitch-0.3.3 brotli-1.1.0 mido-1.3.2 mir-eval-0.7 mutagen-1.47.0 packaging-23.2 pretty-midi-0.2.10 pycryptodomex-3.20.0 resampy-0.4.2 tflite-runtime-2.14.0 websockets-12.0 yt-dlp-2024.5.27\n"
          ]
        }
      ],
      "source": [
        "!pip install yt-dlp basic-pitch joblib"
      ]
    },
    {
      "cell_type": "code",
      "source": [
        "!apt install ffmpeg"
      ],
      "metadata": {
        "colab": {
          "base_uri": "https://localhost:8080/"
        },
        "id": "e3RGzsWxgghY",
        "outputId": "5212199c-dc66-4763-9f47-153ccfcc30cb"
      },
      "execution_count": 2,
      "outputs": [
        {
          "output_type": "stream",
          "name": "stdout",
          "text": [
            "Reading package lists... Done\n",
            "Building dependency tree... Done\n",
            "Reading state information... Done\n",
            "ffmpeg is already the newest version (7:4.4.2-0ubuntu0.22.04.1).\n",
            "0 upgraded, 0 newly installed, 0 to remove and 45 not upgraded.\n"
          ]
        }
      ]
    },
    {
      "cell_type": "code",
      "source": [
        "import pandas as pd\n",
        "import tensorflow as tf\n",
        "\n",
        "import yt_dlp\n",
        "from basic_pitch.inference import predict, Model\n",
        "from basic_pitch import ICASSP_2022_MODEL_PATH\n",
        "from joblib import Parallel, delayed\n",
        "from tqdm import tqdm\n",
        "\n",
        "import random\n",
        "import tempfile\n",
        "import os\n",
        "import glob\n",
        "import subprocess\n",
        "import multiprocessing\n",
        "import time"
      ],
      "metadata": {
        "id": "AHTmIHA1g3Pa"
      },
      "execution_count": 8,
      "outputs": []
    },
    {
      "cell_type": "code",
      "source": [
        "from google.colab import drive\n",
        "drive.mount('/content/drive')"
      ],
      "metadata": {
        "id": "AOTt0jcGvNpP"
      },
      "execution_count": null,
      "outputs": []
    },
    {
      "cell_type": "code",
      "source": [
        "basic_pitch_model = Model(ICASSP_2022_MODEL_PATH)"
      ],
      "metadata": {
        "id": "ULjZv6yGhAFR"
      },
      "execution_count": 4,
      "outputs": []
    },
    {
      "cell_type": "code",
      "source": [
        "dataset_path = \"train_dataset.csv\"\n",
        "dataset = pd.read_csv(dataset_path)"
      ],
      "metadata": {
        "id": "1FdIFOcykH0K"
      },
      "execution_count": 5,
      "outputs": []
    },
    {
      "cell_type": "code",
      "source": [
        "load_from = 0\n",
        "load_to = 200 # (load_from to load_to - 1)\n",
        "\n",
        "data_to_load = dataset[load_from:load_to]\n",
        "data_to_load"
      ],
      "metadata": {
        "colab": {
          "base_uri": "https://localhost:8080/",
          "height": 424
        },
        "id": "nh7QSyT1lMQ0",
        "outputId": "fa3913b9-3de6-4264-a2d2-33ad6db5101e"
      },
      "execution_count": 32,
      "outputs": [
        {
          "output_type": "execute_result",
          "data": {
            "text/plain": [
              "       piano_ids      pop_ids\n",
              "0    -7lV0oJ0QXc  EHl_eQhgefw\n",
              "1    -8t7NcKFutM  Ki1Y-pTewxA\n",
              "2    -DLYCZ2uTeU  YFEB9xLeLmY\n",
              "3    -F68f8ztrvw  F_74JqOubxk\n",
              "4    -OMdl9i9dcc  p2hMT1oUSyE\n",
              "..           ...          ...\n",
              "195  DrjbHAMJw88  d2ytH5mymWY\n",
              "196  DxWNMQ7vD2Q  OaM4lJwn7D8\n",
              "197  DyuiGx96Sw8  xsOSt3hNRY0\n",
              "198  E-L_jD6JH7o  Z4-S4zfCEdQ\n",
              "199  E8yqoD8xqlY  AbUPBQ2C-O0\n",
              "\n",
              "[200 rows x 2 columns]"
            ],
            "text/html": [
              "\n",
              "  <div id=\"df-0ac37b8b-4808-4428-93af-89bfeb6de629\" class=\"colab-df-container\">\n",
              "    <div>\n",
              "<style scoped>\n",
              "    .dataframe tbody tr th:only-of-type {\n",
              "        vertical-align: middle;\n",
              "    }\n",
              "\n",
              "    .dataframe tbody tr th {\n",
              "        vertical-align: top;\n",
              "    }\n",
              "\n",
              "    .dataframe thead th {\n",
              "        text-align: right;\n",
              "    }\n",
              "</style>\n",
              "<table border=\"1\" class=\"dataframe\">\n",
              "  <thead>\n",
              "    <tr style=\"text-align: right;\">\n",
              "      <th></th>\n",
              "      <th>piano_ids</th>\n",
              "      <th>pop_ids</th>\n",
              "    </tr>\n",
              "  </thead>\n",
              "  <tbody>\n",
              "    <tr>\n",
              "      <th>0</th>\n",
              "      <td>-7lV0oJ0QXc</td>\n",
              "      <td>EHl_eQhgefw</td>\n",
              "    </tr>\n",
              "    <tr>\n",
              "      <th>1</th>\n",
              "      <td>-8t7NcKFutM</td>\n",
              "      <td>Ki1Y-pTewxA</td>\n",
              "    </tr>\n",
              "    <tr>\n",
              "      <th>2</th>\n",
              "      <td>-DLYCZ2uTeU</td>\n",
              "      <td>YFEB9xLeLmY</td>\n",
              "    </tr>\n",
              "    <tr>\n",
              "      <th>3</th>\n",
              "      <td>-F68f8ztrvw</td>\n",
              "      <td>F_74JqOubxk</td>\n",
              "    </tr>\n",
              "    <tr>\n",
              "      <th>4</th>\n",
              "      <td>-OMdl9i9dcc</td>\n",
              "      <td>p2hMT1oUSyE</td>\n",
              "    </tr>\n",
              "    <tr>\n",
              "      <th>...</th>\n",
              "      <td>...</td>\n",
              "      <td>...</td>\n",
              "    </tr>\n",
              "    <tr>\n",
              "      <th>195</th>\n",
              "      <td>DrjbHAMJw88</td>\n",
              "      <td>d2ytH5mymWY</td>\n",
              "    </tr>\n",
              "    <tr>\n",
              "      <th>196</th>\n",
              "      <td>DxWNMQ7vD2Q</td>\n",
              "      <td>OaM4lJwn7D8</td>\n",
              "    </tr>\n",
              "    <tr>\n",
              "      <th>197</th>\n",
              "      <td>DyuiGx96Sw8</td>\n",
              "      <td>xsOSt3hNRY0</td>\n",
              "    </tr>\n",
              "    <tr>\n",
              "      <th>198</th>\n",
              "      <td>E-L_jD6JH7o</td>\n",
              "      <td>Z4-S4zfCEdQ</td>\n",
              "    </tr>\n",
              "    <tr>\n",
              "      <th>199</th>\n",
              "      <td>E8yqoD8xqlY</td>\n",
              "      <td>AbUPBQ2C-O0</td>\n",
              "    </tr>\n",
              "  </tbody>\n",
              "</table>\n",
              "<p>200 rows × 2 columns</p>\n",
              "</div>\n",
              "    <div class=\"colab-df-buttons\">\n",
              "\n",
              "  <div class=\"colab-df-container\">\n",
              "    <button class=\"colab-df-convert\" onclick=\"convertToInteractive('df-0ac37b8b-4808-4428-93af-89bfeb6de629')\"\n",
              "            title=\"Convert this dataframe to an interactive table.\"\n",
              "            style=\"display:none;\">\n",
              "\n",
              "  <svg xmlns=\"http://www.w3.org/2000/svg\" height=\"24px\" viewBox=\"0 -960 960 960\">\n",
              "    <path d=\"M120-120v-720h720v720H120Zm60-500h600v-160H180v160Zm220 220h160v-160H400v160Zm0 220h160v-160H400v160ZM180-400h160v-160H180v160Zm440 0h160v-160H620v160ZM180-180h160v-160H180v160Zm440 0h160v-160H620v160Z\"/>\n",
              "  </svg>\n",
              "    </button>\n",
              "\n",
              "  <style>\n",
              "    .colab-df-container {\n",
              "      display:flex;\n",
              "      gap: 12px;\n",
              "    }\n",
              "\n",
              "    .colab-df-convert {\n",
              "      background-color: #E8F0FE;\n",
              "      border: none;\n",
              "      border-radius: 50%;\n",
              "      cursor: pointer;\n",
              "      display: none;\n",
              "      fill: #1967D2;\n",
              "      height: 32px;\n",
              "      padding: 0 0 0 0;\n",
              "      width: 32px;\n",
              "    }\n",
              "\n",
              "    .colab-df-convert:hover {\n",
              "      background-color: #E2EBFA;\n",
              "      box-shadow: 0px 1px 2px rgba(60, 64, 67, 0.3), 0px 1px 3px 1px rgba(60, 64, 67, 0.15);\n",
              "      fill: #174EA6;\n",
              "    }\n",
              "\n",
              "    .colab-df-buttons div {\n",
              "      margin-bottom: 4px;\n",
              "    }\n",
              "\n",
              "    [theme=dark] .colab-df-convert {\n",
              "      background-color: #3B4455;\n",
              "      fill: #D2E3FC;\n",
              "    }\n",
              "\n",
              "    [theme=dark] .colab-df-convert:hover {\n",
              "      background-color: #434B5C;\n",
              "      box-shadow: 0px 1px 3px 1px rgba(0, 0, 0, 0.15);\n",
              "      filter: drop-shadow(0px 1px 2px rgba(0, 0, 0, 0.3));\n",
              "      fill: #FFFFFF;\n",
              "    }\n",
              "  </style>\n",
              "\n",
              "    <script>\n",
              "      const buttonEl =\n",
              "        document.querySelector('#df-0ac37b8b-4808-4428-93af-89bfeb6de629 button.colab-df-convert');\n",
              "      buttonEl.style.display =\n",
              "        google.colab.kernel.accessAllowed ? 'block' : 'none';\n",
              "\n",
              "      async function convertToInteractive(key) {\n",
              "        const element = document.querySelector('#df-0ac37b8b-4808-4428-93af-89bfeb6de629');\n",
              "        const dataTable =\n",
              "          await google.colab.kernel.invokeFunction('convertToInteractive',\n",
              "                                                    [key], {});\n",
              "        if (!dataTable) return;\n",
              "\n",
              "        const docLinkHtml = 'Like what you see? Visit the ' +\n",
              "          '<a target=\"_blank\" href=https://colab.research.google.com/notebooks/data_table.ipynb>data table notebook</a>'\n",
              "          + ' to learn more about interactive tables.';\n",
              "        element.innerHTML = '';\n",
              "        dataTable['output_type'] = 'display_data';\n",
              "        await google.colab.output.renderOutput(dataTable, element);\n",
              "        const docLink = document.createElement('div');\n",
              "        docLink.innerHTML = docLinkHtml;\n",
              "        element.appendChild(docLink);\n",
              "      }\n",
              "    </script>\n",
              "  </div>\n",
              "\n",
              "\n",
              "<div id=\"df-240aa0a0-ff50-4852-9c47-2535e75222f2\">\n",
              "  <button class=\"colab-df-quickchart\" onclick=\"quickchart('df-240aa0a0-ff50-4852-9c47-2535e75222f2')\"\n",
              "            title=\"Suggest charts\"\n",
              "            style=\"display:none;\">\n",
              "\n",
              "<svg xmlns=\"http://www.w3.org/2000/svg\" height=\"24px\"viewBox=\"0 0 24 24\"\n",
              "     width=\"24px\">\n",
              "    <g>\n",
              "        <path d=\"M19 3H5c-1.1 0-2 .9-2 2v14c0 1.1.9 2 2 2h14c1.1 0 2-.9 2-2V5c0-1.1-.9-2-2-2zM9 17H7v-7h2v7zm4 0h-2V7h2v10zm4 0h-2v-4h2v4z\"/>\n",
              "    </g>\n",
              "</svg>\n",
              "  </button>\n",
              "\n",
              "<style>\n",
              "  .colab-df-quickchart {\n",
              "      --bg-color: #E8F0FE;\n",
              "      --fill-color: #1967D2;\n",
              "      --hover-bg-color: #E2EBFA;\n",
              "      --hover-fill-color: #174EA6;\n",
              "      --disabled-fill-color: #AAA;\n",
              "      --disabled-bg-color: #DDD;\n",
              "  }\n",
              "\n",
              "  [theme=dark] .colab-df-quickchart {\n",
              "      --bg-color: #3B4455;\n",
              "      --fill-color: #D2E3FC;\n",
              "      --hover-bg-color: #434B5C;\n",
              "      --hover-fill-color: #FFFFFF;\n",
              "      --disabled-bg-color: #3B4455;\n",
              "      --disabled-fill-color: #666;\n",
              "  }\n",
              "\n",
              "  .colab-df-quickchart {\n",
              "    background-color: var(--bg-color);\n",
              "    border: none;\n",
              "    border-radius: 50%;\n",
              "    cursor: pointer;\n",
              "    display: none;\n",
              "    fill: var(--fill-color);\n",
              "    height: 32px;\n",
              "    padding: 0;\n",
              "    width: 32px;\n",
              "  }\n",
              "\n",
              "  .colab-df-quickchart:hover {\n",
              "    background-color: var(--hover-bg-color);\n",
              "    box-shadow: 0 1px 2px rgba(60, 64, 67, 0.3), 0 1px 3px 1px rgba(60, 64, 67, 0.15);\n",
              "    fill: var(--button-hover-fill-color);\n",
              "  }\n",
              "\n",
              "  .colab-df-quickchart-complete:disabled,\n",
              "  .colab-df-quickchart-complete:disabled:hover {\n",
              "    background-color: var(--disabled-bg-color);\n",
              "    fill: var(--disabled-fill-color);\n",
              "    box-shadow: none;\n",
              "  }\n",
              "\n",
              "  .colab-df-spinner {\n",
              "    border: 2px solid var(--fill-color);\n",
              "    border-color: transparent;\n",
              "    border-bottom-color: var(--fill-color);\n",
              "    animation:\n",
              "      spin 1s steps(1) infinite;\n",
              "  }\n",
              "\n",
              "  @keyframes spin {\n",
              "    0% {\n",
              "      border-color: transparent;\n",
              "      border-bottom-color: var(--fill-color);\n",
              "      border-left-color: var(--fill-color);\n",
              "    }\n",
              "    20% {\n",
              "      border-color: transparent;\n",
              "      border-left-color: var(--fill-color);\n",
              "      border-top-color: var(--fill-color);\n",
              "    }\n",
              "    30% {\n",
              "      border-color: transparent;\n",
              "      border-left-color: var(--fill-color);\n",
              "      border-top-color: var(--fill-color);\n",
              "      border-right-color: var(--fill-color);\n",
              "    }\n",
              "    40% {\n",
              "      border-color: transparent;\n",
              "      border-right-color: var(--fill-color);\n",
              "      border-top-color: var(--fill-color);\n",
              "    }\n",
              "    60% {\n",
              "      border-color: transparent;\n",
              "      border-right-color: var(--fill-color);\n",
              "    }\n",
              "    80% {\n",
              "      border-color: transparent;\n",
              "      border-right-color: var(--fill-color);\n",
              "      border-bottom-color: var(--fill-color);\n",
              "    }\n",
              "    90% {\n",
              "      border-color: transparent;\n",
              "      border-bottom-color: var(--fill-color);\n",
              "    }\n",
              "  }\n",
              "</style>\n",
              "\n",
              "  <script>\n",
              "    async function quickchart(key) {\n",
              "      const quickchartButtonEl =\n",
              "        document.querySelector('#' + key + ' button');\n",
              "      quickchartButtonEl.disabled = true;  // To prevent multiple clicks.\n",
              "      quickchartButtonEl.classList.add('colab-df-spinner');\n",
              "      try {\n",
              "        const charts = await google.colab.kernel.invokeFunction(\n",
              "            'suggestCharts', [key], {});\n",
              "      } catch (error) {\n",
              "        console.error('Error during call to suggestCharts:', error);\n",
              "      }\n",
              "      quickchartButtonEl.classList.remove('colab-df-spinner');\n",
              "      quickchartButtonEl.classList.add('colab-df-quickchart-complete');\n",
              "    }\n",
              "    (() => {\n",
              "      let quickchartButtonEl =\n",
              "        document.querySelector('#df-240aa0a0-ff50-4852-9c47-2535e75222f2 button');\n",
              "      quickchartButtonEl.style.display =\n",
              "        google.colab.kernel.accessAllowed ? 'block' : 'none';\n",
              "    })();\n",
              "  </script>\n",
              "</div>\n",
              "    </div>\n",
              "  </div>\n"
            ],
            "application/vnd.google.colaboratory.intrinsic+json": {
              "type": "dataframe",
              "variable_name": "data_to_load",
              "summary": "{\n  \"name\": \"data_to_load\",\n  \"rows\": 200,\n  \"fields\": [\n    {\n      \"column\": \"piano_ids\",\n      \"properties\": {\n        \"dtype\": \"string\",\n        \"num_unique_values\": 200,\n        \"samples\": [\n          \"6ennRRIH2BU\",\n          \"0RdmgeAIXHA\",\n          \"1pLn-T3dGHQ\"\n        ],\n        \"semantic_type\": \"\",\n        \"description\": \"\"\n      }\n    },\n    {\n      \"column\": \"pop_ids\",\n      \"properties\": {\n        \"dtype\": \"string\",\n        \"num_unique_values\": 191,\n        \"samples\": [\n          \"ZI8hKsuBP8E\",\n          \"RvUzkrrdOI8\",\n          \"3jzBzplq_GI\"\n        ],\n        \"semantic_type\": \"\",\n        \"description\": \"\"\n      }\n    }\n  ]\n}"
            }
          },
          "metadata": {},
          "execution_count": 32
        }
      ]
    },
    {
      "cell_type": "code",
      "source": [
        "os.makedirs(\"midi_output\", exist_ok=True)\n",
        "os.makedirs(\"piano_output\", exist_ok=True)\n",
        "os.makedirs(\"song_output\", exist_ok=True)"
      ],
      "metadata": {
        "id": "rpZ7V8rwVo0k"
      },
      "execution_count": 29,
      "outputs": []
    },
    {
      "cell_type": "code",
      "source": [
        "def download_piano(piano_id, song_id, output_path=\"piano_output\"):\n",
        "    piano_download_output = f\"{output_path}/%(uploader)s___%(title)s___%(id)s___{song_id}___%(duration)d___.%(ext)s\"\n",
        "\n",
        "    result = subprocess.run([\"yt-dlp\",\n",
        "                             \"-o\", piano_download_output,\n",
        "                             \"-x\",\n",
        "                             \"--audio-quality\", \"0\",\n",
        "                             \"--audio-format\", \"wav\",\n",
        "                             \"--retries\", \"50\",\n",
        "                             \"--force-ipv4\",\n",
        "                             \"--ignore-errors\",\n",
        "                             f\"https://www.youtube.com/watch?v={piano_id}\"])\n",
        "\n",
        "    return result"
      ],
      "metadata": {
        "id": "4AejPrhrlPCZ"
      },
      "execution_count": 45,
      "outputs": []
    },
    {
      "cell_type": "code",
      "source": [
        "def download_midi(piano_id, song_id, output_path=\"midi_output\"):\n",
        "    with tempfile.TemporaryDirectory() as tmpdir:\n",
        "        piano_download_output = f\"{tmpdir}/%(uploader)s___%(title)s___%(id)s___{song_id}___%(duration)d___.%(ext)s\"\n",
        "\n",
        "        result = subprocess.run([\"yt-dlp\",\n",
        "                                 \"-o\", piano_download_output,\n",
        "                                 \"-x\",\n",
        "                                 \"--audio-quality\", \"0\",\n",
        "                                 \"--audio-format\", \"wav\",\n",
        "                                 \"--retries\", \"50\",\n",
        "                                 \"--force-ipv4\",\n",
        "                                 \"--ignore-errors\",\n",
        "                                 f\"https://www.youtube.com/watch?v={piano_id}\"])\n",
        "\n",
        "        for piano_wav in os.listdir(tmpdir):\n",
        "            if \"ipynb\" in piano_wav:\n",
        "                continue\n",
        "            model_output, midi_data, note_events = predict(os.path.join(tmpdir, piano_wav), basic_pitch_model)\n",
        "            midi_data.write(os.path.join(output_path, f\"{'___'.join(piano_wav.split('___')[:4])}.mid\"))\n",
        "\n",
        "    return result"
      ],
      "metadata": {
        "id": "Fh9TJtFykz-0"
      },
      "execution_count": 26,
      "outputs": []
    },
    {
      "cell_type": "code",
      "source": [
        "def download_midi_by_link(piano_link, song_id, output_path=\"midi_output\"):\n",
        "    with tempfile.TemporaryDirectory() as tmpdir:\n",
        "        piano_download_output = f\"{tmpdir}/%(uploader)s___%(title)s___%(id)s___{song_id}___%(duration)d___.%(ext)s\"\n",
        "\n",
        "        result = subprocess.run([\"yt-dlp\",\n",
        "                                 \"-o\", piano_download_output,\n",
        "                                 \"-x\",\n",
        "                                 \"--audio-quality\", \"0\",\n",
        "                                 \"--audio-format\", \"wav\",\n",
        "                                 \"--retries\", \"50\",\n",
        "                                 \"--force-ipv4\",\n",
        "                                 \"--ignore-errors\",\n",
        "                                 piano_link])\n",
        "\n",
        "        for piano_wav in os.listdir(tmpdir):\n",
        "            if \"ipynb\" in piano_wav:\n",
        "                continue\n",
        "            model_output, midi_data, note_events = predict(os.path.join(tmpdir, piano_wav), basic_pitch_model)\n",
        "            midi_data.write(os.path.join(output_path, f\"{'___'.join(piano_wav.split('___')[:4])}.mid\"))\n",
        "\n",
        "    return result"
      ],
      "metadata": {
        "id": "UbHEJ6_M2qeF"
      },
      "execution_count": null,
      "outputs": []
    },
    {
      "cell_type": "code",
      "source": [
        "def download_song(song_id, output_path=\"song_output\"):\n",
        "    song_download_output = f\"{output_path}/%(uploader)s___%(title)s___%(id)s___%(duration)d___.%(ext)s\"\n",
        "    time.sleep(random.randint(2, 7))\n",
        "\n",
        "    result = subprocess.run([\"yt-dlp\",\n",
        "                               \"-o\", song_download_output,\n",
        "                               \"-x\",\n",
        "                               \"--audio-quality\", \"5\",\n",
        "                               \"--audio-format\", \"mp3\",\n",
        "                               \"--retries\", \"50\",\n",
        "                               \"--force-ipv4\",\n",
        "                               \"--ignore-errors\",\n",
        "                               f\"https://www.youtube.com/watch?v={song_id}\"])\n",
        "\n",
        "    return result"
      ],
      "metadata": {
        "id": "K1yWYl9zVk9G"
      },
      "execution_count": 44,
      "outputs": []
    },
    {
      "cell_type": "code",
      "source": [
        "def download_song_by_link(song_link, output_path=\"song_output\"):\n",
        "    song_download_output = f\"{output_path}/%(uploader)s___%(title)s___%(id)s___%(duration)d___.%(ext)s\"\n",
        "    time.sleep(random.randint(2, 7))\n",
        "\n",
        "    result = subprocess.run([\"yt-dlp\",\n",
        "                               \"-o\", song_download_output,\n",
        "                               \"-x\",\n",
        "                               \"--audio-quality\", \"5\",\n",
        "                               \"--audio-format\", \"mp3\",\n",
        "                               \"--retries\", \"50\",\n",
        "                               \"--force-ipv4\",\n",
        "                               \"--ignore-errors\",\n",
        "                               song_link])\n",
        "\n",
        "    return result"
      ],
      "metadata": {
        "id": "NVqepgSA170D"
      },
      "execution_count": 49,
      "outputs": []
    },
    {
      "cell_type": "code",
      "source": [
        "download_piano(\"-7lV0oJ0QXc\", \"EHl_eQhgefw\")"
      ],
      "metadata": {
        "colab": {
          "base_uri": "https://localhost:8080/"
        },
        "id": "8e7l9UBF1HWZ",
        "outputId": "d356a68e-4c38-4f3c-f5a5-9c7630abc120"
      },
      "execution_count": 19,
      "outputs": [
        {
          "output_type": "execute_result",
          "data": {
            "text/plain": [
              "CompletedProcess(args=['yt-dlp', '-o', 'piano_output/%(uploader)s___%(title)s___%(id)s___EHl_eQhgefw___%(duration)d___.%(ext)s', '-x', '--audio-quality', '0', '--audio-format', 'wav', '--retries', '50', '--force-ipv4', '--ignore-errors', 'https://www.youtube.com/watch?v=-7lV0oJ0QXc'], returncode=0)"
            ]
          },
          "metadata": {},
          "execution_count": 19
        }
      ]
    },
    {
      "cell_type": "code",
      "source": [
        "download_song(\"EHl_eQhgefw\")"
      ],
      "metadata": {
        "colab": {
          "base_uri": "https://localhost:8080/"
        },
        "id": "GBk1H3I2Y5KQ",
        "outputId": "1915d0ac-73aa-4b45-d90b-e54d32ed23a0"
      },
      "execution_count": 14,
      "outputs": [
        {
          "output_type": "execute_result",
          "data": {
            "text/plain": [
              "CompletedProcess(args=['yt-dlp', '-o', 'song_output/%(uploader)s___%(title)s___%(id)s___%(duration)d___.%(ext)s', '-x', '--audio-quality', '5', '--audio-format', 'mp3', '--retries', '50', '--force-ipv4', '--ignore-errors', 'https://www.youtube.com/watch?v=EHl_eQhgefw'], returncode=0)"
            ]
          },
          "metadata": {},
          "execution_count": 14
        }
      ]
    },
    {
      "cell_type": "code",
      "source": [
        "glob.glob(os.path.join(\"song_output\", \"*.webm\"))"
      ],
      "metadata": {
        "colab": {
          "base_uri": "https://localhost:8080/"
        },
        "id": "2ngNcvfAZaYb",
        "outputId": "bc89da1a-5443-4d2f-e9b7-bfc326cd59cb"
      },
      "execution_count": 62,
      "outputs": [
        {
          "output_type": "execute_result",
          "data": {
            "text/plain": [
              "[]"
            ]
          },
          "metadata": {},
          "execution_count": 62
        }
      ]
    },
    {
      "cell_type": "code",
      "source": [
        "multiprocessing.cpu_count()"
      ],
      "metadata": {
        "colab": {
          "base_uri": "https://localhost:8080/"
        },
        "id": "4eHfqFbuo9El",
        "outputId": "3ed5b15b-5dc1-45c2-e089-baa5e905e0b0"
      },
      "execution_count": 30,
      "outputs": [
        {
          "output_type": "execute_result",
          "data": {
            "text/plain": [
              "2"
            ]
          },
          "metadata": {},
          "execution_count": 30
        }
      ]
    },
    {
      "cell_type": "code",
      "source": [
        "jobs = Parallel(n_jobs=multiprocessing.cpu_count(), prefer=\"threads\")(\n",
        "    delayed(download_midi)(\n",
        "        piano_id=value[\"piano_ids\"],\n",
        "        song_id=value[\"pop_ids\"],\n",
        "    ) for value in tqdm(data_to_load.to_dict(\"records\"))\n",
        ")"
      ],
      "metadata": {
        "colab": {
          "base_uri": "https://localhost:8080/"
        },
        "collapsed": true,
        "id": "9YcPlaBod8Wc",
        "outputId": "0593b253-a320-4ccc-ea5f-415c91fc8978"
      },
      "execution_count": 33,
      "outputs": [
        {
          "output_type": "stream",
          "name": "stderr",
          "text": [
            "\r  0%|          | 0/200 [00:00<?, ?it/s]"
          ]
        },
        {
          "output_type": "stream",
          "name": "stdout",
          "text": [
            "Predicting MIDI for /tmp/tmphq101ewg/Montechait___Billy Joel - Uptown Girl ｜ Piano Cover + Sheet Music___-8t7NcKFutM___Ki1Y-pTewxA___196___.wav...\n",
            "Predicting MIDI for /tmp/tmp_cp_u9pl/Montechait___The Beatles - With a Little Help from My Friends ｜ Piano Cover + Sheet Music___-7lV0oJ0QXc___EHl_eQhgefw___172___.wav...\n"
          ]
        },
        {
          "output_type": "stream",
          "name": "stderr",
          "text": [
            "\r  2%|▏         | 4/200 [00:11<09:36,  2.94s/it]"
          ]
        },
        {
          "output_type": "stream",
          "name": "stdout",
          "text": [
            "Predicting MIDI for /tmp/tmp_ke2s_b8/Flow Music Piano___BTS (방탄소년단) - Airplane pt.2 Piano Tutorial 피아노 배우기___-F68f8ztrvw___F_74JqOubxk___217___.wav...\n",
            "Predicting MIDI for /tmp/tmpnxy0o6va/Montechait___Marc Cohn - Walking in Memphis ｜ Piano Arrangement (Full Sheet Music)___-DLYCZ2uTeU___YFEB9xLeLmY___263___.wav...\n"
          ]
        },
        {
          "output_type": "stream",
          "name": "stderr",
          "text": [
            "\r  3%|▎         | 6/200 [00:23<13:20,  4.13s/it]"
          ]
        },
        {
          "output_type": "stream",
          "name": "stdout",
          "text": [
            "Predicting MIDI for /tmp/tmpe8qovyzu/Montechait___Linkin Park - In the End ｜ Piano Cover + Sheet Music___-OMdl9i9dcc___p2hMT1oUSyE___231___.wav...\n",
            "Predicting MIDI for /tmp/tmpmiuo18w5/Flow Music Piano___워너원 (Wanna One) - BOOMERANG (부메랑) Piano Tutorial 피아노 튜토리얼___-ViDeKrhNTM___uY5S5XNCYtE___201___.wav...\n"
          ]
        },
        {
          "output_type": "stream",
          "name": "stderr",
          "text": [
            "\r  4%|▍         | 8/200 [00:36<16:05,  5.03s/it]"
          ]
        },
        {
          "output_type": "stream",
          "name": "stdout",
          "text": [
            "Predicting MIDI for /tmp/tmpvehqo9of/PineappleChord___적재 - 나랑 같이 걸을래 (바른연애 길잡이) 피아노 편곡 버전 ｜ 피아노 악보 ｜ Piano Cover ｜ Piano Sheet___-VisuedZee4___26YwXUcUf4I___233___.wav...\n",
            "Predicting MIDI for /tmp/tmpydv84i71/Montechait___Queen - Too Much Love Will Kill You - Piano Cover & Sheet Music___-ajqe0jGD-Y___iHyP6jRt55g___260___.wav...\n"
          ]
        },
        {
          "output_type": "stream",
          "name": "stderr",
          "text": [
            "\r  5%|▌         | 10/200 [00:51<18:35,  5.87s/it]"
          ]
        },
        {
          "output_type": "stream",
          "name": "stdout",
          "text": [
            "Predicting MIDI for /tmp/tmpbkx3n2i1/PineappleChord___애쉬아일랜드 (ASH ISLAND) - 멜로디 (Melody) ｜ 피아노 커버 & 피아노 악보 ｜ Piano Cover & Piano Sheet___-cBGuHlltkA___NB8LX6A5BBM___187___.wav...\n",
            "Predicting MIDI for /tmp/tmplm690r88/Montechait___Chicago - If You Leave Me Now - Piano Arrangement & Sheet Music___-m_HLI9gnzo___8g-cF9H53lU___196___.wav...\n"
          ]
        },
        {
          "output_type": "stream",
          "name": "stderr",
          "text": [
            "\r  6%|▌         | 12/200 [01:02<18:03,  5.76s/it]"
          ]
        },
        {
          "output_type": "stream",
          "name": "stdout",
          "text": [
            "Predicting MIDI for /tmp/tmpaf4jq71f/Piano in U___가호(Gaho) - 시작(Start) 이태원 클라쓰 OST(ITAEWON CLASS) ⧸ Piano cover ⧸ Sheet___-u5gsBF9wbY___hWYM5QEt0Fg___193___.wav...\n",
            "Predicting MIDI for /tmp/tmp3az15gyv/PineappleChord___귀멸의 칼날 OP - 홍련화(紅蓮華) 🎹 피아노 커버 & 피아노 악보 ( Gurenge - Piano Cover & Piano Sheet  )___00wvcg5SmFs___s1XE3qlw654___248___.wav...\n"
          ]
        },
        {
          "output_type": "stream",
          "name": "stderr",
          "text": [
            "\r  7%|▋         | 14/200 [01:13<17:27,  5.63s/it]"
          ]
        },
        {
          "output_type": "stream",
          "name": "stdout",
          "text": [
            "Predicting MIDI for /tmp/tmpt8wstgdr/Montechait___H.E.R. & Daniel Caesar - Best Part ｜ Piano Cover + Sheet Music___01bWSPJdjvQ___rojeIQIBBKM___217___.wav...\n",
            "Predicting MIDI for /tmp/tmpzi1zq5zl/YourPianoCover___Attention - Charlie Puth - Piano Cover Video by YourPianoCover___05ovLLdXEz4___SsWEqDt3LXk___230___.wav...\n"
          ]
        },
        {
          "output_type": "stream",
          "name": "stderr",
          "text": [
            "\r  8%|▊         | 16/200 [01:25<17:45,  5.79s/it]"
          ]
        },
        {
          "output_type": "stream",
          "name": "stdout",
          "text": [
            "Predicting MIDI for /tmp/tmplnf5haja/Montechait___Alphaville - Forever Young ｜ Piano Tutorial + Sheet Music___0HLfYDW2WPY___2tr_-N7_J4E___234___.wav...\n",
            "Predicting MIDI for /tmp/tmp7hpcdb77/Piano in U___IU(아이유) _ Blueming(블루밍)⧸Piano cover⧸Sheet___0RdmgeAIXHA___iqRkTGkAs9I___221___.wav...\n"
          ]
        },
        {
          "output_type": "stream",
          "name": "stderr",
          "text": [
            "\r  9%|▉         | 18/200 [01:38<18:12,  6.00s/it]"
          ]
        },
        {
          "output_type": "stream",
          "name": "stdout",
          "text": [
            "Predicting MIDI for /tmp/tmp37rr12ob/Montechait___Marc Cohn - Walking in Memphis - Piano Sheet Music___0Z4nNWQbAGE___YFEB9xLeLmY___255___.wav...\n",
            "Predicting MIDI for /tmp/tmp84btqjpr/Flow Music Piano___BTS - ON Piano Sheet Music (방탄소년단 - 온 피아노악보)___0ceLPhHweHM___7H--xOlbB9M___244___.wav...\n"
          ]
        },
        {
          "output_type": "stream",
          "name": "stderr",
          "text": [
            "\r 10%|█         | 20/200 [01:53<19:39,  6.55s/it]"
          ]
        },
        {
          "output_type": "stream",
          "name": "stdout",
          "text": [
            "Predicting MIDI for /tmp/tmpvu3q61r0/YourPianoCover___How Long - Charlie Puth - Piano Cover Video by YourPianoCover___0gL_LHT69MQ___-v_vnTozBvU___225___.wav...\n",
            "Predicting MIDI for /tmp/tmp25nqpgkp/YourPianoCover___Adventure Of A Lifetime - Coldplay - Piano Cover Video by YourPianoCover___1FRLhwcwbDw___8Zb_6MgnjkE___284___.wav...\n"
          ]
        },
        {
          "output_type": "stream",
          "name": "stderr",
          "text": [
            "\r 11%|█         | 22/200 [02:06<19:12,  6.48s/it]"
          ]
        },
        {
          "output_type": "stream",
          "name": "stdout",
          "text": [
            "Predicting MIDI for /tmp/tmptnp9phfc/Piano in U___BTS (방탄소년단) Black Swan⧸Piano cover⧸Sheet___1GbgtOWD-mc____36O75VSuLY___201___.wav...\n",
            "Predicting MIDI for /tmp/tmp1smrb2hw/Piano in U___BTS (방탄소년단) '작은 것들을 위한 시 (Boy With Luv) feat. Halsey'⧸Piano cover⧸Sheet___1JOJy7hwens___OEnvXsyGZmU___277___.wav...\n"
          ]
        },
        {
          "output_type": "stream",
          "name": "stderr",
          "text": [
            "\r 12%|█▏        | 24/200 [02:18<18:44,  6.39s/it]"
          ]
        },
        {
          "output_type": "stream",
          "name": "stdout",
          "text": [
            "Predicting MIDI for /tmp/tmptc4pmdfq/Montechait___Earth, Wind & Fire - September ｜ Piano Cover + Sheet Music___1L7w4Uzh61A___DlSsIKn3HTU___187___.wav...\n"
          ]
        },
        {
          "output_type": "stream",
          "name": "stderr",
          "text": [
            "\r 13%|█▎        | 26/200 [02:30<18:00,  6.21s/it]"
          ]
        },
        {
          "output_type": "stream",
          "name": "stdout",
          "text": [
            "Predicting MIDI for /tmp/tmp_3aq29k_/Montechait___Muse - Feeling Good ｜ Piano Cover + Sheet Music___1NKxOXnVQl8___wqqnxEmSOB4___208___.wav...\n",
            "Predicting MIDI for /tmp/tmpthawjy1j/Flow Music Piano___세븐틴(SEVENTEEN) - 9-TEEN(나인틴) 피아노악보(Piano Sheet Music) ⧸ Piano Cover 피아노 커버 ⧸ Chord(코드)___1OCRIdNy6pg___WcA6ahx1K8Y___196___.wav...\n"
          ]
        },
        {
          "output_type": "stream",
          "name": "stderr",
          "text": [
            "\r 14%|█▍        | 28/200 [02:42<17:26,  6.09s/it]"
          ]
        },
        {
          "output_type": "stream",
          "name": "stdout",
          "text": [
            "Predicting MIDI for /tmp/tmpjpjzd6zw/PineappleChord___AKMU - EVEREST ⧸ 악동뮤지션 - EVEREST (with Sam Kim)  ｜ Piano Cover & SheetMusic ｜ K-POP 피아노 커버 & 악보___1UAEuqf7_mo___ghUd7tpi4xg___198___.wav...\n",
            "Predicting MIDI for /tmp/tmps4jkr36x/Piano in U___하성운 (HA SUNG WOON) - 문득(Remember You) ⧸Piano cover⧸ Sheet___1XVxmm_DOuM___C5WPm9cAx84___236___.wav...\n"
          ]
        },
        {
          "output_type": "stream",
          "name": "stderr",
          "text": [
            "\r 15%|█▌        | 30/200 [02:52<16:28,  5.81s/it]"
          ]
        },
        {
          "output_type": "stream",
          "name": "stdout",
          "text": [
            "Predicting MIDI for /tmp/tmp9i69hi75/Piano in U___[고음질] 전진희-취했네(Jeon Jin Hee-Be Drunk) With.곽진언 ⧸ 피아노 커버 Piano Cover___1_BzC7xtGtI___bhaK9JQsn-o___222___.wav...\n",
            "Predicting MIDI for /tmp/tmp785kk29f/Piano in U___BTS (방탄소년단) 뷔(V) '풍경 (Scenery)' ⧸Piano cover⧸ Sheet___1aqZCCcBYgA___f3YhK-oZmY8___252___.wav...\n"
          ]
        },
        {
          "output_type": "stream",
          "name": "stderr",
          "text": [
            "\r 16%|█▌        | 32/200 [03:03<16:07,  5.76s/it]"
          ]
        },
        {
          "output_type": "stream",
          "name": "stdout",
          "text": [
            "Predicting MIDI for /tmp/tmpt5cvsrdt/PineappleChord___Justin Bieber(저스틴비버) - Off My Face ｜ Justice ｜ Piano Cover & SheetMusic ｜ 피아노 커버 & 악보___1jxuA9dJiIY___rikm9eS6JAE___164___.wav...\n",
            "Predicting MIDI for /tmp/tmppbspzl_c/Flow Music Piano___Anne-Marie - 2002 피아노악보(Piano Sheet Music) ⧸ Piano Cover 피아노 커버 ⧸ Chord(코드)___1pLn-T3dGHQ___vZofi2hgiAE___188___.wav...\n"
          ]
        },
        {
          "output_type": "stream",
          "name": "stderr",
          "text": [
            "\r 17%|█▋        | 34/200 [03:16<16:22,  5.92s/it]"
          ]
        },
        {
          "output_type": "stream",
          "name": "stdout",
          "text": [
            "Predicting MIDI for /tmp/tmp3c9bteun/Flow Music Piano___AKMU - 어떻게 이별까지 사랑하겠어, 널 사랑하는 거지 피아노악보 How can I love the heartbreak, you're the one I love Piano___1pbawhdBBwU___mZz9uYdj_v4___285___.wav...\n",
            "Predicting MIDI for /tmp/tmpcewp181z/YourPianoCover___I Don't Wanna Live Forever (Fifty Shades Darker) - ZAYN, Taylor Swift - Piano Cover Video___1xHz5z8z2Kw___Hv5eq11sm9o___265___.wav...\n"
          ]
        },
        {
          "output_type": "stream",
          "name": "stderr",
          "text": [
            "\r 18%|█▊        | 36/200 [03:29<16:38,  6.09s/it]"
          ]
        },
        {
          "output_type": "stream",
          "name": "stdout",
          "text": [
            "Predicting MIDI for /tmp/tmpy5nkl0kt/Flow Music Piano___BTS V - Winter Bear 피아노악보(Piano Sheet Music) ⧸ Piano Cover 피아노 커버 ⧸ Chord(코드)___1zosqS6hj2M___QjB-tbddYfk___175___.wav...\n",
            "Predicting MIDI for /tmp/tmpsvd1g_59/Piano in U___김광진(Kim Kwang-jin) 편지 (The Letter) ⧸ Piano Cover ⧸ Sheet___25M6GrVsWvs___D_1OStc6Cm4___288___.wav...\n"
          ]
        },
        {
          "output_type": "stream",
          "name": "stderr",
          "text": [
            "\r 19%|█▉        | 38/200 [03:43<17:09,  6.36s/it]"
          ]
        },
        {
          "output_type": "stream",
          "name": "stdout",
          "text": [
            "Predicting MIDI for /tmp/tmpbymhmkf0/Piano Hug___첸 (Chen) - 너의 달빛 Your Moonlight (브람스를 좋아하세요 ost) Piano Cover - Piano Hug___25i6x6jo-1Y___qGL0AgIWtcA___235___.wav...\n",
            "Predicting MIDI for /tmp/tmpcktynpqv/Flow Music Piano___BTS (방탄소년단) - 낙원 (Paradise) Piano Tutorial 피아노 배우기___2ABt4oHNw6o___3g60P1VD2Lc___215___.wav...\n"
          ]
        },
        {
          "output_type": "stream",
          "name": "stderr",
          "text": [
            "\r 20%|██        | 40/200 [03:56<17:06,  6.41s/it]"
          ]
        },
        {
          "output_type": "stream",
          "name": "stdout",
          "text": [
            "Predicting MIDI for /tmp/tmpbrzj31c5/PineappleChord___조정석(Cho Jung Seok) - 아로하 (Aloha)[ 슬기로운 의사생활 OST ] 피아노 편곡 ｜ 피아노 악보 ｜ Piano Cover ｜ Piano Sheet___2G_8gu3En8E___3DOkxQ3HDXE___249___.wav...\n",
            "Predicting MIDI for /tmp/tmpd7moqhih/Piano Hug___Love is 사랑은 지날수록 더욱 선명하게 남아│Jeon Sang Keun 전상근│Sheet 악보│Piano Cover___2J2rEI574P0___o6QeCDp2oyU___257___.wav...\n"
          ]
        },
        {
          "output_type": "stream",
          "name": "stderr",
          "text": [
            "\r 21%|██        | 42/200 [04:10<17:21,  6.59s/it]"
          ]
        },
        {
          "output_type": "stream",
          "name": "stdout",
          "text": [
            "Predicting MIDI for /tmp/tmpe0m2x_7e/Piano in U___10cm - 스토커(Stalker) Piano cover⧸Sheet___2MCVVliSWo0___Laf1o9NEjcI___247___.wav...\n",
            "Predicting MIDI for /tmp/tmpqns_jifn/Piano in U___정준일(Jung Jun Il) - 안아줘(Hug Me) ⧸ Piano Cover ⧸ Sheet___2V2oUHmPKhs___8ogyHesy5fI___273___.wav...\n"
          ]
        },
        {
          "output_type": "stream",
          "name": "stderr",
          "text": [
            "\r 22%|██▏       | 44/200 [04:26<18:25,  7.09s/it]"
          ]
        },
        {
          "output_type": "stream",
          "name": "stdout",
          "text": [
            "Predicting MIDI for /tmp/tmpyyqho5c0/PineappleChord___BTS Jin - Abyss ( 방탄소년단) 피아노 커버 & 피아노 악보 ｜ Piano Cover & Piano Sheet___2YCqGDQJNkU___aqtSOksH-NE___161___.wav...\n",
            "Predicting MIDI for /tmp/tmp8rupx6gb/Piano in U___BTS (방탄소년단) 'Butter' ⧸ Piano Cover ⧸ Sheet___2a0akXIbAOU___jH--Wof3HfQ___161___.wav...\n"
          ]
        },
        {
          "output_type": "stream",
          "name": "stderr",
          "text": [
            "\r 23%|██▎       | 46/200 [04:39<17:26,  6.80s/it]"
          ]
        },
        {
          "output_type": "stream",
          "name": "stdout",
          "text": [
            "Predicting MIDI for /tmp/tmpn8vx53i2/Montechait___Édith Piaf - La Foule - Piano Arrangement___2f76SzfygAY___oFVpf4pw5AI___203___.wav...\n",
            "Predicting MIDI for /tmp/tmp0yk5z026/Montechait___Frank Sinatra - My Way - Piano Cover & Sheet Music___2gx4QI3aR4Q___NWu5qR-xpbc___286___.wav...\n"
          ]
        },
        {
          "output_type": "stream",
          "name": "stderr",
          "text": [
            "\r 24%|██▍       | 48/200 [04:55<18:26,  7.28s/it]"
          ]
        },
        {
          "output_type": "stream",
          "name": "stdout",
          "text": [
            "Predicting MIDI for /tmp/tmpne9rxua3/Flow Music Piano___BTS Jin - 이 밤(Tonight) 피아노악보(Piano Sheet Music) ⧸ Piano Cover 피아노 커버 ⧸ Chord(코드)___2ng4W1CRNok___xMFVyP2npjM___172___.wav...\n",
            "Predicting MIDI for /tmp/tmpr4c7rtbh/PineappleChord___아이유 (IU) - 라일락 ( LILAC )  ｜ 피아노 커버 & 피아노 악보 ｜ Piano Cover & Piano Sheet___2sj5wrZbqro___W475_MHV_EU___219___.wav...\n"
          ]
        },
        {
          "output_type": "stream",
          "name": "stderr",
          "text": [
            "\r 25%|██▌       | 50/200 [05:12<19:02,  7.62s/it]"
          ]
        },
        {
          "output_type": "stream",
          "name": "stdout",
          "text": [
            "Predicting MIDI for /tmp/tmp7nxi38lf/Montechait___Elvis Presley - Can't Help Falling in Love ｜ Piano Tutorial + Sheet Music___2tfGpYgqU8s___9JbSeQ9tn44___215___.wav...\n",
            "Predicting MIDI for /tmp/tmpwv3y9r82/YourPianoCover___Try - Colbie Caillat - Piano Cover Video by YourPianoCover___30hbTjx8tBs___0m3_vnJrtyo___239___.wav...\n"
          ]
        },
        {
          "output_type": "stream",
          "name": "stderr",
          "text": [
            "\r 26%|██▌       | 52/200 [05:26<18:11,  7.38s/it]"
          ]
        },
        {
          "output_type": "stream",
          "name": "stdout",
          "text": [
            "Predicting MIDI for /tmp/tmpkl2_thr3/Piano in U___BTS (방탄소년단) 'IDOL' Piano cover⧸ Sheet___35mCaY-nZXk___vgJeQvGYYpk___267___.wav...\n",
            "Predicting MIDI for /tmp/tmp9t232dsd/Piano in U___Coldplay - Everglow ⧸ Piano Cover ⧸ Sheet___37c4_7baKJQ___XkB35_TkUag___283___.wav...\n",
            "Predicting MIDI for /tmp/tmpenxmqc4g/YourPianoCover___Hey Brother - Avicii - Piano Cover Video by YourPianoCover___3AV0okMC244___enuezQKyEhg___265___.wav...\n"
          ]
        },
        {
          "output_type": "stream",
          "name": "stderr",
          "text": [
            "\r 27%|██▋       | 54/200 [05:44<19:04,  7.84s/it]"
          ]
        },
        {
          "output_type": "stream",
          "name": "stdout",
          "text": [
            "Predicting MIDI for /tmp/tmphqggt3ch/YourPianoCover___No Brainer - Justin Bieber, DJ Khaled, Quavo - Piano Cover Video by YourPianoCover___3DKGf_Us3MI___W4qsT-CFVdA___289___.wav...\n",
            "Predicting MIDI for /tmp/tmpsgs2m69b/Flow Music Piano___BTS (방탄소년단) - Anpanman Piano Tutorial 피아노 배우기___3HhzpK36wwY___lK0PzBcnk-o___240___.wav...\n"
          ]
        },
        {
          "output_type": "stream",
          "name": "stderr",
          "text": [
            "\r 28%|██▊       | 56/200 [05:59<18:46,  7.82s/it]"
          ]
        },
        {
          "output_type": "stream",
          "name": "stdout",
          "text": [
            "Predicting MIDI for /tmp/tmplhagaaxc/Flow Music Piano___비투비 (BTOB) - 아름답고도 아프구나 (Beautiful Pain) Piano Tutorial 피아노 배우기___3IjK_keb0zg___J57HXP79OjU___243___.wav...\n",
            "Predicting MIDI for /tmp/tmpdjrp9qw2/YourPianoCover___Don't Call Me Up - Mabel - Piano Cover Video by YourPianoCover___3JfjrkXC4q4___ye_MJNiIdgQ___201___.wav...\n"
          ]
        },
        {
          "output_type": "stream",
          "name": "stderr",
          "text": [
            "\r 29%|██▉       | 58/200 [06:12<17:35,  7.43s/it]"
          ]
        },
        {
          "output_type": "stream",
          "name": "stdout",
          "text": [
            "Predicting MIDI for /tmp/tmp19hj430n/Piano in U___IU(아이유) _ eight(에잇) (Prod.&Feat. SUGA of BTS) ⧸ Piano Cover ⧸ Sheet___3NpWgnfOlwk___yFkvinwYbes___165___.wav...\n",
            "Predicting MIDI for /tmp/tmpxb5d6i53/Montechait___Adele - Strangers By Nature ｜ HQ Piano Cover + Sheet Music___3cCeyJJZ8RM___W40ULozXRSY___194___.wav...\n"
          ]
        },
        {
          "output_type": "stream",
          "name": "stderr",
          "text": [
            "\r 30%|███       | 60/200 [06:24<16:15,  6.97s/it]"
          ]
        },
        {
          "output_type": "stream",
          "name": "stdout",
          "text": [
            "Predicting MIDI for /tmp/tmp8roz855_/YourPianoCover___How Far I'll Go from Disney's Moana - Alessia Cara - Piano Cover Video by YourPianoCover___3oy1W5_Ykzg___llEP2h4Ex1Q___185___.wav...\n",
            "Predicting MIDI for /tmp/tmp0jib8xrx/Piano in U___BTS (방탄소년단) 'Make It Right'⧸Piano cover⧸Sheet___3veM82AOSss___F2mbAkat5n8___237___.wav...\n"
          ]
        },
        {
          "output_type": "stream",
          "name": "stderr",
          "text": [
            "\r 31%|███       | 62/200 [06:37<15:43,  6.84s/it]"
          ]
        },
        {
          "output_type": "stream",
          "name": "stdout",
          "text": [
            "Predicting MIDI for /tmp/tmp7gmyo1vb/Montechait___Eric Clapton - Tears in Heaven ｜ Piano Cover + Sheet Music___3xKnR0DA0ZQ___AmUDY-jgh8k___270___.wav...\n",
            "Predicting MIDI for /tmp/tmpoilvp4rj/Piano Hug___아이유 IU│너 You│악보 Sheet│Piano Cover___3yNnQfDGiOo___3bB-9DdRZ8Q___266___.wav...\n"
          ]
        },
        {
          "output_type": "stream",
          "name": "stderr",
          "text": [
            "\r 32%|███▏      | 64/200 [06:53<16:23,  7.23s/it]"
          ]
        },
        {
          "output_type": "stream",
          "name": "stdout",
          "text": [
            "Predicting MIDI for /tmp/tmpbwxa0gb5/PineappleChord___잔나비 (JANNABI) - 주저하는 연인들을 위해 (For Lovers Who Hesitate) 피아노 편곡 ｜ 피아노 악보 ｜ Piano Cover ｜ Piano Sheet___41DdcznIHSg___5g4KsIizYhQ___280___.wav...\n",
            "Predicting MIDI for /tmp/tmpqa7n2yls/YourPianoCover___Thunder - Imagine Dragons - Synthesia Piano Video by YourPianoCover___44O4wjbR1LQ___s-m0eId06oQ___200___.wav...\n"
          ]
        },
        {
          "output_type": "stream",
          "name": "stderr",
          "text": [
            "\r 33%|███▎      | 66/200 [07:09<16:38,  7.45s/it]"
          ]
        },
        {
          "output_type": "stream",
          "name": "stdout",
          "text": [
            "Predicting MIDI for /tmp/tmp4j_7vopp/YourPianoCover___Boyfriend - Ariana Grande, Social House - Piano Cover Video by YourPianoCover___4IMGCm5OYYs___6K9zmuaaRSM___207___.wav...\n",
            "Predicting MIDI for /tmp/tmpj7lz_llo/Piano in U___Hwa Sa(화사) _ Maria(마리아) ⧸ Piano Cover ⧸ Sheet___4NRMOvR18BY___I7kLrE9N8Q0___202___.wav...\n"
          ]
        },
        {
          "output_type": "stream",
          "name": "stderr",
          "text": [
            "\r 34%|███▍      | 68/200 [07:22<15:29,  7.04s/it]"
          ]
        },
        {
          "output_type": "stream",
          "name": "stdout",
          "text": [
            "Predicting MIDI for /tmp/tmp1yl7k17p/PineappleChord___Speechless - Aladdin ost ( Naomi Scott ) 스피치리스 - 알라딘 ost ｜ 피아노 악보 ｜ 편곡 ｜ Piano Cover ｜ Piano Sheet___4ONQj26Oayg___UHwJFkfqaaI___200___.wav...\n",
            "Predicting MIDI for /tmp/tmpryukwgtu/Piano in U___마미손(Mommy Son) - 사랑은 (Love is) (Feat. 원슈타인(Wonstein)) ⧸ Piano Cover ⧸ Sheet___4Pn33ogdRKk___Ex_DlK0dLgE___207___.wav...\n"
          ]
        },
        {
          "output_type": "stream",
          "name": "stderr",
          "text": [
            "\r 35%|███▌      | 70/200 [07:35<15:01,  6.94s/it]"
          ]
        },
        {
          "output_type": "stream",
          "name": "stdout",
          "text": [
            "Predicting MIDI for /tmp/tmppacgm0dx/Montechait___SLANDER - Love Is Gone (Acoustic) ft. Dylan Matthew ｜ Piano Sheet Music___4R5INBWThgo___34Tmi7gVzcE___209___.wav...\n",
            "Predicting MIDI for /tmp/tmpvbhx2k9o/Piano in U___[고음질] MOMOLAND-BBoom BBoom (모모랜드-뿜뿜) ⧸ 피아노 커버 Piano Cover___4WrixrOdYts___cMl9_IixsGk___218___.wav...\n"
          ]
        },
        {
          "output_type": "stream",
          "name": "stderr",
          "text": [
            "\r 36%|███▌      | 72/200 [07:47<14:09,  6.64s/it]"
          ]
        },
        {
          "output_type": "stream",
          "name": "stdout",
          "text": [
            "Predicting MIDI for /tmp/tmpr67ln7qz/PineappleChord___Justin Bieber - Anyone ( 저스틴 비버 - 애니원 ) 피아노 편곡 ｜ 피아노 악보 ｜ Piano cover ｜ Piano sheet___4caNoR5rj8s___seexiwp1da8___198___.wav...\n",
            "Predicting MIDI for /tmp/tmphd9hoatw/PineappleChord___이적 - 쉼표 ( with 윤석철 ｜ 소울 ost, 엔드크레딧 송 ) Soul OST ｜ 피아노 편곡 ｜ 피아노 악보 ｜ Piano Cover ｜ Piano Sheet___4cwCA8iAgwE___xEe9Nsh4zEA___292___.wav...\n"
          ]
        },
        {
          "output_type": "stream",
          "name": "stderr",
          "text": [
            "\r 37%|███▋      | 74/200 [07:58<13:21,  6.36s/it]"
          ]
        },
        {
          "output_type": "stream",
          "name": "stdout",
          "text": [
            "Predicting MIDI for /tmp/tmp6jdkqvcx/Piano in U___Justin Bieber - Off My Face ⧸ Piano Cover ⧸ Sheet___4gIpadClRAg___ChQzo5NWXkc___155___.wav...\n"
          ]
        },
        {
          "output_type": "stream",
          "name": "stderr",
          "text": [
            "\r 38%|███▊      | 76/200 [08:08<12:20,  5.98s/it]"
          ]
        },
        {
          "output_type": "stream",
          "name": "stdout",
          "text": [
            "Predicting MIDI for /tmp/tmpbpnaou2o/Montechait___Queen - We Are The Champions ｜ Piano Sheet Music___4hmDvS3ScNU___8leRk0zaBRg___187___.wav...\n",
            "Predicting MIDI for /tmp/tmp9kltn1_1/YourPianoCover___Rather Be feat. Jess Glynne - Clean Bandit - Piano Cover Video by YourPianoCover___4ok8hJZFzhM___IwJnTCHtpVU___244___.wav...\n"
          ]
        },
        {
          "output_type": "stream",
          "name": "stderr",
          "text": [
            "\r 39%|███▉      | 78/200 [08:22<12:47,  6.29s/it]"
          ]
        },
        {
          "output_type": "stream",
          "name": "stdout",
          "text": [
            "Predicting MIDI for /tmp/tmp5cfe0un3/PineappleChord___아이유(IU) - 마음을 드려요 (Give You My Heart)  [ 사랑의 불시착 OST ] 피아노 편곡 ｜ 피아노 악보 ｜ Piano Cover ｜ Piano Sheet___4sf6OdjbGTU___MUSaT2B7Lt8___298___.wav...\n",
            "Predicting MIDI for /tmp/tmp6irr5oy1/Montechait___Dancing in the Moonlight - Piano Cover + Sheet Music___4usDekW72Mg___RvUzkrrdOI8___200___.wav...\n"
          ]
        },
        {
          "output_type": "stream",
          "name": "stderr",
          "text": [
            "\r 40%|████      | 80/200 [08:35<12:27,  6.23s/it]"
          ]
        },
        {
          "output_type": "stream",
          "name": "stdout",
          "text": [
            "Predicting MIDI for /tmp/tmphuq1vf1z/Piano in U___윤하 (Younha) - 기다리다 (Waiting) ⧸ Piano Cover ⧸ Sheet___4yJ8HRKC7w8___ByQsSmckjQg___272___.wav...\n",
            "Predicting MIDI for /tmp/tmpp5b82w75/PineappleChord___앤 마리에게 무슨일이？ Anne Marie - 2002 ( 앤 마리 2002 ) 피아노 편곡 ｜ 피아노 악보 ｜ Piano Cover ｜ Piano Sheet___5CimFNfX2LI___vZofi2hgiAE___206___.wav...\n"
          ]
        },
        {
          "output_type": "stream",
          "name": "stderr",
          "text": [
            "\r 41%|████      | 82/200 [08:48<12:35,  6.40s/it]"
          ]
        },
        {
          "output_type": "stream",
          "name": "stdout",
          "text": [
            "Predicting MIDI for /tmp/tmpcqm_3chz/Montechait___Olivia Rodrigo - deja vu - Piano Cover + Sheet Music___5RIUovzRJnQ___ozbU_qheL6A___208___.wav...\n",
            "Predicting MIDI for /tmp/tmpfobq6yxu/YourPianoCover___Havana - Camila Cabello, Young Thug - Piano Cover Video by YourPianoCover___5UOqx1llMEg___gQkI4hvqPCs___239___.wav...\n"
          ]
        },
        {
          "output_type": "stream",
          "name": "stderr",
          "text": [
            "\r 42%|████▏     | 84/200 [08:59<11:44,  6.08s/it]"
          ]
        },
        {
          "output_type": "stream",
          "name": "stdout",
          "text": [
            "Predicting MIDI for /tmp/tmpne9kao26/PineappleChord___내일이 오면 - 릴보이 ( Feat. 기리보이, BIG Naughty ｜ 서동현 ) 쇼미더머니 9 ｜ 피아노 편곡 ｜ 피아노 악보 ｜ Piano Cover ｜ Piano Sheet___5c5RMxeuitI___e0--itBVfa0___284___.wav...\n",
            "Predicting MIDI for /tmp/tmp3ihg4dgq/Piano in U___IU(아이유)_LILAC(라일락) ⧸ Piano Cover ⧸ Sheet___5jhaoe9XiAQ___W475_MHV_EU___218___.wav...\n"
          ]
        },
        {
          "output_type": "stream",
          "name": "stderr",
          "text": [
            "\r 43%|████▎     | 86/200 [09:14<12:25,  6.54s/it]"
          ]
        },
        {
          "output_type": "stream",
          "name": "stdout",
          "text": [
            "Predicting MIDI for /tmp/tmp1mb8eqvw/Montechait___Queen - Love Of My Life - Piano Sheet Music___5l2YPRd_zYo___bX-aT6S8R58___223___.wav...\n",
            "Predicting MIDI for /tmp/tmpdbmwgc60/YourPianoCover___I'm Not The Only One - Sam Smith - Piano Cover Video by YourPianoCover___5nbLvUQsoY0___7BJgdu4V4kQ___252___.wav...\n"
          ]
        },
        {
          "output_type": "stream",
          "name": "stderr",
          "text": [
            "\r 44%|████▍     | 88/200 [09:28<12:20,  6.62s/it]"
          ]
        },
        {
          "output_type": "stream",
          "name": "stdout",
          "text": [
            "Predicting MIDI for /tmp/tmp13v_ioew/Piano in U___BTOB (비투비) - 'The Feeling'⧸piano cover⧸Sheet___5pdkybWP0nY___IRSJ15kWLx0___251___.wav...\n",
            "Predicting MIDI for /tmp/tmp92_29f5z/Piano in U___[여신강림OST] 찬희(CHA NI (SF9)) - 그리움 (Starlight) ⧸ Piano Cover ⧸ Sheet___5y6Xl7qJpZw___m_k69m3pPmo___275___.wav...\n"
          ]
        },
        {
          "output_type": "stream",
          "name": "stderr",
          "text": [
            "\r 45%|████▌     | 90/200 [09:47<13:49,  7.54s/it]"
          ]
        },
        {
          "output_type": "stream",
          "name": "stdout",
          "text": [
            "Predicting MIDI for /tmp/tmpm_hyyokh/Piano in U___성시경 _ 너의 모든 순간 My Love From the Star (별에서 온 그대 OST) ⧸ Piano Cover ⧸ Sheet___5y7NlckZ8sQ___BciTZBx5YD0___233___.wav...\n",
            "Predicting MIDI for /tmp/tmp93pbieqk/Piano in U___정승환(Jung Seung-Hwan) -너였다면 (If It Is You)⧸Piano Cover⧸Sheet___69hg7UotUjc___uweUzMytVcM___287___.wav...\n"
          ]
        },
        {
          "output_type": "stream",
          "name": "stderr",
          "text": [
            "\r 46%|████▌     | 92/200 [10:06<14:38,  8.13s/it]"
          ]
        },
        {
          "output_type": "stream",
          "name": "stdout",
          "text": [
            "Predicting MIDI for /tmp/tmpmf2s7i67/PineappleChord___Olivia Rodrigo - Drivers License(올리비아 로드리고 - 드라이버스 라이센스) 피아노 편곡 ｜ 피아노 악보 ｜ Piano Cover ｜ Piano Sheet___6G9H3SH7Njk___WVNX-DWNeQk___241___.wav...\n",
            "Predicting MIDI for /tmp/tmptue_lr2i/PineappleChord___히사이시 조(Hisaishi Joe) - Summer ( 키쿠지로의 여름 Ost⧸菊次郞の夏 ) 피아노 & 스트링  ｜ 피아노 악보 ｜ Piano Cover & Piano Sheet___6P34YWDHv14___32weHutf_YI___158___.wav...\n"
          ]
        },
        {
          "output_type": "stream",
          "name": "stderr",
          "text": [
            "\r 47%|████▋     | 94/200 [10:16<12:41,  7.18s/it]"
          ]
        },
        {
          "output_type": "stream",
          "name": "stdout",
          "text": [
            "Predicting MIDI for /tmp/tmpby0aqk19/Montechait___Somewhere Over The Rainbow - Dreamy Piano Version___6QKoDwiooEs___Ckn_QhOjUYY___221___.wav...\n",
            "Predicting MIDI for /tmp/tmpwceh39yp/Montechait___GHOSTBUSTERS - Theme Song 👻 ｜ Piano Cover + Sheet Music___6aQ7VFo0BJw___6xX9IRvhbOM___189___.wav...\n"
          ]
        },
        {
          "output_type": "stream",
          "name": "stderr",
          "text": [
            "\r 48%|████▊     | 96/200 [10:29<12:07,  6.99s/it]"
          ]
        },
        {
          "output_type": "stream",
          "name": "stdout",
          "text": [
            "Predicting MIDI for /tmp/tmp15enrwaa/Montechait___Alphaville - Forever Young ｜ Piano Tutorial + Sheet Music___6bL1MSKKux8___87c9IVqYwMc___234___.wav...\n",
            "Predicting MIDI for /tmp/tmp2ouk_hh1/Montechait___Andrea Bocelli & Celine Dion - The Prayer - Piano Sheet Music___6bT5Ra8d-ik___XDmtINAEIGs___296___.wav...\n"
          ]
        },
        {
          "output_type": "stream",
          "name": "stderr",
          "text": [
            "\r 49%|████▉     | 98/200 [10:44<12:12,  7.18s/it]"
          ]
        },
        {
          "output_type": "stream",
          "name": "stdout",
          "text": [
            "Predicting MIDI for /tmp/tmp6erp_wol/Montechait___Adele - Easy On Me - Karaoke (Piano Accompaniment) with Lyrics!___6ennRRIH2BU___WHmzJm7UWVM___235___.wav...\n",
            "Predicting MIDI for /tmp/tmpn0sem9j_/Flow Music Piano___워너원 (Wanna One) - 11 (Eleven) Piano Tutorial 피아노 배우기___6fty1j0xPDQ___vJSzKV5DXy8___212___.wav...\n"
          ]
        },
        {
          "output_type": "stream",
          "name": "stderr",
          "text": [
            "\r 50%|█████     | 100/200 [10:55<11:05,  6.65s/it]"
          ]
        },
        {
          "output_type": "stream",
          "name": "stdout",
          "text": [
            "Predicting MIDI for /tmp/tmp55vh3i3i/Piano in U___펀치(Punch) - Done For Me ( Hotel Del Luna OST)⧸Piano cover⧸Sheet___6n8HgIcJ6vo___kVawGbSxoKM___230___.wav...\n",
            "Predicting MIDI for /tmp/tmpd9waau7y/Flow Music Piano___TWICE - FANCY 피아노악보(Piano Sheet Music) ⧸ Piano Cover 피아노 커버 ⧸ Chord(코드)___6wJjnGMOrsQ___p6AaOJI0vKo___217___.wav...\n"
          ]
        },
        {
          "output_type": "stream",
          "name": "stderr",
          "text": [
            "\r 51%|█████     | 102/200 [11:10<11:07,  6.81s/it]"
          ]
        },
        {
          "output_type": "stream",
          "name": "stdout",
          "text": [
            "Predicting MIDI for /tmp/tmpq2x_et75/PineappleChord___송이한 - 밝게 빛나는 별이 되어 비춰줄게(I will be your shining star)피아노 편곡 ｜ 피아노 악보 ｜ Piano Cover ｜ Piano Sheet___71rI5VxJZO8___hzBxmkXqCC8___229___.wav...\n",
            "Predicting MIDI for /tmp/tmpcaj4g78y/Montechait___Don McLean - Vincent (＂Starry Starry Night＂) - Piano Sheet Music___7BKNEoNtVt8___bk-82ebJyZ0___269___.wav...\n"
          ]
        },
        {
          "output_type": "stream",
          "name": "stderr",
          "text": [
            "\r 52%|█████▏    | 104/200 [11:24<11:00,  6.88s/it]"
          ]
        },
        {
          "output_type": "stream",
          "name": "stdout",
          "text": [
            "Predicting MIDI for /tmp/tmp6mv_ln0q/Flow Music Piano___워너원 (Wanna One) - 캥거루 (Kangaroo) Piano Tutorial 피아노 배우기___7CScYGvFDcw___8S0iH0DtfVM___231___.wav...\n",
            "Predicting MIDI for /tmp/tmplv2i4jhc/Flow Music Piano___워너원 (Wanna One) - 너의 이름을 (Your Name⧸I'll Remember) Piano Tutorial 피아노 튜토리얼___7FZZ-5fP3Pg___x_xVCkxNSF8___216___.wav...\n"
          ]
        },
        {
          "output_type": "stream",
          "name": "stderr",
          "text": [
            "\r 53%|█████▎    | 106/200 [11:37<10:37,  6.79s/it]"
          ]
        },
        {
          "output_type": "stream",
          "name": "stdout",
          "text": [
            "Predicting MIDI for /tmp/tmpeghlbuxr/Flow Music Piano___BTS (방탄소년단) - I'm Fine Piano Tutorial 피아노 배우기___7I0nlgIsxL4___tGVjM8b3Xwo___239___.wav...\n",
            "Predicting MIDI for /tmp/tmprx27hkas/PineappleChord___오마이걸(OH MY GIRL) - 던던댄스(Dun Dun Dance) ｜ 🎹 Piano Cover & Sheet Music ｜ K-POP 피아노 커버 & 악보___7KtX8jGg3eM___0l9LB_Noe2Q___235___.wav...\n"
          ]
        },
        {
          "output_type": "stream",
          "name": "stderr",
          "text": [
            "\r 54%|█████▍    | 108/200 [11:51<10:36,  6.92s/it]"
          ]
        },
        {
          "output_type": "stream",
          "name": "stdout",
          "text": [
            "Predicting MIDI for /tmp/tmpdimj3bgu/Piano in U___[고음질] 김건모 - 혼자만의 사랑 ⧸ 피아노 커버 (Piano cover)___7LKdzNuvjFk___agCddlN1bIk___295___.wav...\n",
            "Predicting MIDI for /tmp/tmp0rcgscjp/Montechait___Andrea Bocelli & Celine Dion - The Prayer - Piano Cover & Sheet Music___7LPY8MBOe-s___XDmtINAEIGs___296___.wav...\n"
          ]
        },
        {
          "output_type": "stream",
          "name": "stderr",
          "text": [
            "\r 55%|█████▌    | 110/200 [12:08<11:07,  7.42s/it]"
          ]
        },
        {
          "output_type": "stream",
          "name": "stdout",
          "text": [
            "Predicting MIDI for /tmp/tmpfu5r7ikw/Piano in U___BTS (방탄소년단) - Miss Right ⧸ Piano Cover⧸ Sheet___7NvAf9VpoMQ___gQEibb19w8k___270___.wav...\n",
            "Predicting MIDI for /tmp/tmp2321lzx_/Piano in U___Brave Girls (브레이브걸스) - Rollin' (롤린) ⧸ Piano Cover ⧸ Sheet___7Qvw77fCQ_M___lOf2RLPdJj8___198___.wav...\n"
          ]
        },
        {
          "output_type": "stream",
          "name": "stderr",
          "text": [
            "\r 56%|█████▌    | 112/200 [12:23<10:45,  7.34s/it]"
          ]
        },
        {
          "output_type": "stream",
          "name": "stdout",
          "text": [
            "Predicting MIDI for /tmp/tmpopursxr8/Montechait___Ray Charles - Georgia On My Mind - Piano Cover & Sheet Music___7THUgQ2J1fw___RkcX2Cyn9DA___246___.wav...\n",
            "Predicting MIDI for /tmp/tmph11l9eba/Piano in U___윤건(YOON GUN) - 너도 그냥 날 놓아주면 돼 (Just Let Me Go)⧸Piano cover⧸ Sheet___7VDWaQfBVZE___6rDSn_a4PiY___257___.wav...\n"
          ]
        },
        {
          "output_type": "stream",
          "name": "stderr",
          "text": [
            "\r 57%|█████▋    | 114/200 [12:37<10:26,  7.29s/it]"
          ]
        },
        {
          "output_type": "stream",
          "name": "stdout",
          "text": [
            "Predicting MIDI for /tmp/tmp025yli2h/YourPianoCover___Hands To Myself - Selena Gomez - Piano Cover Video by YourPianoCover___7WtPap59DXM___HEMSSLQm8O4___221___.wav...\n",
            "Predicting MIDI for /tmp/tmpe099puf9/PineappleChord___파인애플코드 1회 가상 피아노 콘서트 ( VR Piano Concert )___7aRN43lU24w___nMJnBWPZyK8___263___.wav...\n"
          ]
        },
        {
          "output_type": "stream",
          "name": "stderr",
          "text": [
            "\r 58%|█████▊    | 116/200 [12:52<10:16,  7.34s/it]"
          ]
        },
        {
          "output_type": "stream",
          "name": "stdout",
          "text": [
            "Predicting MIDI for /tmp/tmp6nkle7ac/Montechait___Richard Marx - Right Here Waiting - Piano Sheet Music___7ieNDZQDixw___-sMibx1b4uw___243___.wav...\n",
            "Predicting MIDI for /tmp/tmpagkoafx4/Piano in U___Wanna One (워너원) - 'FLOWERBOMB (불꽃놀이)' Piano cover⧸ Sheet___7wRJUC907M0___oSjhKjXSriY___215___.wav...\n"
          ]
        },
        {
          "output_type": "stream",
          "name": "stderr",
          "text": [
            "\r 59%|█████▉    | 118/200 [13:05<09:41,  7.09s/it]"
          ]
        },
        {
          "output_type": "stream",
          "name": "stdout",
          "text": [
            "Predicting MIDI for /tmp/tmp7ywof3cm/PineappleChord___Into the Unknown - Frozen 2 ost ｜ 인투 더 언노운 - 겨울왕국 2 ost ｜ 피아노 악보 ｜ Piano Cover ｜ Piano Sheet___7x32cPe9R8g___xTzaswTXXe0___206___.wav...\n",
            "Predicting MIDI for /tmp/tmpxjo_wl1i/Piano in U___숀(SHAUN) Way Back Home_Piano cover⧸ Sheet___81WmV9W9ZCo___s09KK5vbLHY___237___.wav...\n"
          ]
        },
        {
          "output_type": "stream",
          "name": "stderr",
          "text": [
            "\r 60%|██████    | 120/200 [13:18<09:17,  6.96s/it]"
          ]
        },
        {
          "output_type": "stream",
          "name": "stdout",
          "text": [
            "Predicting MIDI for /tmp/tmp0zxuw3hm/Montechait___Elton John - Can You Feel the Love Tonight (from ＂The Lion King＂) - Piano Cover + Sheet Music___867LQ7JzsVc___Y2hgXc4QcwY___264___.wav...\n",
            "Predicting MIDI for /tmp/tmpw57v4s7e/YourPianoCover___Rude - Magic! - Piano Cover Video by YourPianoCover___8DPVRfvHMv0___8JCyZsONkGw___239___.wav...\n"
          ]
        },
        {
          "output_type": "stream",
          "name": "stderr",
          "text": [
            "\r 61%|██████    | 122/200 [13:32<09:01,  6.95s/it]"
          ]
        },
        {
          "output_type": "stream",
          "name": "stdout",
          "text": [
            "Predicting MIDI for /tmp/tmp392ygwz6/Piano in U___임영웅_어느60대 노부부 이야기 (미스터트롯) ⧸ Piano Cover ⧸ Sheet___8FWJk6G9obA___0pU68y2_o-E___289___.wav...\n",
            "Predicting MIDI for /tmp/tmphg2miz68/YourPianoCover___Love Me Harder - Ariana Grande ft. The Weeknd - Piano Cover Video by YourPianoCover___8ODjjAv6NOo___p1A4ucqElBE___241___.wav...\n"
          ]
        },
        {
          "output_type": "stream",
          "name": "stderr",
          "text": [
            "\r 62%|██████▏   | 124/200 [13:46<08:49,  6.97s/it]"
          ]
        },
        {
          "output_type": "stream",
          "name": "stdout",
          "text": [
            "Predicting MIDI for /tmp/tmp5_o9uybn/YourPianoCover___River of Despair from The Binding of Isaac - Ridiculon - Piano Cover Video by YourPianoCover___8XNO0IpY9NA___5lvk80pAGqw___165___.wav...\n",
            "Predicting MIDI for /tmp/tmp9xev6vkz/PineappleChord___달달한 노래 Ed Sheeran - Thinking out Loud ｜ 에드  시런 씽킹아웃라우드 ｜ 피아노 편곡 ｜ 피아노 악보 ｜ Piano Cover ｜ Piano Sheet___8Q0TfiaJt2I___GzWV5nUTjB8___278___.wav...\n"
          ]
        },
        {
          "output_type": "stream",
          "name": "stderr",
          "text": [
            "\r 63%|██████▎   | 126/200 [14:00<08:39,  7.02s/it]"
          ]
        },
        {
          "output_type": "stream",
          "name": "stdout",
          "text": [
            "Predicting MIDI for /tmp/tmpziqoxlch/PineappleChord___재회 - 세정 ( 경이로운 소문 ost )Meet Again-The Uncanny Counter ｜ 피아노 편곡 ｜ 피아노 악보 ｜ Piano Cover ｜ Piano Sheet___8_FdUmY4U_Q___a3PRXZo9sUI___266___.wav...\n",
            "Predicting MIDI for /tmp/tmpm97lhyta/Montechait___Chicago - If You Leave Me Now - Piano Arrangement & Sheet Music___8iX4BB0Ti6A___8g-cF9H53lU___196___.wav...\n"
          ]
        },
        {
          "output_type": "stream",
          "name": "stderr",
          "text": [
            "\r 64%|██████▍   | 128/200 [14:13<08:06,  6.75s/it]"
          ]
        },
        {
          "output_type": "stream",
          "name": "stdout",
          "text": [
            "Predicting MIDI for /tmp/tmpu9cn1y46/YourPianoCover___Crying for No Reason - Katy B - Piano Cover Video by YourPianoCover___8lGI0grHjog___8cQFayyl_YQ___256___.wav...\n",
            "Predicting MIDI for /tmp/tmpazcirtlv/PineappleChord___장범준 - 추적이는 여름 비가 되어 (As You Wish) ｜ Piano Cover & SheetMusic ｜ K-POP 피아노 커버 & 악보___8pV6G0CGTKU___o6qY2xsP66k___279___.wav...\n"
          ]
        },
        {
          "output_type": "stream",
          "name": "stderr",
          "text": [
            "\r 65%|██████▌   | 130/200 [14:30<08:36,  7.38s/it]"
          ]
        },
        {
          "output_type": "stream",
          "name": "stdout",
          "text": [
            "Predicting MIDI for /tmp/tmpbabfq7kk/PineappleChord___Maroon 5 - Girls Like You ｜ 마룬5 걸스 라이크 유 ｜ 피아노 편곡 ｜ 피아노 악보 ｜ Piano Cover ｜ Piano Sheet___93bc2uUGQR4___lUapkbzxQmM___250___.wav...\n",
            "Predicting MIDI for /tmp/tmpcfof5sv7/Piano in U___BOL4(볼빨간사춘기) _ Leo(나비와 고양이) (feat. BAEKHYUN(백현)) ⧸ Piano Cover ⧸ Sheet___9E9k1eoaHSY___0dZnf09g77g___194___.wav...\n"
          ]
        },
        {
          "output_type": "stream",
          "name": "stderr",
          "text": [
            "\r 66%|██████▌   | 132/200 [14:43<07:57,  7.03s/it]"
          ]
        },
        {
          "output_type": "stream",
          "name": "stdout",
          "text": [
            "Predicting MIDI for /tmp/tmpyz5rc0av/PineappleChord___가호(Gaho) - 시작(Start Over)[이태원 클라쓰 OST ｜ Iteawon class] 피아노 편곡 ｜ 피아노 악보 ｜ Piano Cover ｜ Piano Sheet___9H2MPRMbHjg___hWYM5QEt0Fg___203___.wav...\n",
            "Predicting MIDI for /tmp/tmpmfu_q4cu/Piano Hug___두사람 Two People│성시경 Sung Si Kyung│악보 Sheet│Piano Cover___9HdGL-0cmiY___59YLqazkQ9U___229___.wav...\n"
          ]
        },
        {
          "output_type": "stream",
          "name": "stderr",
          "text": [
            "\r 67%|██████▋   | 134/200 [14:56<07:33,  6.88s/it]"
          ]
        },
        {
          "output_type": "stream",
          "name": "stdout",
          "text": [
            "Predicting MIDI for /tmp/tmp86slhl5j/Piano in U___[고음질] BIGBANG-FLOWER ROAD (빅뱅-꽃길) ⧸ 피아노 커버 Piano Cover___9S4c3tgCGGE___3GnCKBfbgN8___225___.wav...\n",
            "Predicting MIDI for /tmp/tmp8ilpxtwa/Montechait___Enya - Only Time ｜ Piano Cover + Sheet Music___9ZBsxMUSV2g___vUlDo8T2gWI___222___.wav...\n"
          ]
        },
        {
          "output_type": "stream",
          "name": "stderr",
          "text": [
            "\r 68%|██████▊   | 136/200 [15:08<07:05,  6.66s/it]"
          ]
        },
        {
          "output_type": "stream",
          "name": "stdout",
          "text": [
            "Predicting MIDI for /tmp/tmpvp8gyne3/Piano in U___이선희(Lee Sun Hee) - 인연(Fate) ⧸ Piano Cover ⧸ Sheet___9sE3z8u47XU___AMPWpCcLHu4___259___.wav...\n"
          ]
        },
        {
          "output_type": "stream",
          "name": "stderr",
          "text": [
            "\r 69%|██████▉   | 138/200 [15:16<05:58,  5.78s/it]"
          ]
        },
        {
          "output_type": "stream",
          "name": "stdout",
          "text": [
            "Predicting MIDI for /tmp/tmpismvwmcp/Montechait___SLANDER - Love Is Gone ft. Dylan Matthew ｜ Piano Cover + Sheet Music___9wyx6z-UtrU___34Tmi7gVzcE___200___.wav...\n",
            "Predicting MIDI for /tmp/tmphcj5lnsl/PineappleChord___숀(SHAUN) - 닫힌엔딩(Closed Ending) ｜ Piano Cover & Sheet Music ｜ K-POP 피아노 커버 & 악보___A5z3naTeWHU___ElRzpodI8Ms___276___.wav...\n",
            "Predicting MIDI for /tmp/tmpsmro__cu/YourPianoCover___Lean On (feat. MØ & DJ Snake) - Major Lazer - Piano Cover Video by YourPianoCover___A95SAuRi50s___NEjF9np9_NU___190___.wav...\n"
          ]
        },
        {
          "output_type": "stream",
          "name": "stderr",
          "text": [
            "\r 70%|███████   | 140/200 [15:30<06:13,  6.23s/it]"
          ]
        },
        {
          "output_type": "stream",
          "name": "stdout",
          "text": [
            "Predicting MIDI for /tmp/tmpft04pwf2/Flow Music Piano___블랙핑크 (BLACKPINK) - 뚜두뚜두 (DDU-DU DDU-DU) Piano Tutorial 피아노 배우기___AHNz9Vh4sCA___wgL1tkdgi6Y___217___.wav...\n",
            "Predicting MIDI for /tmp/tmpddyy9xcc/Piano Hug___아이유 IU│정거장 Next Stop│악보 Sheet│Piano Cover___AHQvI4m_D6Q___Q6kbFBY6990___253___.wav...\n"
          ]
        },
        {
          "output_type": "stream",
          "name": "stderr",
          "text": [
            "\r 71%|███████   | 142/200 [15:43<06:07,  6.34s/it]"
          ]
        },
        {
          "output_type": "stream",
          "name": "stdout",
          "text": [
            "Predicting MIDI for /tmp/tmp5w2dclw9/YourPianoCover___Flashlight from Pitch Perfect 2 - Jessie J - Piano Cover Video by YourPianoCover___AIoxIGa5iJE___E0T7dd6e4IA___217___.wav...\n",
            "Predicting MIDI for /tmp/tmp0z7yqogo/Piano in U___[고음질] Bolbbalgan4-To My Youth (볼빨간사춘기-나의 사춘기에게) ⧸ 피아노 커버 Piano Cover___AQEsfjnhCnM___RaMAoj1UfyE___214___.wav...\n"
          ]
        },
        {
          "output_type": "stream",
          "name": "stderr",
          "text": [
            "\r 72%|███████▏  | 144/200 [15:55<05:48,  6.22s/it]"
          ]
        },
        {
          "output_type": "stream",
          "name": "stdout",
          "text": [
            "Predicting MIDI for /tmp/tmp2bbqglmt/Montechait___Backstreet Boys - I Want It That Way - Piano Cover + Sheet Music___AVtJXeW66Os___1lv7ypjfiE4___216___.wav...\n",
            "Predicting MIDI for /tmp/tmp1vqb4qz2/Piano in U___Wanna One (워너원) - 12번째 별 (12th Star)⧸Piano cover⧸Sheet___AYPVhx9KMpg___MqVY7mMMioc___232___.wav...\n"
          ]
        },
        {
          "output_type": "stream",
          "name": "stderr",
          "text": [
            "\r 73%|███████▎  | 146/200 [16:08<05:34,  6.20s/it]"
          ]
        },
        {
          "output_type": "stream",
          "name": "stdout",
          "text": [
            "Predicting MIDI for /tmp/tmpcbmtnpbt/Piano Hug___JANNABI 잔나비│For Lovers Who Hesitate 주저하는 연인들을 위해│Sheet 악보│Piano Cover___AeNZG8_bIGU___5g4KsIizYhQ___218___.wav...\n",
            "Predicting MIDI for /tmp/tmprpxwcmzo/YourPianoCover___Reaper - Sia - Piano Cover Video by YourPianoCover___Aem899r6ak8___XeM0lzQhigg___238___.wav...\n"
          ]
        },
        {
          "output_type": "stream",
          "name": "stderr",
          "text": [
            "\r 74%|███████▍  | 148/200 [16:20<05:24,  6.24s/it]"
          ]
        },
        {
          "output_type": "stream",
          "name": "stdout",
          "text": [
            "Predicting MIDI for /tmp/tmpdx119vnh/Piano in U___AKMU - '오랜 날 오랜 밤 (LAST GOODBYE)' ⧸ Piano Cover ⧸ Sheet___AfTyfErb9Zg___cBC6c99OrOM___280___.wav...\n",
            "Predicting MIDI for /tmp/tmpvnwi6pxa/Piano in U___백예린 (Yerin Baek) - Square (2017)⧸Piano cover⧸Sheet___B3tIXy61dwo___421QbDCcBAc___256___.wav...\n"
          ]
        },
        {
          "output_type": "stream",
          "name": "stderr",
          "text": [
            "\r 75%|███████▌  | 150/200 [16:35<05:31,  6.64s/it]"
          ]
        },
        {
          "output_type": "stream",
          "name": "stdout",
          "text": [
            "Predicting MIDI for /tmp/tmpjh8j8avo/YourPianoCover___Pillowtalk - Zayn - Piano Cover Video by YourPianoCover___B4hjjLVROA4___Xttlzf0RJwg___222___.wav...\n",
            "Predicting MIDI for /tmp/tmpgsf0mci2/YourPianoCover___Lay It All On Me - Rudimental ft. Ed Sheeran - Piano Cover Video by YourPianoCover___B4HGgYOuYjI___yeWbMjr0rRk___262___.wav...\n"
          ]
        },
        {
          "output_type": "stream",
          "name": "stderr",
          "text": [
            "\r 76%|███████▌  | 152/200 [16:49<05:23,  6.75s/it]"
          ]
        },
        {
          "output_type": "stream",
          "name": "stdout",
          "text": [
            "Predicting MIDI for /tmp/tmpjex0n0g5/Piano Hug___Romance 101 바른연애 길잡이 OST│이 밤을 빌려 말해요 Borrow Your Night│10CM 십센치│Sheet 악보│Piano Cover___B6TL6wK3NK0___Y_8aUSyNM9Y___200___.wav...\n",
            "Predicting MIDI for /tmp/tmp2xv792ey/Piano Hug___Pual Kim (폴킴)│Hangover '너도 아는'│Sheet 악보│Piano Cover___BDHfQZsW1w8___lArgiD9bpdk___243___.wav...\n"
          ]
        },
        {
          "output_type": "stream",
          "name": "stderr",
          "text": [
            "\r 77%|███████▋  | 154/200 [17:03<05:13,  6.83s/it]"
          ]
        },
        {
          "output_type": "stream",
          "name": "stdout",
          "text": [
            "Predicting MIDI for /tmp/tmpxaeotr6e/PineappleChord___양요섭, 정은지 – LOVE DAY (2021) (바른연애 길잡이 OST) ｜ 피아노 편곡 ｜ 피아노 악보 ｜ Piano Cover ｜ Piano Sheet___BFUgddLTC8A___iTu2ohlFVs0___271___.wav...\n",
            "Predicting MIDI for /tmp/tmpt1xtr7ir/Flow Music Piano___TAEYEON - 사계 (Four Seasons) 피아노악보(Piano Sheet Music) ⧸ Piano Cover 피아노커버⧸ Chord(코드)___BHO63QZt53E___5haSQXYoVwg___186___.wav...\n"
          ]
        },
        {
          "output_type": "stream",
          "name": "stderr",
          "text": [
            "\r 78%|███████▊  | 156/200 [17:19<05:14,  7.15s/it]"
          ]
        },
        {
          "output_type": "stream",
          "name": "stdout",
          "text": [
            "Predicting MIDI for /tmp/tmpjq8wzpip/Piano in U___Justin Bieber - Peaches ft. Daniel Caesar, Giveon ⧸ Piano Cover ⧸ Sheet___BTGb516LINo___GWNODbG9AIM___198___.wav...\n",
            "Predicting MIDI for /tmp/tmphc_y1lyb/Montechait___Lady Gaga, Bradley Cooper - I Don't Know What Love Is (A Star Is Born) - Piano Arrangement___BVyP6X1vFHE___jqRMgM3u0pk___184___.wav...\n"
          ]
        },
        {
          "output_type": "stream",
          "name": "stderr",
          "text": [
            "\r 79%|███████▉  | 158/200 [17:31<04:46,  6.82s/it]"
          ]
        },
        {
          "output_type": "stream",
          "name": "stdout",
          "text": [
            "Predicting MIDI for /tmp/tmpwza4kom0/Montechait___AURORA - Runaway ｜ Piano Cover + Sheet Music___Bb8QWE01eEY___gOP9jGf3EGA___255___.wav...\n",
            "Predicting MIDI for /tmp/tmprcywvhlk/YourPianoCover___Waves (Robin Schulz Radio Edit) - Mr. Probz - Piano Cover Video by YourPianoCover___Be11lahIkqQ___pUjE9H8QlA4___215___.wav...\n"
          ]
        },
        {
          "output_type": "stream",
          "name": "stderr",
          "text": [
            "\r 80%|████████  | 160/200 [17:45<04:31,  6.78s/it]"
          ]
        },
        {
          "output_type": "stream",
          "name": "stdout",
          "text": [
            "Predicting MIDI for /tmp/tmpmx4_sdm8/YourPianoCover___Real Love - Clean Bandit & Jess Glynne - Piano Cover Video by YourPianoCover___BlNfJiJgEnE___P7NWjbWZylw___233___.wav...\n",
            "Predicting MIDI for /tmp/tmp2wbvzsok/PineappleChord___장범준 - 잠이 오질 않네요 ( Jang Beomjun - Can't Sleep ) 피아노 편곡 ｜ 피아노 악보 ｜ Piano Cover ｜ Piano Sheet___BioRKfTk2k8___77r5yVlw_u4___280___.wav...\n"
          ]
        },
        {
          "output_type": "stream",
          "name": "stderr",
          "text": [
            "\r 81%|████████  | 162/200 [17:58<04:19,  6.82s/it]"
          ]
        },
        {
          "output_type": "stream",
          "name": "stdout",
          "text": [
            "Predicting MIDI for /tmp/tmpwatof4yh/YourPianoCover___Hymn For The Weekend - Coldplay - Piano Cover Video by YourPianoCover___BliL7iM1G1U___ZI8hKsuBP8E___243___.wav...\n",
            "Predicting MIDI for /tmp/tmplzfdo38x/PineappleChord___Loren Allred - Never Enough(네버 이너프) ｜ The Greatest Showman 영화 위대한 쇼맨 ost ｜ Piano Cover ｜ Piano Sheet___BvTUtp45nKU___KQIsk0ba5q0___215___.wav...\n"
          ]
        },
        {
          "output_type": "stream",
          "name": "stderr",
          "text": [
            "\r 82%|████████▏ | 164/200 [18:12<04:07,  6.87s/it]"
          ]
        },
        {
          "output_type": "stream",
          "name": "stdout",
          "text": [
            "Predicting MIDI for /tmp/tmp76e25cg5/Piano in U___아이유(IU) - 가을 아침(Autumn Morning) piano cover⧸Sheet___Bw2f0Jb6pFE___-Mm7LvWL2ms___234___.wav...\n",
            "Predicting MIDI for /tmp/tmpp8aawto_/Piano in U___Billie Eilish - bad guy⧸Piano cover⧸Sheet___BwH8EUfgoaY___YaVZH20o7Ds___196___.wav...\n"
          ]
        },
        {
          "output_type": "stream",
          "name": "stderr",
          "text": [
            "\r 83%|████████▎ | 166/200 [18:26<03:54,  6.90s/it]"
          ]
        },
        {
          "output_type": "stream",
          "name": "stdout",
          "text": [
            "Predicting MIDI for /tmp/tmpw4vivjgu/Montechait___Bee Gees - How Deep Is Your Love - Piano Cover & Sheet Music___CAgTyDS9kT8___XSYINOS7bnI___194___.wav...\n",
            "Predicting MIDI for /tmp/tmplt6utsk0/Piano in U___Coldplay X BTS - My Universe ⧸ Piano Cover ⧸ Sheet___CAAdSGEJhG4___2TTZsp29LwU___228___.wav...\n"
          ]
        },
        {
          "output_type": "stream",
          "name": "stderr",
          "text": [
            "\r 84%|████████▍ | 168/200 [18:40<03:41,  6.92s/it]"
          ]
        },
        {
          "output_type": "stream",
          "name": "stdout",
          "text": [
            "Predicting MIDI for /tmp/tmpd6qhb7tv/Flow Music Piano___엔플라잉(N.Flying) - 옥탑방(Rooftop) 피아노악보(Piano Sheet Music) ⧸ Piano Cover ⧸ 코드(Chord)___CBi6C0OMQTs___3jzBzplq_GI___213___.wav...\n",
            "Predicting MIDI for /tmp/tmp4y49wmn_/Montechait___Billie Eilish - No Time To Die - Piano Cover & Sheet Music___CE1hEKjj4OY___GqSib3l5kRQ___276___.wav...\n"
          ]
        },
        {
          "output_type": "stream",
          "name": "stderr",
          "text": [
            "\r 85%|████████▌ | 170/200 [18:59<03:51,  7.70s/it]"
          ]
        },
        {
          "output_type": "stream",
          "name": "stdout",
          "text": [
            "Predicting MIDI for /tmp/tmpyfrux7z8/Piano in U___[고음질] 레드벨벳 - 피카부 (Red Velvet - Peek-A-Boo) ⧸ Piano Cover (투피아노 편곡 버전 ⧸ For four-hands)___CHxX4Vz1j8E___N7gs1wJ5SOM___222___.wav...\n",
            "Predicting MIDI for /tmp/tmphi890r2b/PineappleChord___WENDY (Red Velvet) – Like Water ｜ 웬디 - 레드벨벳 ｜ 🎹피아노 커버 & 피아노 악보 ｜ Piano Cover & Piano Sheet___CIBdAe56sfY___zg5CKsgPM0c___265___.wav...\n"
          ]
        },
        {
          "output_type": "stream",
          "name": "stderr",
          "text": [
            "\r 86%|████████▌ | 172/200 [19:17<03:43,  7.99s/it]"
          ]
        },
        {
          "output_type": "stream",
          "name": "stdout",
          "text": [
            "Predicting MIDI for /tmp/tmpvuk_w50i/Montechait___Cat Stevens - Wild World - Piano Cover & Sheet Music___CJSMfmNsVs0___69kTbYNZvtY___224___.wav...\n",
            "Predicting MIDI for /tmp/tmparfgs25n/Piano in U___호미들(Homies) - 사이렌(Siren) ⧸ Piano Cover ⧸ Sheet___CKDRsDbr6mo___szj8w-5nqE4___203___.wav...\n"
          ]
        },
        {
          "output_type": "stream",
          "name": "stderr",
          "text": [
            "\r 87%|████████▋ | 174/200 [19:31<03:22,  7.78s/it]"
          ]
        },
        {
          "output_type": "stream",
          "name": "stdout",
          "text": [
            "Predicting MIDI for /tmp/tmp8ff9mlp5/Flow Music Piano___장범준 - 흔들리는 꽃들 속에서 네 샴푸향이 느껴진거야 피아노악보 (Your Shampoo Scent In The Flowers Piano Sheet Music)___CMmflKaja-I___bILNlx91f2o___168___.wav...\n"
          ]
        },
        {
          "output_type": "stream",
          "name": "stderr",
          "text": [
            "\r 88%|████████▊ | 176/200 [19:44<02:57,  7.38s/it]"
          ]
        },
        {
          "output_type": "stream",
          "name": "stdout",
          "text": [
            "Predicting MIDI for /tmp/tmpxypl9a0c/Piano in U___BTS (방탄소년단) 'Dynamite' ⧸ Piano Cover ⧸ Sheet___CepR9WK3zbk___KhZ5DCd7m6s___197___.wav...\n",
            "Predicting MIDI for /tmp/tmpehu9re71/Montechait___Daft Punk - Harder, Better, Faster, Stronger - Piano Cover & Sheet Music___CgPO6PQUZN0___DZtckM41zGU___234___.wav...\n"
          ]
        },
        {
          "output_type": "stream",
          "name": "stderr",
          "text": [
            "\r 89%|████████▉ | 178/200 [19:59<02:43,  7.44s/it]"
          ]
        },
        {
          "output_type": "stream",
          "name": "stdout",
          "text": [
            "Predicting MIDI for /tmp/tmp_o8gpkxp/Piano in U___GIRIBOY-ALL DAY (기리보이-하루종일) Feat. DJ SQ, 한요한 ⧸ Piano Cover⧸Sheet___Ck8Qsk78AZo___oORJaKroxJA___240___.wav...\n",
            "Predicting MIDI for /tmp/tmpr1_wovjf/Piano in U___Crush (크러쉬) - ‘놓아줘 (with 태연)’ ⧸ Piano Cover ⧸ Sheet___CkEbzOmTjFA___LuK_rcNy56g___209___.wav...\n"
          ]
        },
        {
          "output_type": "stream",
          "name": "stderr",
          "text": [
            "\r 90%|█████████ | 180/200 [20:11<02:20,  7.00s/it]"
          ]
        },
        {
          "output_type": "stream",
          "name": "stdout",
          "text": [
            "Predicting MIDI for /tmp/tmp94z8a9ic/Piano Hug___IU 아이유│Through the Night 밤편지│Sheet 악보│Piano Cover___Cq6JeAoBM2U___M9CS63PDyJ0___280___.wav...\n",
            "Predicting MIDI for /tmp/tmpb97w4li4/Piano Hug___Don't Say It's Not Love 사랑이 아니라 말하지 말아요│Lee So Ra 이소라│Sheet 악보│Piano Cover___Cqk605kGbEg___lMUio3kcuWY___244___.wav...\n"
          ]
        },
        {
          "output_type": "stream",
          "name": "stderr",
          "text": [
            "\r 91%|█████████ | 182/200 [20:26<02:07,  7.10s/it]"
          ]
        },
        {
          "output_type": "stream",
          "name": "stdout",
          "text": [
            "Predicting MIDI for /tmp/tmpye5aqdd4/YourPianoCover___Find You - Zedd ft. Matthew Koma, Miriam Bryant - Piano Cover Video by YourPianoCover___CuuqzOh2uo4___OLklBYxL-jA___217___.wav...\n",
            "Predicting MIDI for /tmp/tmp_qhkuecm/Montechait___Queen - Play the Game - Piano Solo Cover & Sheet Music___CyfWePFnQ60___LS1RXZ6qpLc___195___.wav...\n"
          ]
        },
        {
          "output_type": "stream",
          "name": "stderr",
          "text": [
            "\r 92%|█████████▏| 184/200 [20:38<01:49,  6.85s/it]"
          ]
        },
        {
          "output_type": "stream",
          "name": "stdout",
          "text": [
            "Predicting MIDI for /tmp/tmpu6be29kq/Flow Music Piano___BTS - Heartbeat 피아노악보(Piano Sheet Music) ⧸ Piano Cover 피아노 커버 ⧸ Chord(코드)___D0fiIz0O4ZI___b7uHGJn_2Ao___249___.wav...\n",
            "Predicting MIDI for /tmp/tmpczia00vr/Montechait___Feeling Good (Nina Simone) - Piano Cover & Sheet Music___D7EMW_zKUO0___LR1bWhdoIXM___181___.wav...\n"
          ]
        },
        {
          "output_type": "stream",
          "name": "stderr",
          "text": [
            " 94%|█████████▍| 188/200 [20:55<01:02,  5.20s/it]"
          ]
        },
        {
          "output_type": "stream",
          "name": "stdout",
          "text": [
            "Predicting MIDI for /tmp/tmp1u3ec9t3/YourPianoCover___The Middle - Zedd, Maren Morris, Grey - Piano Cover Video by YourPianoCover___DC4fGEJ-2f4___D9pkYEoUmV8___204___.wav...\n",
            "Predicting MIDI for /tmp/tmpcdr6852i/Montechait___Linkin Park - In the End ｜ Piano Tutorial + Sheet Music___DJhS16XjreI___p2hMT1oUSyE___231___.wav...\n"
          ]
        },
        {
          "output_type": "stream",
          "name": "stderr",
          "text": [
            "\r 95%|█████████▌| 190/200 [21:08<00:55,  5.55s/it]"
          ]
        },
        {
          "output_type": "stream",
          "name": "stdout",
          "text": [
            "Predicting MIDI for /tmp/tmpn4zmo8hr/Montechait___The Beatles - Yesterday - Piano Cover & Sheet Music___DRpn-wzrRdA___WZ0iKKBPhoY___152___.wav...\n",
            "Predicting MIDI for /tmp/tmp6iqq2hkc/Flow Music Piano___쓰르라미 울 적에 OST - You 피아노악보(Piano Sheet Music) ⧸ Piano Cover 피아노 커버___DV9wccoPQLk___0dzgqAIHH_I___213___.wav...\n"
          ]
        },
        {
          "output_type": "stream",
          "name": "stderr",
          "text": [
            "\r 96%|█████████▌| 192/200 [21:21<00:46,  5.79s/it]"
          ]
        },
        {
          "output_type": "stream",
          "name": "stdout",
          "text": [
            "Predicting MIDI for /tmp/tmpsg_ulvig/YourPianoCover___City Of Stars from La La Land - Ryan Gosling, Emma Stone - Piano Cover Video by YourPianoCover___DYQhtNMCzsA___VFUos9sYbHs___167___.wav...\n",
            "Predicting MIDI for /tmp/tmp_7i98f_b/Piano in U___방탄소년단(BTS) - 내 방을 여행하는 법(Fly to my room) ⧸ Piano Cover ⧸Sheet___DZ6MRYalqug___jI_m5l4N3ys___225___.wav...\n"
          ]
        },
        {
          "output_type": "stream",
          "name": "stderr",
          "text": [
            "\r 97%|█████████▋| 194/200 [21:33<00:35,  5.93s/it]"
          ]
        },
        {
          "output_type": "stream",
          "name": "stdout",
          "text": [
            "Predicting MIDI for /tmp/tmpwvnbzedb/Flow Music Piano___BTS (방탄소년단) - So What Piano Tutorial 피아노 배우기___DaJFRDzG5qk___hytBK5sNFZc___278___.wav...\n",
            "Predicting MIDI for /tmp/tmpfwlqbeq2/YourPianoCover___Starving - Hailee Steinfeld, Grey, Zedd - Piano Cover Video by YourPianoCover___DcXDZH6zE_E____4KRwXHBs8Q___200___.wav...\n"
          ]
        },
        {
          "output_type": "stream",
          "name": "stderr",
          "text": [
            "\r 98%|█████████▊| 196/200 [21:46<00:24,  6.16s/it]"
          ]
        },
        {
          "output_type": "stream",
          "name": "stdout",
          "text": [
            "Predicting MIDI for /tmp/tmpzp3h3smp/Piano in U___Wanna One (워너원) - 'HIDE AND SEEK' (술래) Piano cover⧸ Sheet___DggkxLV1OUM___aIl8wqIiyu8___201___.wav...\n",
            "Predicting MIDI for /tmp/tmpjytxcm7g/Montechait___Up Where We Belong - Joe Cocker & Jennifer Warnes - Piano Cover & Sheet Music___DmBgez2gJnI___JU31djjSyIg___265___.wav...\n"
          ]
        },
        {
          "output_type": "stream",
          "name": "stderr",
          "text": [
            "\r 99%|█████████▉| 198/200 [22:02<00:13,  6.68s/it]"
          ]
        },
        {
          "output_type": "stream",
          "name": "stdout",
          "text": [
            "Predicting MIDI for /tmp/tmpz6pjk13m/PineappleChord___산들 - 취기를 빌려(취향저격 그녀 OST) Sandeul - Slightly Tipsy 피아노 편곡 ｜ 피아노 악보 ｜ Piano Cover ｜ Piano Sheet___DrjbHAMJw88___d2ytH5mymWY___229___.wav...\n",
            "Predicting MIDI for /tmp/tmpcdzv89ti/Piano in U___Red Velvet - Bad Boy (레드벨벳-베드보이) ⧸ 피아노 커버 Piano Cover___DxWNMQ7vD2Q___OaM4lJwn7D8___236___.wav...\n"
          ]
        },
        {
          "output_type": "stream",
          "name": "stderr",
          "text": [
            "100%|██████████| 200/200 [22:18<00:00,  6.69s/it]\n"
          ]
        },
        {
          "output_type": "stream",
          "name": "stdout",
          "text": [
            "Predicting MIDI for /tmp/tmpn24wai8g/Montechait___Joe Cocker - You Are So Beautiful - Piano Cover & Sheet Music___DyuiGx96Sw8___xsOSt3hNRY0___176___.wav...\n",
            "Predicting MIDI for /tmp/tmps3q7wduv/PineappleChord___이하이 - 그 한마디 ( 바른연애 길잡이 OST - Dear You ) 피아노 편곡 ｜ 피아노 악보 ｜ Piano Cover ｜ Piano Sheet___E-L_jD6JH7o___Z4-S4zfCEdQ___223___.wav...\n",
            "Predicting MIDI for /tmp/tmpe_lvahyk/Piano in U___김재환 (KIM JAEHWAN) - 어떤 날엔 ⧸ 사랑의 불시착 OST 愛の不時着 ⧸Piano cover⧸Sheet___E8yqoD8xqlY___AbUPBQ2C-O0___249___.wav...\n"
          ]
        }
      ]
    },
    {
      "cell_type": "code",
      "source": [
        "!zip -r /content/midi.zip /content/midi_output"
      ],
      "metadata": {
        "colab": {
          "base_uri": "https://localhost:8080/"
        },
        "collapsed": true,
        "id": "QjUAOLatrs1V",
        "outputId": "bb381b0b-522c-46c4-b0ae-8517053d9a2c"
      },
      "execution_count": 35,
      "outputs": [
        {
          "output_type": "stream",
          "name": "stdout",
          "text": [
            "  adding: content/midi_output/ (stored 0%)\n",
            "  adding: content/midi_output/YourPianoCover___Love Me Harder - Ariana Grande ft. The Weeknd - Piano Cover Video by YourPianoCover___8ODjjAv6NOo___p1A4ucqElBE.mid (deflated 44%)\n",
            "  adding: content/midi_output/Flow Music Piano___장범준 - 흔들리는 꽃들 속에서 네 샴푸향이 느껴진거야 피아노악보 (Your Shampoo Scent In The Flowers Piano Sheet Music)___CMmflKaja-I___bILNlx91f2o.mid (deflated 41%)\n",
            "  adding: content/midi_output/Piano in U___BTS (방탄소년단) 'Butter' ⧸ Piano Cover ⧸ Sheet___2a0akXIbAOU___jH--Wof3HfQ.mid (deflated 38%)\n",
            "  adding: content/midi_output/Piano in U___윤건(YOON GUN) - 너도 그냥 날 놓아주면 돼 (Just Let Me Go)⧸Piano cover⧸ Sheet___7VDWaQfBVZE___6rDSn_a4PiY.mid (deflated 40%)\n",
            "  adding: content/midi_output/YourPianoCover___Hands To Myself - Selena Gomez - Piano Cover Video by YourPianoCover___7WtPap59DXM___HEMSSLQm8O4.mid (deflated 47%)\n",
            "  adding: content/midi_output/YourPianoCover___I'm Not The Only One - Sam Smith - Piano Cover Video by YourPianoCover___5nbLvUQsoY0___7BJgdu4V4kQ.mid (deflated 43%)\n",
            "  adding: content/midi_output/Piano Hug___Romance 101 바른연애 길잡이 OST│이 밤을 빌려 말해요 Borrow Your Night│10CM 십센치│Sheet 악보│Piano Cover___B6TL6wK3NK0___Y_8aUSyNM9Y.mid (deflated 34%)\n",
            "  adding: content/midi_output/Piano Hug___아이유 IU│너 You│악보 Sheet│Piano Cover___3yNnQfDGiOo___3bB-9DdRZ8Q.mid (deflated 39%)\n",
            "  adding: content/midi_output/PineappleChord___내일이 오면 - 릴보이 ( Feat. 기리보이, BIG Naughty ｜ 서동현 ) 쇼미더머니 9 ｜ 피아노 편곡 ｜ 피아노 악보 ｜ Piano Cover ｜ Piano Sheet___5c5RMxeuitI___e0--itBVfa0.mid (deflated 46%)\n",
            "  adding: content/midi_output/PineappleChord___산들 - 취기를 빌려(취향저격 그녀 OST) Sandeul - Slightly Tipsy 피아노 편곡 ｜ 피아노 악보 ｜ Piano Cover ｜ Piano Sheet___DrjbHAMJw88___d2ytH5mymWY.mid (deflated 37%)\n",
            "  adding: content/midi_output/YourPianoCover___Find You - Zedd ft. Matthew Koma, Miriam Bryant - Piano Cover Video by YourPianoCover___CuuqzOh2uo4___OLklBYxL-jA.mid (deflated 42%)\n",
            "  adding: content/midi_output/PineappleChord___파인애플코드 1회 가상 피아노 콘서트 ( VR Piano Concert )___7aRN43lU24w___nMJnBWPZyK8.mid (deflated 40%)\n",
            "  adding: content/midi_output/YourPianoCover___Try - Colbie Caillat - Piano Cover Video by YourPianoCover___30hbTjx8tBs___0m3_vnJrtyo.mid (deflated 43%)\n",
            "  adding: content/midi_output/Flow Music Piano___비투비 (BTOB) - 아름답고도 아프구나 (Beautiful Pain) Piano Tutorial 피아노 배우기___3IjK_keb0zg___J57HXP79OjU.mid (deflated 38%)\n",
            "  adding: content/midi_output/Piano in U___정준일(Jung Jun Il) - 안아줘(Hug Me) ⧸ Piano Cover ⧸ Sheet___2V2oUHmPKhs___8ogyHesy5fI.mid (deflated 38%)\n",
            "  adding: content/midi_output/PineappleChord___앤 마리에게 무슨일이？ Anne Marie - 2002 ( 앤 마리 2002 ) 피아노 편곡 ｜ 피아노 악보 ｜ Piano Cover ｜ Piano Sheet___5CimFNfX2LI___vZofi2hgiAE.mid (deflated 43%)\n",
            "  adding: content/midi_output/YourPianoCover___City Of Stars from La La Land - Ryan Gosling, Emma Stone - Piano Cover Video by YourPianoCover___DYQhtNMCzsA___VFUos9sYbHs.mid (deflated 35%)\n",
            "  adding: content/midi_output/Piano in U___임영웅_어느60대 노부부 이야기 (미스터트롯) ⧸ Piano Cover ⧸ Sheet___8FWJk6G9obA___0pU68y2_o-E.mid (deflated 36%)\n",
            "  adding: content/midi_output/Piano in U___하성운 (HA SUNG WOON) - 문득(Remember You) ⧸Piano cover⧸ Sheet___1XVxmm_DOuM___C5WPm9cAx84.mid (deflated 40%)\n",
            "  adding: content/midi_output/YourPianoCover___Starving - Hailee Steinfeld, Grey, Zedd - Piano Cover Video by YourPianoCover___DcXDZH6zE_E____4KRwXHBs8Q.mid (deflated 41%)\n",
            "  adding: content/midi_output/Montechait___Marc Cohn - Walking in Memphis - Piano Sheet Music___0Z4nNWQbAGE___YFEB9xLeLmY.mid (deflated 39%)\n",
            "  adding: content/midi_output/PineappleChord___Into the Unknown - Frozen 2 ost ｜ 인투 더 언노운 - 겨울왕국 2 ost ｜ 피아노 악보 ｜ Piano Cover ｜ Piano Sheet___7x32cPe9R8g___xTzaswTXXe0.mid (deflated 46%)\n",
            "  adding: content/midi_output/PineappleChord___적재 - 나랑 같이 걸을래 (바른연애 길잡이) 피아노 편곡 버전 ｜ 피아노 악보 ｜ Piano Cover ｜ Piano Sheet___-VisuedZee4___26YwXUcUf4I.mid (deflated 39%)\n",
            "  adding: content/midi_output/Montechait___Lady Gaga, Bradley Cooper - I Don't Know What Love Is (A Star Is Born) - Piano Arrangement___BVyP6X1vFHE___jqRMgM3u0pk.mid (deflated 43%)\n",
            "  adding: content/midi_output/PineappleChord___잔나비 (JANNABI) - 주저하는 연인들을 위해 (For Lovers Who Hesitate) 피아노 편곡 ｜ 피아노 악보 ｜ Piano Cover ｜ Piano Sheet___41DdcznIHSg___5g4KsIizYhQ.mid (deflated 36%)\n",
            "  adding: content/midi_output/Montechait___Billie Eilish - No Time To Die - Piano Cover & Sheet Music___CE1hEKjj4OY___GqSib3l5kRQ.mid (deflated 33%)\n",
            "  adding: content/midi_output/PineappleChord___Justin Bieber - Anyone ( 저스틴 비버 - 애니원 ) 피아노 편곡 ｜ 피아노 악보 ｜ Piano cover ｜ Piano sheet___4caNoR5rj8s___seexiwp1da8.mid (deflated 43%)\n",
            "  adding: content/midi_output/PineappleChord___숀(SHAUN) - 닫힌엔딩(Closed Ending) ｜ Piano Cover & Sheet Music ｜ K-POP 피아노 커버 & 악보___A5z3naTeWHU___ElRzpodI8Ms.mid (deflated 39%)\n",
            "  adding: content/midi_output/Piano in U___아이유(IU) - 가을 아침(Autumn Morning) piano cover⧸Sheet___Bw2f0Jb6pFE___-Mm7LvWL2ms.mid (deflated 41%)\n",
            "  adding: content/midi_output/Flow Music Piano___세븐틴(SEVENTEEN) - 9-TEEN(나인틴) 피아노악보(Piano Sheet Music) ⧸ Piano Cover 피아노 커버 ⧸ Chord(코드)___1OCRIdNy6pg___WcA6ahx1K8Y.mid (deflated 39%)\n",
            "  adding: content/midi_output/YourPianoCover___How Long - Charlie Puth - Piano Cover Video by YourPianoCover___0gL_LHT69MQ___-v_vnTozBvU.mid (deflated 43%)\n",
            "  adding: content/midi_output/Montechait___Backstreet Boys - I Want It That Way - Piano Cover + Sheet Music___AVtJXeW66Os___1lv7ypjfiE4.mid (deflated 46%)\n",
            "  adding: content/midi_output/Montechait___Linkin Park - In the End ｜ Piano Cover + Sheet Music___-OMdl9i9dcc___p2hMT1oUSyE.mid (deflated 40%)\n",
            "  adding: content/midi_output/Montechait___Up Where We Belong - Joe Cocker & Jennifer Warnes - Piano Cover & Sheet Music___DmBgez2gJnI___JU31djjSyIg.mid (deflated 35%)\n",
            "  adding: content/midi_output/PineappleChord___장범준 - 추적이는 여름 비가 되어 (As You Wish) ｜ Piano Cover & SheetMusic ｜ K-POP 피아노 커버 & 악보___8pV6G0CGTKU___o6qY2xsP66k.mid (deflated 38%)\n",
            "  adding: content/midi_output/Piano in U___가호(Gaho) - 시작(Start) 이태원 클라쓰 OST(ITAEWON CLASS) ⧸ Piano cover ⧸ Sheet___-u5gsBF9wbY___hWYM5QEt0Fg.mid (deflated 43%)\n",
            "  adding: content/midi_output/Piano in U___AKMU - '오랜 날 오랜 밤 (LAST GOODBYE)' ⧸ Piano Cover ⧸ Sheet___AfTyfErb9Zg___cBC6c99OrOM.mid (deflated 38%)\n",
            "  adding: content/midi_output/Piano Hug___아이유 IU│정거장 Next Stop│악보 Sheet│Piano Cover___AHQvI4m_D6Q___Q6kbFBY6990.mid (deflated 41%)\n",
            "  adding: content/midi_output/Piano in U___Coldplay - Everglow ⧸ Piano Cover ⧸ Sheet___37c4_7baKJQ___XkB35_TkUag.mid (deflated 41%)\n",
            "  adding: content/midi_output/Piano in U___김재환 (KIM JAEHWAN) - 어떤 날엔 ⧸ 사랑의 불시착 OST 愛の不時着 ⧸Piano cover⧸Sheet___E8yqoD8xqlY___AbUPBQ2C-O0.mid (deflated 36%)\n",
            "  adding: content/midi_output/Piano in U___Justin Bieber - Peaches ft. Daniel Caesar, Giveon ⧸ Piano Cover ⧸ Sheet___BTGb516LINo___GWNODbG9AIM.mid (deflated 39%)\n",
            "  adding: content/midi_output/Piano in U___BTS (방탄소년단) 'IDOL' Piano cover⧸ Sheet___35mCaY-nZXk___vgJeQvGYYpk.mid (deflated 45%)\n",
            "  adding: content/midi_output/PineappleChord___양요섭, 정은지 – LOVE DAY (2021) (바른연애 길잡이 OST) ｜ 피아노 편곡 ｜ 피아노 악보 ｜ Piano Cover ｜ Piano Sheet___BFUgddLTC8A___iTu2ohlFVs0.mid (deflated 37%)\n",
            "  adding: content/midi_output/YourPianoCover___The Middle - Zedd, Maren Morris, Grey - Piano Cover Video by YourPianoCover___DC4fGEJ-2f4___D9pkYEoUmV8.mid (deflated 42%)\n",
            "  adding: content/midi_output/Flow Music Piano___TAEYEON - 사계 (Four Seasons) 피아노악보(Piano Sheet Music) ⧸ Piano Cover 피아노커버⧸ Chord(코드)___BHO63QZt53E___5haSQXYoVwg.mid (deflated 37%)\n",
            "  adding: content/midi_output/Montechait___The Beatles - With a Little Help from My Friends ｜ Piano Cover + Sheet Music___-7lV0oJ0QXc___EHl_eQhgefw.mid (deflated 40%)\n",
            "  adding: content/midi_output/Piano in U___[고음질] 김건모 - 혼자만의 사랑 ⧸ 피아노 커버 (Piano cover)___7LKdzNuvjFk___agCddlN1bIk.mid (deflated 34%)\n",
            "  adding: content/midi_output/Montechait___Daft Punk - Harder, Better, Faster, Stronger - Piano Cover & Sheet Music___CgPO6PQUZN0___DZtckM41zGU.mid (deflated 52%)\n",
            "  adding: content/midi_output/Piano in U___IU(아이유)_LILAC(라일락) ⧸ Piano Cover ⧸ Sheet___5jhaoe9XiAQ___W475_MHV_EU.mid (deflated 42%)\n",
            "  adding: content/midi_output/Montechait___AURORA - Runaway ｜ Piano Cover + Sheet Music___Bb8QWE01eEY___gOP9jGf3EGA.mid (deflated 44%)\n",
            "  adding: content/midi_output/Flow Music Piano___BTS (방탄소년단) - I'm Fine Piano Tutorial 피아노 배우기___7I0nlgIsxL4___tGVjM8b3Xwo.mid (deflated 39%)\n",
            "  adding: content/midi_output/Piano in U___마미손(Mommy Son) - 사랑은 (Love is) (Feat. 원슈타인(Wonstein)) ⧸ Piano Cover ⧸ Sheet___4Pn33ogdRKk___Ex_DlK0dLgE.mid (deflated 41%)\n",
            "  adding: content/midi_output/PineappleChord___재회 - 세정 ( 경이로운 소문 ost )Meet Again-The Uncanny Counter ｜ 피아노 편곡 ｜ 피아노 악보 ｜ Piano Cover ｜ Piano Sheet___8_FdUmY4U_Q___a3PRXZo9sUI.mid (deflated 39%)\n",
            "  adding: content/midi_output/Montechait___Ray Charles - Georgia On My Mind - Piano Cover & Sheet Music___7THUgQ2J1fw___RkcX2Cyn9DA.mid (deflated 33%)\n",
            "  adding: content/midi_output/Montechait___Muse - Feeling Good ｜ Piano Cover + Sheet Music___1NKxOXnVQl8___wqqnxEmSOB4.mid (deflated 42%)\n",
            "  adding: content/midi_output/Flow Music Piano___Anne-Marie - 2002 피아노악보(Piano Sheet Music) ⧸ Piano Cover 피아노 커버 ⧸ Chord(코드)___1pLn-T3dGHQ___vZofi2hgiAE.mid (deflated 38%)\n",
            "  adding: content/midi_output/Flow Music Piano___TWICE - FANCY 피아노악보(Piano Sheet Music) ⧸ Piano Cover 피아노 커버 ⧸ Chord(코드)___6wJjnGMOrsQ___p6AaOJI0vKo.mid (deflated 38%)\n",
            "  adding: content/midi_output/YourPianoCover___How Far I'll Go from Disney's Moana - Alessia Cara - Piano Cover Video by YourPianoCover___3oy1W5_Ykzg___llEP2h4Ex1Q.mid (deflated 39%)\n",
            "  adding: content/midi_output/Montechait___Andrea Bocelli & Celine Dion - The Prayer - Piano Cover & Sheet Music___7LPY8MBOe-s___XDmtINAEIGs.mid (deflated 35%)\n",
            "  adding: content/midi_output/Flow Music Piano___엔플라잉(N.Flying) - 옥탑방(Rooftop) 피아노악보(Piano Sheet Music) ⧸ Piano Cover ⧸ 코드(Chord)___CBi6C0OMQTs___3jzBzplq_GI.mid (deflated 37%)\n",
            "  adding: content/midi_output/Piano in U___BTS (방탄소년단) '작은 것들을 위한 시 (Boy With Luv) feat. Halsey'⧸Piano cover⧸Sheet___1JOJy7hwens___OEnvXsyGZmU.mid (deflated 47%)\n",
            "  adding: content/midi_output/Flow Music Piano___블랙핑크 (BLACKPINK) - 뚜두뚜두 (DDU-DU DDU-DU) Piano Tutorial 피아노 배우기___AHNz9Vh4sCA___wgL1tkdgi6Y.mid (deflated 41%)\n",
            "  adding: content/midi_output/Piano in U___Justin Bieber - Off My Face ⧸ Piano Cover ⧸ Sheet___4gIpadClRAg___ChQzo5NWXkc.mid (deflated 39%)\n",
            "  adding: content/midi_output/Piano in U___정승환(Jung Seung-Hwan) -너였다면 (If It Is You)⧸Piano Cover⧸Sheet___69hg7UotUjc___uweUzMytVcM.mid (deflated 37%)\n",
            "  adding: content/midi_output/YourPianoCover___I Don't Wanna Live Forever (Fifty Shades Darker) - ZAYN, Taylor Swift - Piano Cover Video___1xHz5z8z2Kw___Hv5eq11sm9o.mid (deflated 41%)\n",
            "  adding: content/midi_output/Montechait___Olivia Rodrigo - deja vu - Piano Cover + Sheet Music___5RIUovzRJnQ___ozbU_qheL6A.mid (deflated 48%)\n",
            "  adding: content/midi_output/PineappleChord___귀멸의 칼날 OP - 홍련화(紅蓮華) 🎹 피아노 커버 & 피아노 악보 ( Gurenge - Piano Cover & Piano Sheet  )___00wvcg5SmFs___s1XE3qlw654.mid (deflated 38%)\n",
            "  adding: content/midi_output/PineappleChord___이적 - 쉼표 ( with 윤석철 ｜ 소울 ost, 엔드크레딧 송 ) Soul OST ｜ 피아노 편곡 ｜ 피아노 악보 ｜ Piano Cover ｜ Piano Sheet___4cwCA8iAgwE___xEe9Nsh4zEA.mid (deflated 38%)\n",
            "  adding: content/midi_output/Montechait___Dancing in the Moonlight - Piano Cover + Sheet Music___4usDekW72Mg___RvUzkrrdOI8.mid (deflated 44%)\n",
            "  adding: content/midi_output/Montechait___Earth, Wind & Fire - September ｜ Piano Cover + Sheet Music___1L7w4Uzh61A___DlSsIKn3HTU.mid (deflated 41%)\n",
            "  adding: content/midi_output/Flow Music Piano___BTS - ON Piano Sheet Music (방탄소년단 - 온 피아노악보)___0ceLPhHweHM___7H--xOlbB9M.mid (deflated 40%)\n",
            "  adding: content/midi_output/PineappleChord___장범준 - 잠이 오질 않네요 ( Jang Beomjun - Can't Sleep ) 피아노 편곡 ｜ 피아노 악보 ｜ Piano Cover ｜ Piano Sheet___BioRKfTk2k8___77r5yVlw_u4.mid (deflated 41%)\n",
            "  adding: content/midi_output/PineappleChord___달달한 노래 Ed Sheeran - Thinking out Loud ｜ 에드  시런 씽킹아웃라우드 ｜ 피아노 편곡 ｜ 피아노 악보 ｜ Piano Cover ｜ Piano Sheet___8Q0TfiaJt2I___GzWV5nUTjB8.mid (deflated 36%)\n",
            "  adding: content/midi_output/Montechait___Adele - Easy On Me - Karaoke (Piano Accompaniment) with Lyrics!___6ennRRIH2BU___WHmzJm7UWVM.mid (deflated 51%)\n",
            "  adding: content/midi_output/Piano Hug___JANNABI 잔나비│For Lovers Who Hesitate 주저하는 연인들을 위해│Sheet 악보│Piano Cover___AeNZG8_bIGU___5g4KsIizYhQ.mid (deflated 34%)\n",
            "  adding: content/midi_output/Piano in U___펀치(Punch) - Done For Me ( Hotel Del Luna OST)⧸Piano cover⧸Sheet___6n8HgIcJ6vo___kVawGbSxoKM.mid (deflated 39%)\n",
            "  adding: content/midi_output/Piano Hug___Pual Kim (폴킴)│Hangover '너도 아는'│Sheet 악보│Piano Cover___BDHfQZsW1w8___lArgiD9bpdk.mid (deflated 37%)\n",
            "  adding: content/midi_output/Piano in U___Wanna One (워너원) - 'HIDE AND SEEK' (술래) Piano cover⧸ Sheet___DggkxLV1OUM___aIl8wqIiyu8.mid (deflated 37%)\n",
            "  adding: content/midi_output/Montechait___Queen - We Are The Champions ｜ Piano Sheet Music___4hmDvS3ScNU___8leRk0zaBRg.mid (deflated 35%)\n",
            "  adding: content/midi_output/Montechait___Queen - Play the Game - Piano Solo Cover & Sheet Music___CyfWePFnQ60___LS1RXZ6qpLc.mid (deflated 35%)\n",
            "  adding: content/midi_output/Piano in U___Wanna One (워너원) - 'FLOWERBOMB (불꽃놀이)' Piano cover⧸ Sheet___7wRJUC907M0___oSjhKjXSriY.mid (deflated 42%)\n",
            "  adding: content/midi_output/Flow Music Piano___BTS Jin - 이 밤(Tonight) 피아노악보(Piano Sheet Music) ⧸ Piano Cover 피아노 커버 ⧸ Chord(코드)___2ng4W1CRNok___xMFVyP2npjM.mid (deflated 36%)\n",
            "  adding: content/midi_output/Piano Hug___Don't Say It's Not Love 사랑이 아니라 말하지 말아요│Lee So Ra 이소라│Sheet 악보│Piano Cover___Cqk605kGbEg___lMUio3kcuWY.mid (deflated 38%)\n",
            "  adding: content/midi_output/Piano in U___BTS (방탄소년단) 'Make It Right'⧸Piano cover⧸Sheet___3veM82AOSss___F2mbAkat5n8.mid (deflated 42%)\n",
            "  adding: content/midi_output/Montechait___Marc Cohn - Walking in Memphis ｜ Piano Arrangement (Full Sheet Music)___-DLYCZ2uTeU___YFEB9xLeLmY.mid (deflated 38%)\n",
            "  adding: content/midi_output/Montechait___SLANDER - Love Is Gone (Acoustic) ft. Dylan Matthew ｜ Piano Sheet Music___4R5INBWThgo___34Tmi7gVzcE.mid (deflated 48%)\n",
            "  adding: content/midi_output/PineappleChord___Maroon 5 - Girls Like You ｜ 마룬5 걸스 라이크 유 ｜ 피아노 편곡 ｜ 피아노 악보 ｜ Piano Cover ｜ Piano Sheet___93bc2uUGQR4___lUapkbzxQmM.mid (deflated 40%)\n",
            "  adding: content/midi_output/Montechait___H.E.R. & Daniel Caesar - Best Part ｜ Piano Cover + Sheet Music___01bWSPJdjvQ___rojeIQIBBKM.mid (deflated 44%)\n",
            "  adding: content/midi_output/PineappleChord___애쉬아일랜드 (ASH ISLAND) - 멜로디 (Melody) ｜ 피아노 커버 & 피아노 악보 ｜ Piano Cover & Piano Sheet___-cBGuHlltkA___NB8LX6A5BBM.mid (deflated 42%)\n",
            "  adding: content/midi_output/Montechait___Richard Marx - Right Here Waiting - Piano Sheet Music___7ieNDZQDixw___-sMibx1b4uw.mid (deflated 39%)\n",
            "  adding: content/midi_output/PineappleChord___Justin Bieber(저스틴비버) - Off My Face ｜ Justice ｜ Piano Cover & SheetMusic ｜ 피아노 커버 & 악보___1jxuA9dJiIY___rikm9eS6JAE.mid (deflated 38%)\n",
            "  adding: content/midi_output/PineappleChord___히사이시 조(Hisaishi Joe) - Summer ( 키쿠지로의 여름 Ost⧸菊次郞の夏 ) 피아노 & 스트링  ｜ 피아노 악보 ｜ Piano Cover & Piano Sheet___6P34YWDHv14___32weHutf_YI.mid (deflated 41%)\n",
            "  adding: content/midi_output/YourPianoCover___Havana - Camila Cabello, Young Thug - Piano Cover Video by YourPianoCover___5UOqx1llMEg___gQkI4hvqPCs.mid (deflated 46%)\n",
            "  adding: content/midi_output/PineappleChord___오마이걸(OH MY GIRL) - 던던댄스(Dun Dun Dance) ｜ 🎹 Piano Cover & Sheet Music ｜ K-POP 피아노 커버 & 악보___7KtX8jGg3eM___0l9LB_Noe2Q.mid (deflated 38%)\n",
            "  adding: content/midi_output/Flow Music Piano___워너원 (Wanna One) - 캥거루 (Kangaroo) Piano Tutorial 피아노 배우기___7CScYGvFDcw___8S0iH0DtfVM.mid (deflated 39%)\n",
            "  adding: content/midi_output/PineappleChord___아이유 (IU) - 라일락 ( LILAC )  ｜ 피아노 커버 & 피아노 악보 ｜ Piano Cover & Piano Sheet___2sj5wrZbqro___W475_MHV_EU.mid (deflated 39%)\n",
            "  adding: content/midi_output/Montechait___Feeling Good (Nina Simone) - Piano Cover & Sheet Music___D7EMW_zKUO0___LR1bWhdoIXM.mid (deflated 47%)\n",
            "  adding: content/midi_output/YourPianoCover___Pillowtalk - Zayn - Piano Cover Video by YourPianoCover___B4hjjLVROA4___Xttlzf0RJwg.mid (deflated 38%)\n",
            "  adding: content/midi_output/Piano in U___이선희(Lee Sun Hee) - 인연(Fate) ⧸ Piano Cover ⧸ Sheet___9sE3z8u47XU___AMPWpCcLHu4.mid (deflated 36%)\n",
            "  adding: content/midi_output/Piano in U___Crush (크러쉬) - ‘놓아줘 (with 태연)’ ⧸ Piano Cover ⧸ Sheet___CkEbzOmTjFA___LuK_rcNy56g.mid (deflated 35%)\n",
            "  adding: content/midi_output/Montechait___Adele - Strangers By Nature ｜ HQ Piano Cover + Sheet Music___3cCeyJJZ8RM___W40ULozXRSY.mid (deflated 35%)\n",
            "  adding: content/midi_output/Flow Music Piano___BTS (방탄소년단) - So What Piano Tutorial 피아노 배우기___DaJFRDzG5qk___hytBK5sNFZc.mid (deflated 41%)\n",
            "  adding: content/midi_output/Flow Music Piano___워너원 (Wanna One) - 11 (Eleven) Piano Tutorial 피아노 배우기___6fty1j0xPDQ___vJSzKV5DXy8.mid (deflated 38%)\n",
            "  adding: content/midi_output/Flow Music Piano___BTS - Heartbeat 피아노악보(Piano Sheet Music) ⧸ Piano Cover 피아노 커버 ⧸ Chord(코드)___D0fiIz0O4ZI___b7uHGJn_2Ao.mid (deflated 39%)\n",
            "  adding: content/midi_output/YourPianoCover___Waves (Robin Schulz Radio Edit) - Mr. Probz - Piano Cover Video by YourPianoCover___Be11lahIkqQ___pUjE9H8QlA4.mid (deflated 35%)\n",
            "  adding: content/midi_output/Flow Music Piano___워너원 (Wanna One) - 너의 이름을 (Your Name⧸I'll Remember) Piano Tutorial 피아노 튜토리얼___7FZZ-5fP3Pg___x_xVCkxNSF8.mid (deflated 36%)\n",
            "  adding: content/midi_output/Piano in U___호미들(Homies) - 사이렌(Siren) ⧸ Piano Cover ⧸ Sheet___CKDRsDbr6mo___szj8w-5nqE4.mid (deflated 39%)\n",
            "  adding: content/midi_output/Piano in U___[고음질] BIGBANG-FLOWER ROAD (빅뱅-꽃길) ⧸ 피아노 커버 Piano Cover___9S4c3tgCGGE___3GnCKBfbgN8.mid (deflated 41%)\n",
            "  adding: content/midi_output/YourPianoCover___Attention - Charlie Puth - Piano Cover Video by YourPianoCover___05ovLLdXEz4___SsWEqDt3LXk.mid (deflated 49%)\n",
            "  adding: content/midi_output/Montechait___Édith Piaf - La Foule - Piano Arrangement___2f76SzfygAY___oFVpf4pw5AI.mid (deflated 42%)\n",
            "  adding: content/midi_output/Montechait___Queen - Love Of My Life - Piano Sheet Music___5l2YPRd_zYo___bX-aT6S8R58.mid (deflated 37%)\n",
            "  adding: content/midi_output/Piano in U___[고음질] 전진희-취했네(Jeon Jin Hee-Be Drunk) With.곽진언 ⧸ 피아노 커버 Piano Cover___1_BzC7xtGtI___bhaK9JQsn-o.mid (deflated 36%)\n",
            "  adding: content/midi_output/Montechait___Somewhere Over The Rainbow - Dreamy Piano Version___6QKoDwiooEs___Ckn_QhOjUYY.mid (deflated 43%)\n",
            "  adding: content/midi_output/YourPianoCover___Hey Brother - Avicii - Piano Cover Video by YourPianoCover___3AV0okMC244___enuezQKyEhg.mid (deflated 45%)\n",
            "  adding: content/midi_output/PineappleChord___가호(Gaho) - 시작(Start Over)[이태원 클라쓰 OST ｜ Iteawon class] 피아노 편곡 ｜ 피아노 악보 ｜ Piano Cover ｜ Piano Sheet___9H2MPRMbHjg___hWYM5QEt0Fg.mid (deflated 41%)\n",
            "  adding: content/midi_output/Flow Music Piano___BTS (방탄소년단) - Anpanman Piano Tutorial 피아노 배우기___3HhzpK36wwY___lK0PzBcnk-o.mid (deflated 40%)\n",
            "  adding: content/midi_output/Montechait___Billy Joel - Uptown Girl ｜ Piano Cover + Sheet Music___-8t7NcKFutM___Ki1Y-pTewxA.mid (deflated 36%)\n",
            "  adding: content/midi_output/Piano in U___BTOB (비투비) - 'The Feeling'⧸piano cover⧸Sheet___5pdkybWP0nY___IRSJ15kWLx0.mid (deflated 46%)\n",
            "  adding: content/midi_output/YourPianoCover___River of Despair from The Binding of Isaac - Ridiculon - Piano Cover Video by YourPianoCover___8XNO0IpY9NA___5lvk80pAGqw.mid (deflated 33%)\n",
            "  adding: content/midi_output/Piano in U___숀(SHAUN) Way Back Home_Piano cover⧸ Sheet___81WmV9W9ZCo___s09KK5vbLHY.mid (deflated 44%)\n",
            "  adding: content/midi_output/Piano in U___BTS (방탄소년단) 'Dynamite' ⧸ Piano Cover ⧸ Sheet___CepR9WK3zbk___KhZ5DCd7m6s.mid (deflated 41%)\n",
            "  adding: content/midi_output/Piano in U___Billie Eilish - bad guy⧸Piano cover⧸Sheet___BwH8EUfgoaY___YaVZH20o7Ds.mid (deflated 55%)\n",
            "  adding: content/midi_output/PineappleChord___송이한 - 밝게 빛나는 별이 되어 비춰줄게(I will be your shining star)피아노 편곡 ｜ 피아노 악보 ｜ Piano Cover ｜ Piano Sheet___71rI5VxJZO8___hzBxmkXqCC8.mid (deflated 35%)\n",
            "  adding: content/midi_output/Piano in U___윤하 (Younha) - 기다리다 (Waiting) ⧸ Piano Cover ⧸ Sheet___4yJ8HRKC7w8___ByQsSmckjQg.mid (deflated 36%)\n",
            "  adding: content/midi_output/Piano in U___김광진(Kim Kwang-jin) 편지 (The Letter) ⧸ Piano Cover ⧸ Sheet___25M6GrVsWvs___D_1OStc6Cm4.mid (deflated 35%)\n",
            "  adding: content/midi_output/Montechait___GHOSTBUSTERS - Theme Song 👻 ｜ Piano Cover + Sheet Music___6aQ7VFo0BJw___6xX9IRvhbOM.mid (deflated 49%)\n",
            "  adding: content/midi_output/YourPianoCover___Lay It All On Me - Rudimental ft. Ed Sheeran - Piano Cover Video by YourPianoCover___B4HGgYOuYjI___yeWbMjr0rRk.mid (deflated 44%)\n",
            "  adding: content/midi_output/Flow Music Piano___BTS (방탄소년단) - 낙원 (Paradise) Piano Tutorial 피아노 배우기___2ABt4oHNw6o___3g60P1VD2Lc.mid (deflated 38%)\n",
            "  adding: content/midi_output/Piano in U___Wanna One (워너원) - 12번째 별 (12th Star)⧸Piano cover⧸Sheet___AYPVhx9KMpg___MqVY7mMMioc.mid (deflated 37%)\n",
            "  adding: content/midi_output/YourPianoCover___Real Love - Clean Bandit & Jess Glynne - Piano Cover Video by YourPianoCover___BlNfJiJgEnE___P7NWjbWZylw.mid (deflated 43%)\n",
            "  adding: content/midi_output/YourPianoCover___Rude - Magic! - Piano Cover Video by YourPianoCover___8DPVRfvHMv0___8JCyZsONkGw.mid (deflated 40%)\n",
            "  adding: content/midi_output/Montechait___Joe Cocker - You Are So Beautiful - Piano Cover & Sheet Music___DyuiGx96Sw8___xsOSt3hNRY0.mid (deflated 37%)\n",
            "  adding: content/midi_output/Montechait___Bee Gees - How Deep Is Your Love - Piano Cover & Sheet Music___CAgTyDS9kT8___XSYINOS7bnI.mid (deflated 41%)\n",
            "  adding: content/midi_output/Piano in U___[고음질] Bolbbalgan4-To My Youth (볼빨간사춘기-나의 사춘기에게) ⧸ 피아노 커버 Piano Cover___AQEsfjnhCnM___RaMAoj1UfyE.mid (deflated 40%)\n",
            "  adding: content/midi_output/Piano in U___Hwa Sa(화사) _ Maria(마리아) ⧸ Piano Cover ⧸ Sheet___4NRMOvR18BY___I7kLrE9N8Q0.mid (deflated 39%)\n",
            "  adding: content/midi_output/Piano in U___BTS (방탄소년단) - Miss Right ⧸ Piano Cover⧸ Sheet___7NvAf9VpoMQ___gQEibb19w8k.mid (deflated 36%)\n",
            "  adding: content/midi_output/Montechait___Frank Sinatra - My Way - Piano Cover & Sheet Music___2gx4QI3aR4Q___NWu5qR-xpbc.mid (deflated 35%)\n",
            "  adding: content/midi_output/Piano in U___GIRIBOY-ALL DAY (기리보이-하루종일) Feat. DJ SQ, 한요한 ⧸ Piano Cover⧸Sheet___Ck8Qsk78AZo___oORJaKroxJA.mid (deflated 41%)\n",
            "  adding: content/midi_output/Piano in U___성시경 _ 너의 모든 순간 My Love From the Star (별에서 온 그대 OST) ⧸ Piano Cover ⧸ Sheet___5y7NlckZ8sQ___BciTZBx5YD0.mid (deflated 33%)\n",
            "  adding: content/midi_output/PineappleChord___이하이 - 그 한마디 ( 바른연애 길잡이 OST - Dear You ) 피아노 편곡 ｜ 피아노 악보 ｜ Piano Cover ｜ Piano Sheet___E-L_jD6JH7o___Z4-S4zfCEdQ.mid (deflated 37%)\n",
            "  adding: content/midi_output/Piano in U___[고음질] MOMOLAND-BBoom BBoom (모모랜드-뿜뿜) ⧸ 피아노 커버 Piano Cover___4WrixrOdYts___cMl9_IixsGk.mid (deflated 42%)\n",
            "  adding: content/midi_output/Montechait___SLANDER - Love Is Gone ft. Dylan Matthew ｜ Piano Cover + Sheet Music___9wyx6z-UtrU___34Tmi7gVzcE.mid (deflated 38%)\n",
            "  adding: content/midi_output/YourPianoCover___Rather Be feat. Jess Glynne - Clean Bandit - Piano Cover Video by YourPianoCover___4ok8hJZFzhM___IwJnTCHtpVU.mid (deflated 39%)\n",
            "  adding: content/midi_output/Piano in U___Brave Girls (브레이브걸스) - Rollin' (롤린) ⧸ Piano Cover ⧸ Sheet___7Qvw77fCQ_M___lOf2RLPdJj8.mid (deflated 39%)\n",
            "  adding: content/midi_output/Montechait___Cat Stevens - Wild World - Piano Cover & Sheet Music___CJSMfmNsVs0___69kTbYNZvtY.mid (deflated 46%)\n",
            "  adding: content/midi_output/PineappleChord___아이유(IU) - 마음을 드려요 (Give You My Heart)  [ 사랑의 불시착 OST ] 피아노 편곡 ｜ 피아노 악보 ｜ Piano Cover ｜ Piano Sheet___4sf6OdjbGTU___MUSaT2B7Lt8.mid (deflated 38%)\n",
            "  adding: content/midi_output/Piano in U___방탄소년단(BTS) - 내 방을 여행하는 법(Fly to my room) ⧸ Piano Cover ⧸Sheet___DZ6MRYalqug___jI_m5l4N3ys.mid (deflated 38%)\n",
            "  adding: content/midi_output/Flow Music Piano___워너원 (Wanna One) - BOOMERANG (부메랑) Piano Tutorial 피아노 튜토리얼___-ViDeKrhNTM___uY5S5XNCYtE.mid (deflated 42%)\n",
            "  adding: content/midi_output/Montechait___Elvis Presley - Can't Help Falling in Love ｜ Piano Tutorial + Sheet Music___2tfGpYgqU8s___9JbSeQ9tn44.mid (deflated 43%)\n",
            "  adding: content/midi_output/Piano in U___Red Velvet - Bad Boy (레드벨벳-베드보이) ⧸ 피아노 커버 Piano Cover___DxWNMQ7vD2Q___OaM4lJwn7D8.mid (deflated 42%)\n",
            "  adding: content/midi_output/Montechait___Elton John - Can You Feel the Love Tonight (from ＂The Lion King＂) - Piano Cover + Sheet Music___867LQ7JzsVc___Y2hgXc4QcwY.mid (deflated 40%)\n",
            "  adding: content/midi_output/YourPianoCover___Crying for No Reason - Katy B - Piano Cover Video by YourPianoCover___8lGI0grHjog___8cQFayyl_YQ.mid (deflated 40%)\n",
            "  adding: content/midi_output/YourPianoCover___Reaper - Sia - Piano Cover Video by YourPianoCover___Aem899r6ak8___XeM0lzQhigg.mid (deflated 45%)\n",
            "  adding: content/midi_output/YourPianoCover___Boyfriend - Ariana Grande, Social House - Piano Cover Video by YourPianoCover___4IMGCm5OYYs___6K9zmuaaRSM.mid (deflated 36%)\n",
            "  adding: content/midi_output/YourPianoCover___Hymn For The Weekend - Coldplay - Piano Cover Video by YourPianoCover___BliL7iM1G1U___ZI8hKsuBP8E.mid (deflated 43%)\n",
            "  adding: content/midi_output/Montechait___Andrea Bocelli & Celine Dion - The Prayer - Piano Sheet Music___6bT5Ra8d-ik___XDmtINAEIGs.mid (deflated 35%)\n",
            "  adding: content/midi_output/Montechait___Eric Clapton - Tears in Heaven ｜ Piano Cover + Sheet Music___3xKnR0DA0ZQ___AmUDY-jgh8k.mid (deflated 38%)\n",
            "  adding: content/midi_output/Piano Hug___Love is 사랑은 지날수록 더욱 선명하게 남아│Jeon Sang Keun 전상근│Sheet 악보│Piano Cover___2J2rEI574P0___o6QeCDp2oyU.mid (deflated 44%)\n",
            "  adding: content/midi_output/Piano Hug___두사람 Two People│성시경 Sung Si Kyung│악보 Sheet│Piano Cover___9HdGL-0cmiY___59YLqazkQ9U.mid (deflated 34%)\n",
            "  adding: content/midi_output/YourPianoCover___Don't Call Me Up - Mabel - Piano Cover Video by YourPianoCover___3JfjrkXC4q4___ye_MJNiIdgQ.mid (deflated 40%)\n",
            "  adding: content/midi_output/Piano in U___IU(아이유) _ eight(에잇) (Prod.&Feat. SUGA of BTS) ⧸ Piano Cover ⧸ Sheet___3NpWgnfOlwk___yFkvinwYbes.mid (deflated 41%)\n",
            "  adding: content/midi_output/Montechait___Queen - Too Much Love Will Kill You - Piano Cover & Sheet Music___-ajqe0jGD-Y___iHyP6jRt55g.mid (deflated 36%)\n",
            "  adding: content/midi_output/Flow Music Piano___AKMU - 어떻게 이별까지 사랑하겠어, 널 사랑하는 거지 피아노악보 How can I love the heartbreak, you're the one I love Piano___1pbawhdBBwU___mZz9uYdj_v4.mid (deflated 36%)\n",
            "  adding: content/midi_output/Piano Hug___첸 (Chen) - 너의 달빛 Your Moonlight (브람스를 좋아하세요 ost) Piano Cover - Piano Hug___25i6x6jo-1Y___qGL0AgIWtcA.mid (deflated 34%)\n",
            "  adding: content/midi_output/Piano in U___[고음질] 레드벨벳 - 피카부 (Red Velvet - Peek-A-Boo) ⧸ Piano Cover (투피아노 편곡 버전 ⧸ For four-hands)___CHxX4Vz1j8E___N7gs1wJ5SOM.mid (deflated 41%)\n",
            "  adding: content/midi_output/Piano in U___10cm - 스토커(Stalker) Piano cover⧸Sheet___2MCVVliSWo0___Laf1o9NEjcI.mid (deflated 36%)\n",
            "  adding: content/midi_output/Montechait___Chicago - If You Leave Me Now - Piano Arrangement & Sheet Music___-m_HLI9gnzo___8g-cF9H53lU.mid (deflated 37%)\n",
            "  adding: content/midi_output/PineappleChord___Loren Allred - Never Enough(네버 이너프) ｜ The Greatest Showman 영화 위대한 쇼맨 ost ｜ Piano Cover ｜ Piano Sheet___BvTUtp45nKU___KQIsk0ba5q0.mid (deflated 42%)\n",
            "  adding: content/midi_output/Piano in U___BOL4(볼빨간사춘기) _ Leo(나비와 고양이) (feat. BAEKHYUN(백현)) ⧸ Piano Cover ⧸ Sheet___9E9k1eoaHSY___0dZnf09g77g.mid (deflated 37%)\n",
            "  adding: content/midi_output/YourPianoCover___Flashlight from Pitch Perfect 2 - Jessie J - Piano Cover Video by YourPianoCover___AIoxIGa5iJE___E0T7dd6e4IA.mid (deflated 43%)\n",
            "  adding: content/midi_output/Montechait___Enya - Only Time ｜ Piano Cover + Sheet Music___9ZBsxMUSV2g___vUlDo8T2gWI.mid (deflated 39%)\n",
            "  adding: content/midi_output/Montechait___The Beatles - Yesterday - Piano Cover & Sheet Music___DRpn-wzrRdA___WZ0iKKBPhoY.mid (deflated 35%)\n",
            "  adding: content/midi_output/Piano in U___Coldplay X BTS - My Universe ⧸ Piano Cover ⧸ Sheet___CAAdSGEJhG4___2TTZsp29LwU.mid (deflated 39%)\n",
            "  adding: content/midi_output/Montechait___Linkin Park - In the End ｜ Piano Tutorial + Sheet Music___DJhS16XjreI___p2hMT1oUSyE.mid (deflated 48%)\n",
            "  adding: content/midi_output/Flow Music Piano___BTS (방탄소년단) - Airplane pt.2 Piano Tutorial 피아노 배우기___-F68f8ztrvw___F_74JqOubxk.mid (deflated 39%)\n",
            "  adding: content/midi_output/YourPianoCover___No Brainer - Justin Bieber, DJ Khaled, Quavo - Piano Cover Video by YourPianoCover___3DKGf_Us3MI___W4qsT-CFVdA.mid (deflated 37%)\n",
            "  adding: content/midi_output/Montechait___Alphaville - Forever Young ｜ Piano Tutorial + Sheet Music___0HLfYDW2WPY___2tr_-N7_J4E.mid (deflated 41%)\n",
            "  adding: content/midi_output/Piano in U___BTS (방탄소년단) 뷔(V) '풍경 (Scenery)' ⧸Piano cover⧸ Sheet___1aqZCCcBYgA___f3YhK-oZmY8.mid (deflated 37%)\n",
            "  adding: content/midi_output/Piano in U___BTS (방탄소년단) Black Swan⧸Piano cover⧸Sheet___1GbgtOWD-mc____36O75VSuLY.mid (deflated 41%)\n",
            "  adding: content/midi_output/YourPianoCover___Thunder - Imagine Dragons - Synthesia Piano Video by YourPianoCover___44O4wjbR1LQ___s-m0eId06oQ.mid (deflated 42%)\n",
            "  adding: content/midi_output/Montechait___Alphaville - Forever Young ｜ Piano Tutorial + Sheet Music___6bL1MSKKux8___87c9IVqYwMc.mid (deflated 37%)\n",
            "  adding: content/midi_output/Piano in U___[여신강림OST] 찬희(CHA NI (SF9)) - 그리움 (Starlight) ⧸ Piano Cover ⧸ Sheet___5y6Xl7qJpZw___m_k69m3pPmo.mid (deflated 35%)\n",
            "  adding: content/midi_output/Piano in U___백예린 (Yerin Baek) - Square (2017)⧸Piano cover⧸Sheet___B3tIXy61dwo___421QbDCcBAc.mid (deflated 45%)\n",
            "  adding: content/midi_output/PineappleChord___조정석(Cho Jung Seok) - 아로하 (Aloha)[ 슬기로운 의사생활 OST ] 피아노 편곡 ｜ 피아노 악보 ｜ Piano Cover ｜ Piano Sheet___2G_8gu3En8E___3DOkxQ3HDXE.mid (deflated 36%)\n",
            "  adding: content/midi_output/YourPianoCover___Lean On (feat. MØ & DJ Snake) - Major Lazer - Piano Cover Video by YourPianoCover___A95SAuRi50s___NEjF9np9_NU.mid (deflated 41%)\n",
            "  adding: content/midi_output/PineappleChord___Speechless - Aladdin ost ( Naomi Scott ) 스피치리스 - 알라딘 ost ｜ 피아노 악보 ｜ 편곡 ｜ Piano Cover ｜ Piano Sheet___4ONQj26Oayg___UHwJFkfqaaI.mid (deflated 39%)\n",
            "  adding: content/midi_output/PineappleChord___Olivia Rodrigo - Drivers License(올리비아 로드리고 - 드라이버스 라이센스) 피아노 편곡 ｜ 피아노 악보 ｜ Piano Cover ｜ Piano Sheet___6G9H3SH7Njk___WVNX-DWNeQk.mid (deflated 42%)\n",
            "  adding: content/midi_output/PineappleChord___WENDY (Red Velvet) – Like Water ｜ 웬디 - 레드벨벳 ｜ 🎹피아노 커버 & 피아노 악보 ｜ Piano Cover & Piano Sheet___CIBdAe56sfY___zg5CKsgPM0c.mid (deflated 40%)\n",
            "  adding: content/midi_output/Piano in U___IU(아이유) _ Blueming(블루밍)⧸Piano cover⧸Sheet___0RdmgeAIXHA___iqRkTGkAs9I.mid (deflated 43%)\n",
            "  adding: content/midi_output/Piano Hug___IU 아이유│Through the Night 밤편지│Sheet 악보│Piano Cover___Cq6JeAoBM2U___M9CS63PDyJ0.mid (deflated 40%)\n",
            "  adding: content/midi_output/Montechait___Chicago - If You Leave Me Now - Piano Arrangement & Sheet Music___8iX4BB0Ti6A___8g-cF9H53lU.mid (deflated 37%)\n",
            "  adding: content/midi_output/PineappleChord___BTS Jin - Abyss ( 방탄소년단) 피아노 커버 & 피아노 악보 ｜ Piano Cover & Piano Sheet___2YCqGDQJNkU___aqtSOksH-NE.mid (deflated 39%)\n",
            "  adding: content/midi_output/Flow Music Piano___쓰르라미 울 적에 OST - You 피아노악보(Piano Sheet Music) ⧸ Piano Cover 피아노 커버___DV9wccoPQLk___0dzgqAIHH_I.mid (deflated 37%)\n",
            "  adding: content/midi_output/Flow Music Piano___BTS V - Winter Bear 피아노악보(Piano Sheet Music) ⧸ Piano Cover 피아노 커버 ⧸ Chord(코드)___1zosqS6hj2M___QjB-tbddYfk.mid (deflated 40%)\n",
            "  adding: content/midi_output/PineappleChord___AKMU - EVEREST ⧸ 악동뮤지션 - EVEREST (with Sam Kim)  ｜ Piano Cover & SheetMusic ｜ K-POP 피아노 커버 & 악보___1UAEuqf7_mo___ghUd7tpi4xg.mid (deflated 48%)\n",
            "  adding: content/midi_output/YourPianoCover___Adventure Of A Lifetime - Coldplay - Piano Cover Video by YourPianoCover___1FRLhwcwbDw___8Zb_6MgnjkE.mid (deflated 42%)\n",
            "  adding: content/midi_output/Montechait___Don McLean - Vincent (＂Starry Starry Night＂) - Piano Sheet Music___7BKNEoNtVt8___bk-82ebJyZ0.mid (deflated 37%)\n"
          ]
        }
      ]
    },
    {
      "cell_type": "code",
      "source": [
        "!cp /content/midi.zip /content/drive/MyDrive"
      ],
      "metadata": {
        "id": "yAtO-HNIvXiQ"
      },
      "execution_count": 38,
      "outputs": []
    },
    {
      "cell_type": "code",
      "source": [
        "midi_outp = \"midi_output\"\n",
        "\n",
        "unique_arranger = set()\n",
        "\n",
        "for filename in os.listdir(midi_outp):\n",
        "    if filename.endswith(\".mid\"):\n",
        "        identifier = filename.split('___')[0]\n",
        "        unique_arranger.add(identifier)\n",
        "\n",
        "df = pd.DataFrame(list(unique_arranger), columns=['arranger_name'])\n",
        "\n",
        "output_csv = \"arrangers.csv\"\n",
        "df.to_csv(output_csv, index=False)"
      ],
      "metadata": {
        "id": "iA9U1PjqtlyZ"
      },
      "execution_count": 34,
      "outputs": []
    },
    {
      "cell_type": "code",
      "source": [
        "!cp /content/arrangers.csv /content/drive/MyDrive"
      ],
      "metadata": {
        "id": "njWUID7cvnUX"
      },
      "execution_count": 39,
      "outputs": []
    },
    {
      "cell_type": "code",
      "source": [
        "song_to_load = list(set(data_to_load.to_dict(\"list\")[\"pop_ids\"]))"
      ],
      "metadata": {
        "id": "IRNlAQwJl4S6"
      },
      "execution_count": 40,
      "outputs": []
    },
    {
      "cell_type": "code",
      "source": [
        "jobs = Parallel(n_jobs=multiprocessing.cpu_count(), prefer=\"threads\")(\n",
        "    delayed(download_song)(\n",
        "        song_id=value,\n",
        "    ) for value in tqdm(song_to_load)\n",
        ")"
      ],
      "metadata": {
        "colab": {
          "base_uri": "https://localhost:8080/"
        },
        "id": "n8u0aNtCq6pp",
        "outputId": "c36d78d7-8cfb-4daf-9029-7cd9ce496aa5"
      },
      "execution_count": 46,
      "outputs": [
        {
          "output_type": "stream",
          "name": "stderr",
          "text": [
            "\n",
            "\n",
            "  0%|          | 0/191 [00:00<?, ?it/s]\u001b[A\u001b[A\n",
            "\n",
            "  2%|▏         | 4/191 [00:15<12:14,  3.93s/it]\u001b[A\u001b[A\n",
            "\n",
            "  3%|▎         | 6/191 [00:30<16:38,  5.40s/it]\u001b[A\u001b[A\n",
            "\n",
            "  4%|▍         | 8/191 [00:51<22:07,  7.25s/it]\u001b[A\u001b[A\n",
            "\n",
            "  5%|▌         | 10/191 [01:09<23:57,  7.94s/it]\u001b[A\u001b[A\n",
            "\n",
            "  6%|▋         | 12/191 [01:13<17:32,  5.88s/it]\u001b[A\u001b[A\n",
            "\n",
            "  7%|▋         | 14/191 [01:30<19:45,  6.70s/it]\u001b[A\u001b[A\n",
            "\n",
            "  8%|▊         | 16/191 [01:47<21:25,  7.35s/it]\u001b[A\u001b[A\n",
            "\n",
            "  9%|▉         | 18/191 [02:01<20:48,  7.22s/it]\u001b[A\u001b[A\n",
            "\n",
            " 10%|█         | 20/191 [02:16<20:45,  7.28s/it]\u001b[A\u001b[A\n",
            "\n",
            " 12%|█▏        | 22/191 [02:30<20:16,  7.20s/it]\u001b[A\u001b[A\n",
            "\n",
            " 13%|█▎        | 24/191 [02:45<20:31,  7.37s/it]\u001b[A\u001b[A\n",
            "\n",
            " 14%|█▎        | 26/191 [03:00<20:14,  7.36s/it]\u001b[A\u001b[A\n",
            "\n",
            " 15%|█▍        | 28/191 [03:16<20:28,  7.53s/it]\u001b[A\u001b[A\n",
            "\n",
            " 16%|█▌        | 30/191 [03:33<21:05,  7.86s/it]\u001b[A\u001b[A\n",
            "\n",
            " 17%|█▋        | 32/191 [03:48<20:33,  7.76s/it]\u001b[A\u001b[A\n",
            "\n",
            " 18%|█▊        | 34/191 [04:03<20:03,  7.67s/it]\u001b[A\u001b[A\n",
            "\n",
            " 19%|█▉        | 36/191 [04:16<18:59,  7.35s/it]\u001b[A\u001b[A\n",
            "\n",
            " 20%|█▉        | 38/191 [04:31<18:32,  7.27s/it]\u001b[A\u001b[A\n",
            "\n",
            " 21%|██        | 40/191 [04:46<18:33,  7.38s/it]\u001b[A\u001b[A\n",
            "\n",
            " 22%|██▏       | 42/191 [05:01<18:38,  7.50s/it]\u001b[A\u001b[A\n",
            "\n",
            " 23%|██▎       | 44/191 [05:17<18:32,  7.57s/it]\u001b[A\u001b[A\n",
            "\n",
            " 24%|██▍       | 46/191 [05:23<15:01,  6.22s/it]\u001b[A\u001b[A\n",
            "\n",
            " 25%|██▌       | 48/191 [05:40<16:31,  6.93s/it]\u001b[A\u001b[A\n",
            "\n",
            " 26%|██▌       | 50/191 [05:55<16:42,  7.11s/it]\u001b[A\u001b[A\n",
            "\n",
            " 27%|██▋       | 52/191 [06:11<17:09,  7.40s/it]\u001b[A\u001b[A\n",
            "\n",
            " 28%|██▊       | 54/191 [06:16<13:16,  5.81s/it]\u001b[A\u001b[A\n",
            "\n",
            " 29%|██▉       | 56/191 [06:29<13:35,  6.04s/it]\u001b[A\u001b[A\n",
            "\n",
            " 30%|███       | 58/191 [06:45<14:48,  6.68s/it]\u001b[A\u001b[A\n",
            "\n",
            " 31%|███▏      | 60/191 [06:58<14:32,  6.66s/it]\u001b[A\u001b[A\n",
            "\n",
            " 32%|███▏      | 62/191 [07:14<15:05,  7.02s/it]\u001b[A\u001b[A\n",
            "\n",
            " 34%|███▎      | 64/191 [07:29<15:10,  7.17s/it]\u001b[A\u001b[A\n",
            "\n",
            " 35%|███▍      | 66/191 [07:44<15:10,  7.28s/it]\u001b[A\u001b[A\n",
            "\n",
            " 36%|███▌      | 68/191 [08:01<15:40,  7.65s/it]\u001b[A\u001b[A\n",
            "\n",
            " 37%|███▋      | 70/191 [08:22<17:08,  8.50s/it]\u001b[A\u001b[A\n",
            "\n",
            " 38%|███▊      | 72/191 [08:41<17:29,  8.82s/it]\u001b[A\u001b[A\n",
            "\n",
            " 39%|███▊      | 74/191 [08:51<14:46,  7.58s/it]\u001b[A\u001b[A\n",
            "\n",
            " 40%|███▉      | 76/191 [09:05<14:23,  7.51s/it]\u001b[A\u001b[A\n",
            "\n",
            " 41%|████      | 78/191 [09:22<14:44,  7.83s/it]\u001b[A\u001b[A\n",
            "\n",
            " 42%|████▏     | 80/191 [09:38<14:31,  7.85s/it]\u001b[A\u001b[A\n",
            "\n",
            " 43%|████▎     | 82/191 [09:46<12:06,  6.67s/it]\u001b[A\u001b[A\n",
            "\n",
            " 44%|████▍     | 84/191 [09:59<11:52,  6.66s/it]\u001b[A\u001b[A\n",
            "\n",
            " 45%|████▌     | 86/191 [10:17<12:48,  7.32s/it]\u001b[A\u001b[A\n",
            "\n",
            " 46%|████▌     | 88/191 [10:35<13:18,  7.75s/it]\u001b[A\u001b[A\n",
            "\n",
            " 47%|████▋     | 90/191 [10:52<13:29,  8.02s/it]\u001b[A\u001b[A\n",
            "\n",
            " 48%|████▊     | 92/191 [11:02<11:49,  7.17s/it]\u001b[A\u001b[A\n",
            "\n",
            " 49%|████▉     | 94/191 [11:18<11:54,  7.36s/it]\u001b[A\u001b[A\n",
            "\n",
            " 50%|█████     | 96/191 [11:32<11:35,  7.32s/it]\u001b[A\u001b[A\n",
            "\n",
            " 51%|█████▏    | 98/191 [11:48<11:33,  7.46s/it]\u001b[A\u001b[A\n",
            "\n",
            " 52%|█████▏    | 100/191 [12:03<11:15,  7.42s/it]\u001b[A\u001b[A\n",
            "\n",
            " 53%|█████▎    | 102/191 [12:19<11:25,  7.70s/it]\u001b[A\u001b[A\n",
            "\n",
            " 54%|█████▍    | 104/191 [12:21<08:15,  5.70s/it]\u001b[A\u001b[A\n",
            "\n",
            " 55%|█████▌    | 106/191 [12:34<08:14,  5.82s/it]\u001b[A\u001b[A\n",
            "\n",
            " 57%|█████▋    | 108/191 [12:50<08:58,  6.49s/it]\u001b[A\u001b[A\n",
            "\n",
            " 58%|█████▊    | 110/191 [13:05<09:18,  6.89s/it]\u001b[A\u001b[A\n",
            "\n",
            " 59%|█████▊    | 112/191 [13:21<09:24,  7.15s/it]\u001b[A\u001b[A\n",
            "\n",
            " 60%|█████▉    | 114/191 [13:36<09:18,  7.25s/it]\u001b[A\u001b[A\n",
            "\n",
            " 61%|██████    | 116/191 [13:49<08:45,  7.00s/it]\u001b[A\u001b[A\n",
            "\n",
            " 62%|██████▏   | 118/191 [14:01<08:19,  6.84s/it]\u001b[A\u001b[A\n",
            "\n",
            " 63%|██████▎   | 120/191 [14:17<08:29,  7.18s/it]\u001b[A\u001b[A\n",
            "\n",
            " 64%|██████▍   | 122/191 [14:31<08:10,  7.11s/it]\u001b[A\u001b[A\n",
            "\n",
            " 65%|██████▍   | 124/191 [14:47<08:13,  7.37s/it]\u001b[A\u001b[A\n",
            "\n",
            " 66%|██████▌   | 126/191 [15:07<08:44,  8.08s/it]\u001b[A\u001b[A\n",
            "\n",
            " 67%|██████▋   | 128/191 [15:22<08:22,  7.98s/it]\u001b[A\u001b[A\n",
            "\n",
            " 68%|██████▊   | 130/191 [15:38<08:07,  8.00s/it]\u001b[A\u001b[A\n",
            "\n",
            " 69%|██████▉   | 132/191 [15:50<07:12,  7.33s/it]\u001b[A\u001b[A\n",
            "\n",
            " 70%|███████   | 134/191 [16:07<07:16,  7.65s/it]\u001b[A\u001b[A\n",
            "\n",
            " 71%|███████   | 136/191 [16:17<06:22,  6.95s/it]\u001b[A\u001b[A\n",
            "\n",
            " 72%|███████▏  | 138/191 [16:33<06:24,  7.25s/it]\u001b[A\u001b[A\n",
            "\n",
            " 73%|███████▎  | 140/191 [16:47<06:08,  7.22s/it]\u001b[A\u001b[A\n",
            "\n",
            " 74%|███████▍  | 142/191 [17:05<06:14,  7.63s/it]\u001b[A\u001b[A\n",
            "\n",
            " 75%|███████▌  | 144/191 [17:15<05:26,  6.95s/it]\u001b[A\u001b[A\n",
            "\n",
            " 76%|███████▋  | 146/191 [17:32<05:30,  7.35s/it]\u001b[A\u001b[A\n",
            "\n",
            " 77%|███████▋  | 148/191 [17:44<05:00,  6.99s/it]\u001b[A\u001b[A\n",
            "\n",
            " 79%|███████▊  | 150/191 [17:59<04:52,  7.14s/it]\u001b[A\u001b[A\n",
            "\n",
            " 80%|███████▉  | 152/191 [18:10<04:20,  6.67s/it]\u001b[A\u001b[A\n",
            "\n",
            " 81%|████████  | 154/191 [18:25<04:14,  6.87s/it]\u001b[A\u001b[A\n",
            "\n",
            " 82%|████████▏ | 156/191 [18:38<03:57,  6.80s/it]\u001b[A\u001b[A\n",
            "\n",
            " 83%|████████▎ | 158/191 [18:53<03:49,  6.96s/it]\u001b[A\u001b[A\n",
            "\n",
            " 84%|████████▍ | 160/191 [19:09<03:44,  7.26s/it]\u001b[A\u001b[A\n",
            "\n",
            " 85%|████████▍ | 162/191 [19:26<03:42,  7.66s/it]\u001b[A\u001b[A\n",
            "\n",
            " 86%|████████▌ | 164/191 [19:46<03:43,  8.29s/it]\u001b[A\u001b[A\n",
            "\n",
            " 87%|████████▋ | 166/191 [20:01<03:23,  8.13s/it]\u001b[A\u001b[A\n",
            "\n",
            " 88%|████████▊ | 168/191 [20:14<02:56,  7.65s/it]\u001b[A\u001b[A\n",
            "\n",
            " 89%|████████▉ | 170/191 [20:21<02:13,  6.37s/it]\u001b[A\u001b[A\n",
            "\n",
            " 90%|█████████ | 172/191 [20:37<02:09,  6.84s/it]\u001b[A\u001b[A\n",
            "\n",
            " 91%|█████████ | 174/191 [20:53<02:02,  7.18s/it]\u001b[A\u001b[A\n",
            "\n",
            " 92%|█████████▏| 176/191 [21:10<01:52,  7.53s/it]\u001b[A\u001b[A\n",
            "\n",
            " 93%|█████████▎| 178/191 [21:27<01:43,  7.94s/it]\u001b[A\u001b[A\n",
            "\n",
            " 94%|█████████▍| 180/191 [21:30<01:05,  5.99s/it]\u001b[A\u001b[A\n",
            "\n",
            " 95%|█████████▌| 182/191 [21:49<01:02,  6.99s/it]\u001b[A\u001b[A\n",
            "\n",
            " 96%|█████████▋| 184/191 [22:03<00:49,  7.08s/it]\u001b[A\u001b[A\n",
            "\n",
            " 97%|█████████▋| 186/191 [22:21<00:38,  7.64s/it]\u001b[A\u001b[A\n",
            "\n",
            " 98%|█████████▊| 188/191 [22:35<00:22,  7.34s/it]\u001b[A\u001b[A\n",
            "\n",
            "100%|██████████| 191/191 [22:52<00:00,  7.18s/it]\n"
          ]
        }
      ]
    },
    {
      "cell_type": "code",
      "source": [
        "[download_song_by_link(process.args[-1]) for process in jobs if process.returncode != 0]"
      ],
      "metadata": {
        "colab": {
          "base_uri": "https://localhost:8080/"
        },
        "id": "rcXbEdUExlSp",
        "outputId": "ee11943d-7d09-4a6e-dadf-f0edd5380932"
      },
      "execution_count": 51,
      "outputs": [
        {
          "output_type": "execute_result",
          "data": {
            "text/plain": [
              "[CompletedProcess(args=['yt-dlp', '-o', 'song_output/%(uploader)s___%(title)s___%(id)s___%(duration)d___.%(ext)s', '-x', '--audio-quality', '5', '--audio-format', 'mp3', '--retries', '50', '--force-ipv4', '--ignore-errors', 'https://www.youtube.com/watch?v=KQIsk0ba5q0'], returncode=1),\n",
              " CompletedProcess(args=['yt-dlp', '-o', 'song_output/%(uploader)s___%(title)s___%(id)s___%(duration)d___.%(ext)s', '-x', '--audio-quality', '5', '--audio-format', 'mp3', '--retries', '50', '--force-ipv4', '--ignore-errors', 'https://www.youtube.com/watch?v=Xttlzf0RJwg'], returncode=0),\n",
              " CompletedProcess(args=['yt-dlp', '-o', 'song_output/%(uploader)s___%(title)s___%(id)s___%(duration)d___.%(ext)s', '-x', '--audio-quality', '5', '--audio-format', 'mp3', '--retries', '50', '--force-ipv4', '--ignore-errors', 'https://www.youtube.com/watch?v=H7qtectI-J4'], returncode=1),\n",
              " CompletedProcess(args=['yt-dlp', '-o', 'song_output/%(uploader)s___%(title)s___%(id)s___%(duration)d___.%(ext)s', '-x', '--audio-quality', '5', '--audio-format', 'mp3', '--retries', '50', '--force-ipv4', '--ignore-errors', 'https://www.youtube.com/watch?v=s09KK5vbLHY'], returncode=1),\n",
              " CompletedProcess(args=['yt-dlp', '-o', 'song_output/%(uploader)s___%(title)s___%(id)s___%(duration)d___.%(ext)s', '-x', '--audio-quality', '5', '--audio-format', 'mp3', '--retries', '50', '--force-ipv4', '--ignore-errors', 'https://www.youtube.com/watch?v=E0T7dd6e4IA'], returncode=1),\n",
              " CompletedProcess(args=['yt-dlp', '-o', 'song_output/%(uploader)s___%(title)s___%(id)s___%(duration)d___.%(ext)s', '-x', '--audio-quality', '5', '--audio-format', 'mp3', '--retries', '50', '--force-ipv4', '--ignore-errors', 'https://www.youtube.com/watch?v=HEMSSLQm8O4'], returncode=1),\n",
              " CompletedProcess(args=['yt-dlp', '-o', 'song_output/%(uploader)s___%(title)s___%(id)s___%(duration)d___.%(ext)s', '-x', '--audio-quality', '5', '--audio-format', 'mp3', '--retries', '50', '--force-ipv4', '--ignore-errors', 'https://www.youtube.com/watch?v=Q6kbFBY6990'], returncode=0),\n",
              " CompletedProcess(args=['yt-dlp', '-o', 'song_output/%(uploader)s___%(title)s___%(id)s___%(duration)d___.%(ext)s', '-x', '--audio-quality', '5', '--audio-format', 'mp3', '--retries', '50', '--force-ipv4', '--ignore-errors', 'https://www.youtube.com/watch?v=OaM4lJwn7D8'], returncode=1),\n",
              " CompletedProcess(args=['yt-dlp', '-o', 'song_output/%(uploader)s___%(title)s___%(id)s___%(duration)d___.%(ext)s', '-x', '--audio-quality', '5', '--audio-format', 'mp3', '--retries', '50', '--force-ipv4', '--ignore-errors', 'https://www.youtube.com/watch?v=2tr_-N7_J4E'], returncode=1),\n",
              " CompletedProcess(args=['yt-dlp', '-o', 'song_output/%(uploader)s___%(title)s___%(id)s___%(duration)d___.%(ext)s', '-x', '--audio-quality', '5', '--audio-format', 'mp3', '--retries', '50', '--force-ipv4', '--ignore-errors', 'https://www.youtube.com/watch?v=CPLK6L1fq7k'], returncode=1),\n",
              " CompletedProcess(args=['yt-dlp', '-o', 'song_output/%(uploader)s___%(title)s___%(id)s___%(duration)d___.%(ext)s', '-x', '--audio-quality', '5', '--audio-format', 'mp3', '--retries', '50', '--force-ipv4', '--ignore-errors', 'https://www.youtube.com/watch?v=iTu2ohlFVs0'], returncode=0),\n",
              " CompletedProcess(args=['yt-dlp', '-o', 'song_output/%(uploader)s___%(title)s___%(id)s___%(duration)d___.%(ext)s', '-x', '--audio-quality', '5', '--audio-format', 'mp3', '--retries', '50', '--force-ipv4', '--ignore-errors', 'https://www.youtube.com/watch?v=b7uHGJn_2Ao'], returncode=1),\n",
              " CompletedProcess(args=['yt-dlp', '-o', 'song_output/%(uploader)s___%(title)s___%(id)s___%(duration)d___.%(ext)s', '-x', '--audio-quality', '5', '--audio-format', 'mp3', '--retries', '50', '--force-ipv4', '--ignore-errors', 'https://www.youtube.com/watch?v=xEe9Nsh4zEA'], returncode=1),\n",
              " CompletedProcess(args=['yt-dlp', '-o', 'song_output/%(uploader)s___%(title)s___%(id)s___%(duration)d___.%(ext)s', '-x', '--audio-quality', '5', '--audio-format', 'mp3', '--retries', '50', '--force-ipv4', '--ignore-errors', 'https://www.youtube.com/watch?v=WHmzJm7UWVM'], returncode=0),\n",
              " CompletedProcess(args=['yt-dlp', '-o', 'song_output/%(uploader)s___%(title)s___%(id)s___%(duration)d___.%(ext)s', '-x', '--audio-quality', '5', '--audio-format', 'mp3', '--retries', '50', '--force-ipv4', '--ignore-errors', 'https://www.youtube.com/watch?v=LS1RXZ6qpLc'], returncode=1)]"
            ]
          },
          "metadata": {},
          "execution_count": 51
        }
      ]
    },
    {
      "cell_type": "code",
      "source": [
        "!zip -r /content/song.zip /content/song_output"
      ],
      "metadata": {
        "colab": {
          "base_uri": "https://localhost:8080/"
        },
        "id": "lQRDDNSRwIea",
        "outputId": "19cfb775-c80f-46e7-fc22-f7ece5312c3b"
      },
      "execution_count": 52,
      "outputs": [
        {
          "output_type": "stream",
          "name": "stdout",
          "text": [
            "  adding: content/song_output/ (stored 0%)\n",
            "  adding: content/song_output/Ratna Ariani___SUNG SI KYUNG (성시경) - TWO PEOPLE (두 사람) LYRICS 가사___59YLqazkQ9U___253___.mp3 (deflated 2%)\n",
            "  adding: content/song_output/Lemoring___BTS - Miss Right (방탄소년단 - Miss Right) [Color Coded Lyrics⧸Han⧸Rom⧸Eng⧸가사]___gQEibb19w8k___243___.mp3 (deflated 1%)\n",
            "  adding: content/song_output/Jaeguchi___BTOB(비투비) - 아름답고도 아프구나(Beautiful Pain) LYRICS (Color Coded Eng⧸Rom⧸Han⧸가사)___J57HXP79OjU___240___.mp3 (deflated 1%)\n",
            "  adding: content/song_output/츄러스 ℂ𝕙𝕦𝕣𝕣𝕠𝕤___가사영상 ｜ 김건모 - 혼자만의 사랑___agCddlN1bIk___279___.mp3 (deflated 1%)\n",
            "  adding: content/song_output/AlphaSubs___Paul Kim (폴킴) - Hangover (너도 아는) Lyrics⧸가사 [Han｜Rom｜Eng]___lArgiD9bpdk___230___.mp3 (deflated 1%)\n",
            "  adding: content/song_output/뮤젯 MUSET___저스틴 비버 ｜ “넌 내가 사랑이라고 부를 단 한 사람이야” Justin Bieber - Anyone [가사해석]___seexiwp1da8___191___.mp3 (deflated 1%)\n",
            "  adding: content/song_output/Kayten Park___Connie Talbot - Over The Rainbow (HQ) 영화 오즈의 마법사 OST 가사 ⧸ 해석___Ckn_QhOjUYY___163___.mp3 (deflated 2%)\n",
            "  adding: content/song_output/JulieSuandKnux541___Ghostbusters with lyrics___6xX9IRvhbOM___245___.mp3 (deflated 1%)\n",
            "  adding: content/song_output/Barbra___Real love - Clean Bandit & Jess Glynne (lyrics)___P7NWjbWZylw___222___.mp3 (deflated 1%)\n",
            "  adding: content/song_output/orange jellybean___MAGIC! - Rude (한국어 가사⧸자막⧸해석)___8JCyZsONkGw___228___.mp3 (deflated 1%)\n",
            "  adding: content/song_output/Mr. Probz___Mr. Probz - Waves (Robin Schulz Remix Radio Edit)___pUjE9H8QlA4___231___.mp3 (deflated 1%)\n",
            "  adding: content/song_output/Lemoring___BTS BLACK SWAN Lyrics (방탄소년단 BLACK SWAN 가사) [Color Coded Lyrics⧸Han⧸Rom⧸Eng]____36O75VSuLY___198___.mp3 (deflated 1%)\n",
            "  adding: content/song_output/Helloyellow가사___Brave Girls - Rollin' Lyrics (브레이브걸스 - 롤린 가사) [Color Coded Han⧸Rom⧸Eng]___lOf2RLPdJj8___215___.mp3 (deflated 1%)\n",
            "  adding: content/song_output/STTAYING___천국에서 틀어줄 것 같은 노래 👼🏻 Justin Bieber - Off My Face [가사⧸해석⧸lyrics]___rikm9eS6JAE___157___.mp3 (deflated 2%)\n",
            "  adding: content/song_output/Chaecado ___[조각집 Pieces] 아이유 너 가사 IU You Lyrics ｜ Color Coded ｜ Han⧸Rom⧸Eng___3bB-9DdRZ8Q___207___.mp3 (deflated 1%)\n",
            "  adding: content/song_output/Lemoring___OH MY GIRL Dun Dun Dance Lyrics (오마이걸 던 던 댄스​​ 가사) [Color Coded Lyrics⧸Han⧸Rom⧸Eng]___0l9LB_Noe2Q___225___.mp3 (deflated 1%)\n",
            "  adding: content/song_output/The Muze___찬희(CHA NI)(SF9) - 그리움 (여신강림 OST Part 5) ｜ 가사___m_k69m3pPmo___263___.mp3 (deflated 1%)\n",
            "  adding: content/song_output/할로아___Toploader-Dancing in the moonlight(가사+해석)___RvUzkrrdOI8___232___.mp3 (deflated 2%)\n",
            "  adding: content/song_output/STTAYING___엄마를 조금만 이해해 줄래？ Adele - Easy On Me [가사⧸해석⧸lyrics]___WHmzJm7UWVM___222___.mp3 (deflated 1%)\n",
            "  adding: content/song_output/Florence M-P___Cat Stevens - Wild World (Lyrics)___69kTbYNZvtY___203___.mp3 (deflated 1%)\n",
            "  adding: content/song_output/김지수___이선희 (Lee Sun Hee) - 인연 (Fate) 가사___AMPWpCcLHu4___261___.mp3 (deflated 1%)\n",
            "  adding: content/song_output/Sis Playlist___＂인생이 영화라면, 네가 내 최고의 순간이야＂ Best Part - H.E.R (ft.Daniel Caesar) [가사⧸해석⧸가사해석⧸Lyrics⧸Kor⧸Eng]___rojeIQIBBKM___211___.mp3 (deflated 1%)\n",
            "  adding: content/song_output/Jaeguchi___BTS (방탄소년단) - SO WHAT (Color Coded Lyrics Eng⧸Rom⧸Han)___hytBK5sNFZc___278___.mp3 (deflated 0%)\n",
            "  adding: content/song_output/Music is my life___가호(Gaho) - 시작 (이태원 클라쓰 OST PART.02) ⧸ 가사 ITAEWON CLASS OST___hWYM5QEt0Fg___204___.mp3 (deflated 1%)\n",
            "  adding: content/song_output/Stone Music Entertainment___[슬기로운 의사생활 OST Part 3] 조정석 (CHO JUNG SEOK) - 아로하 (Aloha) MV___3DOkxQ3HDXE___251___.mp3 (deflated 1%)\n",
            "  adding: content/song_output/모가사___(가사⧸한국어자막⧸해석⧸번역)Charlie Puth-How Long___-v_vnTozBvU___198___.mp3 (deflated 1%)\n",
            "  adding: content/song_output/Jaeguchi___BTS Dynamite Lyrics (Color Coded Lyrics)___KhZ5DCd7m6s___198___.mp3 (deflated 0%)\n",
            "  adding: content/song_output/Edmund McMillen___River of Despair (the Binding of Isaac： Repentance OST )___5lvk80pAGqw___248___.mp3 (deflated 1%)\n",
            "  adding: content/song_output/Chaecado ___[THROWBACK] Red Velvet Peek-A-Boo Lyrics (레드벨벳 피카부 가사) ｜ Color Coded ｜ Han⧸Rom⧸Eng___N7gs1wJ5SOM___190___.mp3 (deflated 1%)\n",
            "  adding: content/song_output/쎈언니___볼빨간사춘기 (頬赤い思春期)－「나의 사춘기에게 TO MY YOUTH」LYRICS 가사 한국어___RaMAoj1UfyE___224___.mp3 (deflated 1%)\n",
            "  adding: content/song_output/Jaeguchi___Wanna One (워너원) 남바완 - 11(Eleven) (feat. Dynamic Duo 다이나믹듀오) (Color Coded Lyrics Eng⧸Rom⧸Han)___vJSzKV5DXy8___211___.mp3 (deflated 1%)\n",
            "  adding: content/song_output/Ed Sheeran___Rudimental Feat. Ed Sheeran Lay It All On Me [Official Audio]___yeWbMjr0rRk___243___.mp3 (deflated 1%)\n",
            "  adding: content/song_output/Lyrical Music___Lady Gaga & Bradley Cooper -  I Don't Know What Love Is (Lyrics)___jqRMgM3u0pk___214___.mp3 (deflated 1%)\n",
            "  adding: content/song_output/Pixiegnom___Marc Cohn - Walking in memphis (with lyrics)___YFEB9xLeLmY___251___.mp3 (deflated 1%)\n",
            "  adding: content/song_output/해능 Hongchayang___Backstreet Boys - I Want It That Way [가사해석⧸번역]___1lv7ypjfiE4___216___.mp3 (deflated 1%)\n",
            "  adding: content/song_output/절리___이 세상 힙함이 아님🍑 ： Justin Bieber - Peaches (Feat. Daniel Caesar, Giveon) [가사⧸자막⧸해석]___GWNODbG9AIM___196___.mp3 (deflated 1%)\n",
            "  adding: content/song_output/Lee So Ra - Topic___사랑이 아니라 말하지 말아요___lMUio3kcuWY___216___.mp3 (deflated 1%)\n",
            "  adding: content/song_output/Lemoring___BTS Jin - Tonight (방탄소년단 진 - 이 밤) [Color Coded Lyrics⧸Han⧸Rom⧸Eng⧸가사]___xMFVyP2npjM___186___.mp3 (deflated 2%)\n",
            "  adding: content/song_output/Timeless Tracks___Earth, Wind & Fire - September (Lyrics)___DlSsIKn3HTU___215___.mp3 (deflated 0%)\n",
            "  adding: content/song_output/emily wilcutt___With A Little Help From My Friends - The Beatles ｜ 8D Audio with Lyrics___EHl_eQhgefw___164___.mp3 (deflated 1%)\n",
            "  adding: content/song_output/AlphaSubs___Sejeong (세정) - Meet Again (재회 (再會) The Uncanny Counter OST Part 2 [경이로운 소문] Lyrics⧸가사 [Han｜Rom｜Eng]___a3PRXZo9sUI___295___.mp3 (deflated 1%)\n",
            "  adding: content/song_output/호중300___임영웅 ⧸ 어느 60대 노부부 이야기 ⧸ 미스터트롯 트롯에이드 에이스전 [가사자막]___0pU68y2_o-E___287___.mp3 (deflated 1%)\n",
            "  adding: content/song_output/Jaeguchi___태연 (TAEYEON) - 사계 (Four Seasons) (가사 Eng⧸Rom⧸Han⧸Lyrics)___5haSQXYoVwg___190___.mp3 (deflated 1%)\n",
            "  adding: content/song_output/알아조Ara Jo___👊🏼 이젠 준비됐어 ｜ Adele (아델) - Strangers By Nature [한국어 가사 해석⧸KOR SUB⧸Lyrics]___W40ULozXRSY___181___.mp3 (deflated 1%)\n",
            "  adding: content/song_output/Jaeguchi___BTS (방탄소년단) V 'Scenery (풍경)' Lyrics___f3YhK-oZmY8___294___.mp3 (deflated 1%)\n",
            "  adding: content/song_output/THE SIM___Eric Clapton - Tears in heaven[가사⧸가사해석]___AmUDY-jgh8k___272___.mp3 (deflated 1%)\n",
            "  adding: content/song_output/.ipynb_checkpoints/ (stored 0%)\n",
            "  adding: content/song_output/STTAYING___눈물나는 띵곡 모르는 사람 있나？ Slander - Love Is Gone (acoustic)  [가사⧸해석⧸lyrics]___34Tmi7gVzcE___178___.mp3 (deflated 1%)\n",
            "  adding: content/song_output/태일___트와이스 (TWICE) - FANCY LYRICS 가사 한국어___p6AaOJI0vKo___217___.mp3 (deflated 1%)\n",
            "  adding: content/song_output/Music is my life___양요섭 X 정은지 - LOVE DAY (바른연애 길잡이 X 양요섭, 정은지) ⧸ 가사___iTu2ohlFVs0___258___.mp3 (deflated 1%)\n",
            "  adding: content/song_output/Lemoring___BTS V - Winter Bear (방탄소년단 뷔 - Winter Bear) [Color Coded Lyrics⧸Eng⧸가사] (한국어 자막)___QjB-tbddYfk___175___.mp3 (deflated 1%)\n",
            "  adding: content/song_output/THE SIM___Elvis Presley(엘비스 프레슬리) - Can't help falling in love [가사⧸가사해석]___9JbSeQ9tn44___181___.mp3 (deflated 1%)\n",
            "  adding: content/song_output/석숭___Bee Gees- How Deep Is Your Love (비 지스-당신의 사랑은 얼마나 깊나요)1977, 가사 한글자막___XSYINOS7bnI___245___.mp3 (deflated 1%)\n",
            "  adding: content/song_output/Jaeguchi___IU (아이유) ＂eight (에잇) (feat. BTS SUGA)＂ (Color Coded Lyrics Eng⧸Rom⧸Han⧸가사)___yFkvinwYbes___167___.mp3 (deflated 1%)\n",
            "  adding: content/song_output/HoonBee - 80s POP Lyrics___[한글가사⧸해석] Alphaville(알파빌) - Forever Young [Lyrics]___87c9IVqYwMc___227___.mp3 (deflated 1%)\n",
            "  adding: content/song_output/OneVIEW___자스민 'Speechless' 장면 ｜ 알라딘 (Aladdin, 2019) [4K]___UHwJFkfqaaI___200___.mp3 (deflated 3%)\n",
            "  adding: content/song_output/사랑후___The Prayer - Celine Dion with Andrea Bocelli___XDmtINAEIGs___268___.mp3 (deflated 1%)\n",
            "  adding: content/song_output/세상을 쓰는 사람~♡___♪. 윤하 (Younha) - 기다리다 (Waiting) [가사⧸Lyrics]___ByQsSmckjQg___277___.mp3 (deflated 1%)\n",
            "  adding: content/song_output/Lemoring___Hwasa Maria Lyrics (화사 마리아 가사) [Color Coded Lyrics⧸Han⧸Rom⧸Eng]___I7kLrE9N8Q0___199___.mp3 (deflated 1%)\n",
            "  adding: content/song_output/기몽초___여자는 갈아 치웠으면서, 왜 바뀐 건 없니 ： Olivia Rodrigo - deja vu [가사⧸해석⧸자막⧸lyrics]___ozbU_qheL6A___215___.mp3 (deflated 1%)\n",
            "  adding: content/song_output/Pelapik Kaki ___Zedd - Find You ft. Matthew Koma, Miriam Bryant (lyrics)___OLklBYxL-jA___204___.mp3 (deflated 1%)\n",
            "  adding: content/song_output/김지수___아이유 (IU) - 가을 아침 (Autumn Morning) 가사___-Mm7LvWL2ms___219___.mp3 (deflated 1%)\n",
            "  adding: content/song_output/해능 Hongchayang___Hailee Steinfeld, Grey & Zedd - Starving [가사해석⧸번역]____4KRwXHBs8Q___181___.mp3 (deflated 1%)\n",
            "  adding: content/song_output/AlphaSubs___AKMU (악뮤), Sam Kim (샘김) - 'EVEREST' Color Coded Lyrics⧸가사 [Han｜Rom｜Eng]___ghUd7tpi4xg___226___.mp3 (deflated 1%)\n",
            "  adding: content/song_output/스테파니Stephanie___워너원 Wanna One 부메랑 BOOMERANG 가사 Lyrics___uY5S5XNCYtE___184___.mp3 (deflated 0%)\n",
            "  adding: content/song_output/MPS My Personal Space___송이한(Song I Han) - 밝게 빛나는 별이 되어 비춰줄게 (I will be your shining star) ⧸  가사(Lyrics)___hzBxmkXqCC8___224___.mp3 (deflated 1%)\n",
            "  adding: content/song_output/랙쑈랙쑈___[한글자막] 쓰르라미 울 적에 OST ｜ YOU___0dzgqAIHH_I___213___.mp3 (deflated 1%)\n",
            "  adding: content/song_output/gyeranbbang___[ENG SUB] 윤건 (YOON GUN) - 너도 그냥 날 놓아주면 돼 (Just Let Me Go) Lyrics⧸가사___6rDSn_a4PiY___250___.mp3 (deflated 1%)\n",
            "  adding: content/song_output/Music is my life___이하이 - 그 한마디 (바른연애 길잡이 X 이하이) ⧸ 가사___Z4-S4zfCEdQ___220___.mp3 (deflated 1%)\n",
            "  adding: content/song_output/러브팝 Love Pop___[미친콜라보조합] My Universe - Coldplay X BTS 콜드플레이 방탄소년단 가사해석___2TTZsp29LwU___228___.mp3 (deflated 1%)\n",
            "  adding: content/song_output/소니뮤직코리아 Sony Music Korea___[한글자막뮤비] DJ Khaled - No Brainer (feat. Justin Bieber, Chance the Rapper, Quavo)___W4qsT-CFVdA___265___.mp3 (deflated 1%)\n",
            "  adding: content/song_output/orange jellybean___Zayn Malik & Taylor Swift - I Don't Wanna Live Forever (가사⧸해석⧸한국어 자막)___Hv5eq11sm9o___249___.mp3 (deflated 1%)\n",
            "  adding: content/song_output/김업더___[가사⧸자막] 비틀즈 (The Beatles) - Yesterday___WZ0iKKBPhoY___169___.mp3 (deflated 6%)\n",
            "  adding: content/song_output/jajerzy___Joe Cocker - You're so beautiful (lyrics)___xsOSt3hNRY0___199___.mp3 (deflated 1%)\n",
            "  adding: content/song_output/김지수___아이유 (IU) - 밤편지 (Through the Night) [Palette] 가사___M9CS63PDyJ0___252___.mp3 (deflated 1%)\n",
            "  adding: content/song_output/Lemoring___BTS Anpanman Lyrics (방탄소년단 Anpanman 가사) [Color Coded Lyrics⧸Han⧸Rom⧸Eng]___lK0PzBcnk-o___230___.mp3 (deflated 0%)\n",
            "  adding: content/song_output/Musefan B___Feeling Good - Muse (lyrics)___wqqnxEmSOB4___200___.mp3 (deflated 1%)\n",
            "  adding: content/song_output/AlphaSubs___하성운 (HA SUNG WOON) - Remember You [문득] Color Coded 가사⧸Lyrics [Han｜Rom｜Eng]___C5WPm9cAx84___234___.mp3 (deflated 1%)\n",
            "  adding: content/song_output/seventeenlyrics___[LYRICS⧸가사] SEVENTEEN (세븐틴) - 9-TEEN (A-TEEN 2 Webdrama OST)___WcA6ahx1K8Y___198___.mp3 (deflated 1%)\n",
            "  adding: content/song_output/알파___호미들 - 사이렌 Remix (Feat. UNEDUCATED KID, Paul Blanco) [사이렌 Remix]ㅣLyrics⧸가사___szj8w-5nqE4___197___.mp3 (deflated 1%)\n",
            "  adding: content/song_output/Jeon Jin-hee - Topic___취했네 (with 곽진언)___bhaK9JQsn-o___230___.mp3 (deflated 1%)\n",
            "  adding: content/song_output/Jaeguchi___BTS (방탄소년단) - PARADISE (낙원) (Color Coded Lyrics Eng⧸Rom⧸Han)___3g60P1VD2Lc___209___.mp3 (deflated 1%)\n",
            "  adding: content/song_output/orange jellybean___Avicii - Hey Brother (한국어 가사⧸해석⧸자막)___enuezQKyEhg___252___.mp3 (deflated 1%)\n",
            "  adding: content/song_output/Lemoring___BTS ON Lyrics (방탄소년단 ON 가사) [Color Coded Lyrics⧸Han⧸Rom⧸Eng]___7H--xOlbB9M___247___.mp3 (deflated 1%)\n",
            "  adding: content/song_output/Jaeguchi___Wanna One (워너원) Triple Position - 캥거루 (Kangaroo) (feat. ZICO) (Color Coded Lyrics Eng⧸Rom⧸Han⧸가사)___8S0iH0DtfVM___223___.mp3 (deflated 0%)\n",
            "  adding: content/song_output/THE SIM___Frank Sinatra - My Way [가사⧸가사해석]___NWu5qR-xpbc___277___.mp3 (deflated 1%)\n",
            "  adding: content/song_output/Music is my life___전상근 - 사랑은 지날수록 더욱 선명하게  남아 ⧸ 가사___o6QeCDp2oyU___264___.mp3 (deflated 1%)\n",
            "  adding: content/song_output/조룡진 ʀʏᴏɴɢᴊɪɴ___기리보이 (Giriboy) - 하루종일 (Feat. DJ SQ & 한요한) .lyrics___oORJaKroxJA___219___.mp3 (deflated 1%)\n",
            "  adding: content/song_output/myraclexx___N.Flying (엔플라잉) - Rooftop (옥탑방) Lyrics [Color Coded-Han⧸Rom⧸Eng]___3jzBzplq_GI___211___.mp3 (deflated 1%)\n",
            "  adding: content/song_output/table w___Billie Eilish - No Time To Die 한글⧸가사⧸해석___GqSib3l5kRQ___239___.mp3 (deflated 1%)\n",
            "  adding: content/song_output/시소___Westlife(웨스트라이프) - Uptown Girl [가사해석⧸발음⧸한글⧸자막⧸번역⧸lyrics] #1___Ki1Y-pTewxA___186___.mp3 (deflated 1%)\n",
            "  adding: content/song_output/Hello, My Music Player___백예린 (Yerin Baek) - Square (2017) ｜ 가사___421QbDCcBAc___262___.mp3 (deflated 1%)\n",
            "  adding: content/song_output/김재환 KIM JAEHWAN___어떤 날엔 Someday___AbUPBQ2C-O0___259___.mp3 (deflated 1%)\n",
            "  adding: content/song_output/HanabiTomoLyrics OST___[Sung Shi Kyung] Every Moment of You (너의 모든 순간) YWCFTS OST (Hangul⧸Romanized⧸English Sub) Lyrics___BciTZBx5YD0___244___.mp3 (deflated 1%)\n",
            "  adding: content/song_output/Hup___La La Land - ＂City of stars＂ scene___VFUos9sYbHs___280___.mp3 (deflated 1%)\n",
            "  adding: content/song_output/riikeu___[ 가사 해석 ] AURORA - Runaway___gOP9jGf3EGA___246___.mp3 (deflated 1%)\n",
            "  adding: content/song_output/ROCKOP LYRICS WORLD___CHICAGO IF YOU LEAVE ME NOW KOR SUB 한글자막 LYRICS___8g-cF9H53lU___230___.mp3 (deflated 10%)\n",
            "  adding: content/song_output/Music is my life___아이유(IU) - 마음을 드려요 (사랑의 불시착 OST PART.11) ⧸ 가사___MUSaT2B7Lt8___282___.mp3 (deflated 1%)\n",
            "  adding: content/song_output/알파___릴보이 (lIlBOI) - 내일이 오면 (Feat. 기리보이, BIG Naughty (서동현)) [쇼미더머니 9 Episode 3]ㅣLyrics⧸가사___e0--itBVfa0___276___.mp3 (deflated 1%)\n",
            "  adding: content/song_output/가늘YouTube___워너원(Wanna One) - 너의 이름을(I'll remember) 가사___x_xVCkxNSF8___213___.mp3 (deflated 1%)\n",
            "  adding: content/song_output/Jaeguchi___BTOB (비투비) - THE FEELING (Color Coded Lyrics Eng⧸Rom⧸Han) 가사___IRSJ15kWLx0___236___.mp3 (deflated 0%)\n",
            "  adding: content/song_output/Mnet TV___Wanna One Go [최초공개] Wanna One - ′12번째 별′ 181122 EP.23___MqVY7mMMioc___243___.mp3 (deflated 6%)\n",
            "  adding: content/song_output/Tawnya Youn 타냐윤___Imagine Dragons - Thunder 썬더 (한국어 자막⧸가사⧸해석)___s-m0eId06oQ___217___.mp3 (deflated 2%)\n",
            "  adding: content/song_output/BANGTANTV___Abyss by Jin___aqtSOksH-NE___155___.mp3 (deflated 1%)\n",
            "  adding: content/song_output/DisneyMusicKoreaVEVO___Hye Na Park, AURORA - 숨겨진 세상 (From “겨울왕국 2”⧸Sing-Along)___xTzaswTXXe0___209___.mp3 (deflated 1%)\n",
            "  adding: content/song_output/orange jellybean___Queen - Love of my life (한국어 가사⧸해석⧸자막)___bX-aT6S8R58___212___.mp3 (deflated 1%)\n",
            "  adding: content/song_output/직키(Zickii)___[한국어 가사 해석] Mabel - Don't Call Me Up (2019)___ye_MJNiIdgQ___179___.mp3 (deflated 1%)\n",
            "  adding: content/song_output/# 119___Hug Me (안아줘) - Jung Joon Il (정준일) [Eng sub, Romanization, Hangul]___8ogyHesy5fI___277___.mp3 (deflated 1%)\n",
            "  adding: content/song_output/Melody DanceFit___Havana Camila Cabello Young Thug Dance Fitness -Melody DanceFit___gQkI4hvqPCs___225___.mp3 (deflated 1%)\n",
            "  adding: content/song_output/VINCENYEON___AKMU⧸AKDONG MUSICIAN - LAST GOODBYE (ColorCoded Han⧸Rom⧸Eng Lyrics)  l By ： HoshVi___cBC6c99OrOM___288___.mp3 (deflated 1%)\n",
            "  adding: content/song_output/zhezi_nana___Wanna One (워너원) - '불꽃놀이 [Flowerbomb]’ (Prod.하성운) F⧸M⧸V___oSjhKjXSriY___247___.mp3 (deflated 6%)\n",
            "  adding: content/song_output/팝송듣는슈크림___Zedd, Maren Morris, Grey -The Middle(한글가사⧸해석)___D9pkYEoUmV8___185___.mp3 (deflated 1%)\n",
            "  adding: content/song_output/석숭___Up Where We Belong -Joe Cocke & Jennifer Warnes ( 우리가 가야할 곳-조 코커와 제니퍼 원스)1982, 가사 한글자막___JU31djjSyIg___232___.mp3 (deflated 0%)\n",
            "  adding: content/song_output/Slovvly 슬로우리___[가사⧸해석] 내 인생을 망치러 온 나의 구원자ㅣ저스틴 비버 Justin Bieber - Off My Face___ChQzo5NWXkc___157___.mp3 (deflated 2%)\n",
            "  adding: content/song_output/MiRae Lee___가사가 있다면？⎮히사이시조 - Summer 영화 기쿠지로의 여름을 봤다면!⎮기쿠지로의 여름 OST 재창조 음악___32weHutf_YI___154___.mp3 (deflated 1%)\n",
            "  adding: content/song_output/JungShook Lyrics___BTS (방탄소년단) - AIRPLANE PT 2 ｜ 가사 한국어___F_74JqOubxk___219___.mp3 (deflated 1%)\n",
            "  adding: content/song_output/Hello, My Music Player___산들 - 취기를 빌려 (취향저격 그녀 X 산들) ｜ 가사___d2ytH5mymWY___228___.mp3 (deflated 1%)\n",
            "  adding: content/song_output/왓다이어리What Diary___[가사,번역,자막,해석,한국어]Boyfriend-Ariana Grande, Social House(아리아나 그란데, 소셜 하우스)___6K9zmuaaRSM___193___.mp3 (deflated 2%)\n",
            "  adding: content/song_output/Lemoring___IU Blueming Lyrics (아이유 블루밍 가사) [Color Coded Lyrics⧸Han⧸Rom⧸Eng]___iqRkTGkAs9I___248___.mp3 (deflated 1%)\n",
            "  adding: content/song_output/김지수___십센치 (10cm) - 스토커 (Stalker) 가사___Laf1o9NEjcI___253___.mp3 (deflated 1%)\n",
            "  adding: content/song_output/Jaeguchi___Crush, Taeyeon 'Let Me Go' Lyrics (크러쉬 태연 놓아줘 가사) (Color Coded Lyrics)___LuK_rcNy56g___211___.mp3 (deflated 1%)\n",
            "  adding: content/song_output/SuperbLyrics___Crying For No Reason - Katy B (Lyrics)___8cQFayyl_YQ___245___.mp3 (deflated 1%)\n",
            "  adding: content/song_output/orange jellybean___Maroon 5 (Feat. Cardi B) - Girls like you (한국어 가사⧸해석⧸자막)___lUapkbzxQmM___234___.mp3 (deflated 1%)\n",
            "  adding: content/song_output/쿠스의 올드팝___Richard Marx - Right Here Waiting(가사⧸번역)___-sMibx1b4uw___265___.mp3 (deflated 1%)\n",
            "  adding: content/song_output/ClsQ___Jung Seung Hwan (정승환) - Day & Night ｜ START-UP OST Part. 2 (스타트업) MV (ENG⧸IND)___uweUzMytVcM___260___.mp3 (deflated 1%)\n",
            "  adding: content/song_output/10CM_Official___Borrow your night (Romance 101 X 10CM) (이 밤을 빌려 말해요 (바른연애 길잡이 X...___Y_8aUSyNM9Y___188___.mp3 (deflated 1%)\n",
            "  adding: content/song_output/달곰Dalgom___장범준 Jang Beom June 잠이 오질 않네요 Can't Sleep 가사 Lyrics___77r5yVlw_u4___275___.mp3 (deflated 1%)\n",
            "  adding: content/song_output/AlphaSubs___Chen (첸) - Your Moonlight [너의 달빛] Do You Like Brahms？ OST 3 [브람스를 좋아하세요 OST] Lyrics⧸가사 [Han｜Rom｜Eng]___qGL0AgIWtcA___226___.mp3 (deflated 1%)\n",
            "  adding: content/song_output/팝송리더POP SONG LEADER___Ed Sheeran - Thinking Out Loud [가사⧸해석]___GzWV5nUTjB8___289___.mp3 (deflated 2%)\n",
            "  adding: content/song_output/내플리___들을수록 기분이 좋아지는 Ariana Grande, The Weeknd - Love Me Harder (가사⧸해석⧸Lyrics)___p1A4ucqElBE___234___.mp3 (deflated 1%)\n",
            "  adding: content/song_output/Lemoring___IU Next Stop Lyrics (아이유 정거장 가사) [Color Coded Lyrics⧸Han⧸Rom⧸Eng]___Q6kbFBY6990___241___.mp3 (deflated 1%)\n",
            "  adding: content/song_output/tvple왼부___[티비플] 역대급 개 오지는 PPAP 아재 라이브 끝까지봐야한다 ㅋㅋㅋㅋ___nMJnBWPZyK8___279___.mp3 (deflated 1%)\n",
            "  adding: content/song_output/석숭___Enya -Only Time (엔야 - 오직 시간만이) 가사 한글자막___vUlDo8T2gWI___213___.mp3 (deflated 1%)\n",
            "  adding: content/song_output/Jaeguchi___BTS (방탄소년단) - Boy With Luv (작은 것들을 위한 시) feat. Halsey (Color Coded Lyrics Eng⧸Rom⧸Han⧸가사)___OEnvXsyGZmU___232___.mp3 (deflated 1%)\n",
            "  adding: content/song_output/마광___[영화 OST ⧸ 영화음악] 라이온 킹 - Elton John ＂Can you feel the love tonight＂  (한,영 가사 자막)___Y2hgXc4QcwY___216___.mp3 (deflated 1%)\n",
            "  adding: content/song_output/쎈언니___블랙핑크 (ブラックピンク)－「뚜두뚜두 DDU-DU DDU-DU」 [LYRICS] 가사 한국어___wgL1tkdgi6Y___210___.mp3 (deflated 1%)\n",
            "  adding: content/song_output/Ken Oertel___Ray Charles Georgia on my mind   Lyrics___RkcX2Cyn9DA___219___.mp3 (deflated 1%)\n",
            "  adding: content/song_output/담요이불___Try-Colbie Caillat 가사 해석⧸한글 자막___0m3_vnJrtyo___225___.mp3 (deflated 1%)\n",
            "  adding: content/song_output/기몽초___Billie Eilish -  Bad Guy [가사⧸해석⧸자막]___YaVZH20o7Ds___206___.mp3 (deflated 2%)\n",
            "  adding: content/song_output/orange jellybean___Anne Marie - 2002 (한국어 가사⧸해석⧸자막)___vZofi2hgiAE___189___.mp3 (deflated 1%)\n",
            "  adding: content/song_output/심모씨___[ 귀멸의 칼날 오프닝 OP] LISA - 홍련화 (full) 가사⧸발음⧸해석 鬼滅の刃(Demon Slayer) - 紅蓮華___s1XE3qlw654___236___.mp3 (deflated 1%)\n",
            "  adding: content/song_output/SEMUDA___Coldplay - Adventure of a Lifetime (lyrics)___8Zb_6MgnjkE___228___.mp3 (deflated 1%)\n",
            "  adding: content/song_output/Sia___Sia - Reaper (Official Audio)___XeM0lzQhigg___221___.mp3 (deflated 1%)\n",
            "  adding: content/song_output/돼지꼬리땡야___Coldplay - Hymn For The Weekend [가사해석⧸번역⧸자막]___ZI8hKsuBP8E___227___.mp3 (deflated 1%)\n",
            "  adding: content/song_output/Hello, My Music Player___볼빨간사춘기 (BOL4) - 나비와 고양이 (Leo) (feat. 백현 (BAEKHYUN)) ｜ 가사___0dZnf09g77g___188___.mp3 (deflated 1%)\n",
            "  adding: content/song_output/Lemoring___IU LILAC Lyrics (아이유 라일락 가사) [Color Coded Lyrics⧸Han⧸Rom⧸Eng]___W475_MHV_EU___245___.mp3 (deflated 1%)\n",
            "  adding: content/song_output/Music is my life___적재 - 나랑 같이 걸을래 (바른연애 길잡이 X 적재) ⧸ 가사___26YwXUcUf4I___259___.mp3 (deflated 1%)\n",
            "  adding: content/song_output/Impertiam___Daft Punk- harder better faster stronger [한글⧸영어자막] 단단하게 더 좋게 빠르게 강하게___DZtckM41zGU___226___.mp3 (deflated 1%)\n",
            "  adding: content/song_output/Fab Music___Lean On - Major Lazer DJ Snake (Lyrics) ｜ Fab Music___NEjF9np9_NU___176___.mp3 (deflated 1%)\n",
            "  adding: content/song_output/Coco Jeong___축제와 사랑 - Edith Piaf, La Foule (가사⧸해석)___oFVpf4pw5AI___179___.mp3 (deflated 5%)\n",
            "  adding: content/song_output/Jaeguchi___BTS (방탄소년단) - I'm Fine (Color Coded Lyrics Eng⧸Rom⧸Han⧸가사)___tGVjM8b3Xwo___240___.mp3 (deflated 1%)\n",
            "  adding: content/song_output/Adam Howard___Feeling Good -Nina Simone (Lyrics)___LR1bWhdoIXM___182___.mp3 (deflated 2%)\n",
            "  adding: content/song_output/알파___ASH ISLAND - 멜로디 [멜로디]ㅣLyrics⧸가사___NB8LX6A5BBM___182___.mp3 (deflated 1%)\n",
            "  adding: content/song_output/The Muze___숀(SHAUN) - 닫힌엔딩 (Closed Ending) ｜ 가사___ElRzpodI8Ms___253___.mp3 (deflated 1%)\n",
            "  adding: content/song_output/Lemoring___BTS Butter Lyrics (방탄소년단 Butter 가사) [Color Coded Lyrics⧸Eng]___jH--Wof3HfQ___171___.mp3 (deflated 2%)\n",
            "  adding: content/song_output/KimHerV___Linkin Park ＂In The End＂ 린킨파크 가사⧸해석⧸번역___p2hMT1oUSyE___216___.mp3 (deflated 1%)\n",
            "  adding: content/song_output/kim jihye___Momoland (모모랜드) – Bboom Bboom (뿜뿜) Lyrics (Han｜Rom｜Eng｜Color Coded)___cMl9_IixsGk___209___.mp3 (deflated 0%)\n",
            "  adding: content/song_output/Amal As___장범준(Jang Beom June)–흔들리는 꽃들 속에서 네 샴푸향이 느껴진거야(Your Shampoo Scent In the Flowers) Lyrics(Han⧸Rom⧸Eng)___bILNlx91f2o___170___.mp3 (deflated 1%)\n",
            "  adding: content/song_output/Lemoring___BTS - Make It Right (방탄소년단 - Make It Right) [Color Coded Lyrics⧸Han⧸Rom⧸Eng⧸가사]___F2mbAkat5n8___233___.mp3 (deflated 2%)\n",
            "  adding: content/song_output/Thxx H___BIGBANG - 'FLOWER ROAD (꽃길)' Lyrics [Han-Rom-Eng]___3GnCKBfbgN8___227___.mp3 (deflated 1%)\n",
            "  adding: content/song_output/Music is my life___펀치 (punch) - Done For Me (호텔 델루나 OST PART.12) ⧸ 가사___kVawGbSxoKM___232___.mp3 (deflated 1%)\n",
            "  adding: content/song_output/MPS My Personal Space___마미손(Mommy Son) - 사랑은 (Love is) (Feat. 원슈타인(Wonstein)) ⧸ 가사(Lyrics)___Ex_DlK0dLgE___206___.mp3 (deflated 1%)\n",
            "  adding: content/song_output/Jaeguchi___BTS (방탄소년단) - IDOL (Color Coded Lyrics Eng⧸Rom⧸Han⧸가사)___vgJeQvGYYpk___222___.mp3 (deflated 1%)\n",
            "  adding: content/song_output/Hello, My Music Player___잔나비 (JANNABI) - 주저하는 연인들을 위해 (For Lovers Who Hesitate) ｜ 가사___5g4KsIizYhQ___266___.mp3 (deflated 1%)\n",
            "  adding: content/song_output/DAITSONG MUSIC___장범준 - 추적이는 여름 비가 되어 ⧸ Jang Beom June – As You Wish ⧸ 가사___o6qY2xsP66k___275___.mp3 (deflated 1%)\n",
            "  adding: content/song_output/Lemoring___BTS Fly To My Room Lyrics (방탄소년단 내 방을 여행하는 법 가사) [Color Coded Lyrics⧸Han⧸Rom⧸Eng]___jI_m5l4N3ys___222___.mp3 (deflated 1%)\n",
            "  adding: content/song_output/사이프러스2.2___Vincent 가사 한글자막___bk-82ebJyZ0___240___.mp3 (deflated 1%)\n",
            "  adding: content/song_output/orange jellybean___Clean Bandit (feat. Jess Glynne) - Rather Be (한국어 가사⧸해석⧸자막)___IwJnTCHtpVU___227___.mp3 (deflated 1%)\n",
            "  adding: content/song_output/쎈언니___김광진 (KIM KWANG JIN)－「편지 THE LETTER」LYRICS 가사 한국어___D_1OStc6Cm4___282___.mp3 (deflated 1%)\n",
            "  adding: content/song_output/조가비___퀸-Too Much Love Will Kill You 가사 한글 번역___iHyP6jRt55g___263___.mp3 (deflated 1%)\n",
            "  adding: content/song_output/팝송이야기___What do you mean - Justin bieber 한글 자막 해석 번역___bPV_j9KraKc___206___.mp3 (deflated 1%)\n",
            "  adding: content/song_output/Jaeguchi___WENDY Like Water Lyrics (웬디 Like Water 가사) (Color Coded Lyrics)___zg5CKsgPM0c___262___.mp3 (deflated 1%)\n",
            "  adding: content/song_output/orange jellybean___Charlie Puth - Attention (한국어 자막⧸해석⧸가사)___SsWEqDt3LXk___208___.mp3 (deflated 1%)\n",
            "  adding: content/song_output/기몽초___🏆 그래미 어워드 3관왕 ： Olivia Rodrigo - drivers license [가사⧸해석⧸자막⧸lyrics]___WVNX-DWNeQk___247___.mp3 (deflated 1%)\n",
            "  adding: content/song_output/시바캡틴___Sam Smith - I'm Not The Only One 한글가사, 해석___7BJgdu4V4kQ___239___.mp3 (deflated 1%)\n",
            "  adding: content/song_output/orange jellybean___Coldplay - Everglow (한국어 자막⧸해석⧸가사)___XkB35_TkUag___282___.mp3 (deflated 1%)\n",
            "  adding: content/song_output/자급자족하는폴랑___[가사 번역] 여긴 우리의 낙원이자 전쟁터야 ： 제인(ZAYN) - Pillowtalk___Xttlzf0RJwg___203___.mp3 (deflated 1%)\n",
            "  adding: content/song_output/Music is my life___악동뮤지션(AKMU) - 어떻게 이별까지 사랑하겠어, 널 사랑하는 거지 ⧸ 가사___mZz9uYdj_v4___290___.mp3 (deflated 1%)\n",
            "  adding: content/song_output/FlamSparks___How far I'll go (Korean) Lyrics & Translation___llEP2h4Ex1Q___161___.mp3 (deflated 3%)\n",
            "  adding: content/song_output/Jaeguchi___Wanna One (워너원) - 술래 (Hide and Seek) (Color Coded Lyrics Eng⧸Rom⧸Han⧸가사)___aIl8wqIiyu8___190___.mp3 (deflated 1%)\n",
            "  adding: content/song_output/감자탕Gamjatang___Queen - We Are The Champions (한글 가사 해석)___8leRk0zaBRg___181___.mp3 (deflated 1%)\n"
          ]
        }
      ]
    },
    {
      "cell_type": "code",
      "source": [
        "!cp /content/song.zip /content/drive/MyDrive"
      ],
      "metadata": {
        "id": "W74L6Sq5wmtt"
      },
      "execution_count": 53,
      "outputs": []
    },
    {
      "cell_type": "code",
      "source": [],
      "metadata": {
        "id": "fWOXyMiRwt1f"
      },
      "execution_count": null,
      "outputs": []
    }
  ]
}